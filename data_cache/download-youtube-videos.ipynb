{
 "cells": [
  {
   "cell_type": "code",
   "execution_count": 1,
   "id": "6d9553b7",
   "metadata": {},
   "outputs": [],
   "source": [
    "import datetime\n",
    "from typing import List\n",
    "from functools import cache\n",
    "\n",
    "from youtube_transcript_api import YouTubeTranscriptApi\n",
    "\n",
    "\n",
    "def format_timestamp(seconds: float) -> str:\n",
    "    \"\"\"Convert seconds to H:MM:SS if > 1 hour, else M:SS\"\"\"\n",
    "    total_seconds = int(seconds)\n",
    "    hours, remainder = divmod(total_seconds, 3600)\n",
    "    minutes, secs = divmod(remainder, 60)\n",
    "\n",
    "    if hours > 0:\n",
    "        return f\"{hours}:{minutes:02}:{secs:02}\"\n",
    "    else:\n",
    "        return f\"{minutes}:{secs:02}\"\n",
    "\n",
    "\n",
    "def make_subtitles(transcript) -> str:\n",
    "    lines = []\n",
    "\n",
    "    for entry in transcript:\n",
    "        ts = format_timestamp(entry.start)\n",
    "        text = entry.text.replace('\\n', ' ')\n",
    "        lines.append(ts + ' ' + text)\n",
    "\n",
    "    return '\\n'.join(lines)\n",
    "\n",
    "\n",
    "def fetch_transcript(video_id):\n",
    "    ytt_api = YouTubeTranscriptApi()\n",
    "    transcript = ytt_api.fetch(video_id)\n",
    "    return transcript"
   ]
  },
  {
   "cell_type": "code",
   "execution_count": 2,
   "id": "496780df",
   "metadata": {},
   "outputs": [
    {
     "data": {
      "text/plain": [
       "PosixPath('/Users/kasteion/repos/kasteion/ai-bootcamp/data_cache/youtube_videos')"
      ]
     },
     "execution_count": 2,
     "metadata": {},
     "output_type": "execute_result"
    }
   ],
   "source": [
    "from pathlib import Path\n",
    "\n",
    "data_dir = Path('youtube_videos') \n",
    "data_dir.mkdir(exist_ok=True)\n",
    "data_dir.absolute()"
   ]
  },
  {
   "cell_type": "code",
   "execution_count": 3,
   "id": "42f12cc5",
   "metadata": {},
   "outputs": [],
   "source": [
    "def download(video_id):\n",
    "    result = data_dir / (video_id + '.txt')\n",
    "\n",
    "    if result.exists():\n",
    "        print(f'{result} already exists, skipping it')\n",
    "        return\n",
    "\n",
    "    transcript = fetch_transcript(video_id)\n",
    "    subtitles = make_subtitles(transcript)\n",
    "    result.write_text(subtitles, encoding='utf-8')\n",
    "\n",
    "    print(f'saved subtitles to {result}')"
   ]
  },
  {
   "cell_type": "code",
   "execution_count": 4,
   "id": "1179c03a",
   "metadata": {},
   "outputs": [],
   "source": [
    "import requests"
   ]
  },
  {
   "cell_type": "code",
   "execution_count": 5,
   "id": "03f07eef",
   "metadata": {},
   "outputs": [],
   "source": [
    "import yaml"
   ]
  },
  {
   "cell_type": "code",
   "execution_count": 6,
   "id": "b79e674f",
   "metadata": {},
   "outputs": [],
   "source": [
    "events_url = 'https://raw.githubusercontent.com/DataTalksClub/datatalksclub.github.io/refs/heads/main/_data/events.yaml'\n",
    "\n",
    "raw_yaml = requests.get(events_url + '?nocache=1').content\n",
    "events_data = yaml.load(raw_yaml, yaml.CSafeLoader)\n",
    "\n",
    "podcasts = [d for d in events_data if (d.get('type') == 'podcast') and (d.get('youtube'))]"
   ]
  },
  {
   "cell_type": "code",
   "execution_count": 7,
   "id": "0db929d9",
   "metadata": {},
   "outputs": [
    {
     "data": {
      "text/plain": [
       "192"
      ]
     },
     "execution_count": 7,
     "metadata": {},
     "output_type": "execute_result"
    }
   ],
   "source": [
    "len(podcasts)"
   ]
  },
  {
   "cell_type": "code",
   "execution_count": 8,
   "id": "24236ec6",
   "metadata": {},
   "outputs": [],
   "source": [
    "videos = []\n",
    "\n",
    "for podcast in podcasts:\n",
    "    _, video_id = podcast['youtube'].split('watch?v=')\n",
    "    videos.append(video_id)"
   ]
  },
  {
   "cell_type": "code",
   "execution_count": 9,
   "id": "91843b52",
   "metadata": {},
   "outputs": [],
   "source": [
    "from tqdm.auto import tqdm"
   ]
  },
  {
   "cell_type": "code",
   "execution_count": 13,
   "id": "eff8a622",
   "metadata": {},
   "outputs": [
    {
     "data": {
      "application/vnd.jupyter.widget-view+json": {
       "model_id": "5ab6d02376c04392ba6fb9afe35e0833",
       "version_major": 2,
       "version_minor": 0
      },
      "text/plain": [
       "  0%|          | 0/192 [00:00<?, ?it/s]"
      ]
     },
     "metadata": {},
     "output_type": "display_data"
    },
    {
     "name": "stdout",
     "output_type": "stream",
     "text": [
      "youtube_videos/ZFrcrTtnB1Q.txt already exists, skipping it\n",
      "youtube_videos/x2AAjqz2XmM.txt already exists, skipping it\n",
      "youtube_videos/vK_SxyqIfwk.txt already exists, skipping it\n",
      "youtube_videos/B2tzuUg5uZs.txt already exists, skipping it\n",
      "youtube_videos/DSxqUlumM3A.txt already exists, skipping it\n",
      "youtube_videos/gXvVMvhfrIY.txt already exists, skipping it\n",
      "youtube_videos/b92gwrsVQtg.txt already exists, skipping it\n",
      "youtube_videos/s8kyzy8V5b8.txt already exists, skipping it\n",
      "youtube_videos/5km62e4nDaw.txt already exists, skipping it\n",
      "youtube_videos/B76J4QkZPWs.txt already exists, skipping it\n",
      "youtube_videos/S93V8RgwBig.txt already exists, skipping it\n",
      "youtube_videos/pkcpH5N-GP8.txt already exists, skipping it\n",
      "youtube_videos/vXbMUfHE1OE.txt already exists, skipping it\n",
      "youtube_videos/ekG5zJioyFs.txt already exists, skipping it\n",
      "youtube_videos/7ePp6wuxM5s.txt already exists, skipping it\n",
      "youtube_videos/PxAh08Pcmj4.txt already exists, skipping it\n",
      "youtube_videos/BP6w_vKySN0.txt already exists, skipping it\n",
      "youtube_videos/DX9c__a4jzg.txt already exists, skipping it\n",
      "youtube_videos/AlCFKbFIEM8.txt already exists, skipping it\n",
      "youtube_videos/NfAJAr7FvyY.txt already exists, skipping it\n",
      "youtube_videos/1aMuynlLM3o.txt already exists, skipping it\n",
      "youtube_videos/QKWu5-6_6TE.txt already exists, skipping it\n",
      "youtube_videos/GifY8Zn-pnU.txt already exists, skipping it\n",
      "youtube_videos/sXU9vMDBjmk.txt already exists, skipping it\n",
      "youtube_videos/GHbeXIKnkLQ.txt already exists, skipping it\n",
      "youtube_videos/kV0ZDy2UtJA.txt already exists, skipping it\n",
      "youtube_videos/bT7-HRNCltk.txt already exists, skipping it\n",
      "youtube_videos/yTZ4cddD7DU.txt already exists, skipping it\n",
      "youtube_videos/VXQIGHUWeL0.txt already exists, skipping it\n",
      "youtube_videos/HzGpIxV8HtA.txt already exists, skipping it\n",
      "youtube_videos/rMq63r3zi4c.txt already exists, skipping it\n",
      "youtube_videos/RR6xaYqKJ3o.txt already exists, skipping it\n",
      "youtube_videos/RlXlJK8OXhY.txt already exists, skipping it\n",
      "youtube_videos/CpWlBAmD9ok.txt already exists, skipping it\n",
      "youtube_videos/UPlIETGwTg8.txt already exists, skipping it\n",
      "youtube_videos/7SLd5V7z3xQ.txt already exists, skipping it\n",
      "youtube_videos/30tTrozbAkg.txt already exists, skipping it\n",
      "youtube_videos/Z4vOTgzLkJQ.txt already exists, skipping it\n",
      "youtube_videos/YncdlUscUOo.txt already exists, skipping it\n",
      "youtube_videos/m45tNY-8gY8.txt already exists, skipping it\n",
      "youtube_videos/aHdaIwOEI8Q.txt already exists, skipping it\n",
      "youtube_videos/gEmSrknGKDE.txt already exists, skipping it\n",
      "youtube_videos/PchwbIs0tOg.txt already exists, skipping it\n",
      "youtube_videos/Nl4aibeFwiI.txt already exists, skipping it\n",
      "youtube_videos/kcKvUSInm-M.txt already exists, skipping it\n",
      "youtube_videos/NThHAEIazFk.txt already exists, skipping it\n",
      "youtube_videos/_fbe1QyJ1PY.txt already exists, skipping it\n",
      "youtube_videos/vOpEQiCsaLw.txt already exists, skipping it\n",
      "youtube_videos/R_EnSa9aZtE.txt already exists, skipping it\n",
      "youtube_videos/LBuGzyOkx7c.txt already exists, skipping it\n",
      "youtube_videos/whpkDmVVGUE.txt already exists, skipping it\n",
      "youtube_videos/su2M058m3Lw.txt already exists, skipping it\n",
      "youtube_videos/4RargY8iOaE.txt already exists, skipping it\n",
      "youtube_videos/-HbQQ_bVdfE.txt already exists, skipping it\n",
      "youtube_videos/1pExOVuCF8Q.txt already exists, skipping it\n",
      "youtube_videos/pDOwlulDh0c.txt already exists, skipping it\n",
      "youtube_videos/qWG--iYO2uc.txt already exists, skipping it\n",
      "youtube_videos/nCqwZT9zA0M.txt already exists, skipping it\n",
      "youtube_videos/ZXNKjrrKU_I.txt already exists, skipping it\n",
      "youtube_videos/q3DTR3Od1MA.txt already exists, skipping it\n",
      "youtube_videos/UX7UShEioKc.txt already exists, skipping it\n",
      "youtube_videos/0I2FHH95Ofs.txt already exists, skipping it\n",
      "youtube_videos/bM6AR4A-f98.txt already exists, skipping it\n",
      "youtube_videos/6dn6uZFkk04.txt already exists, skipping it\n",
      "youtube_videos/7Bg1JQLnCao.txt already exists, skipping it\n",
      "youtube_videos/6YBMU6475KQ.txt already exists, skipping it\n",
      "youtube_videos/EQcY83VA0Us.txt already exists, skipping it\n",
      "youtube_videos/kSTfhQ_SZgc.txt already exists, skipping it\n",
      "youtube_videos/CB1YIsxQRtc.txt already exists, skipping it\n",
      "youtube_videos/z7BvslwVRbQ.txt already exists, skipping it\n",
      "youtube_videos/-Gj7SaI-QW4.txt already exists, skipping it\n",
      "youtube_videos/IiPOIiUy5b4.txt already exists, skipping it\n",
      "youtube_videos/jGbfeYdlCiQ.txt already exists, skipping it\n",
      "youtube_videos/i-pIdekjUow.txt already exists, skipping it\n",
      "youtube_videos/gbjoFfrm4iw.txt already exists, skipping it\n",
      "youtube_videos/WIpnyiHp4IE.txt already exists, skipping it\n",
      "youtube_videos/rwuud5wr3J4.txt already exists, skipping it\n",
      "youtube_videos/Kc3Puh3UCRQ.txt already exists, skipping it\n",
      "youtube_videos/35Ch8xL2SA8.txt already exists, skipping it\n",
      "youtube_videos/rh_pE35m3vE.txt already exists, skipping it\n",
      "youtube_videos/uyxUBADZYpU.txt already exists, skipping it\n",
      "youtube_videos/b6x5zZ3C6sQ.txt already exists, skipping it\n",
      "youtube_videos/SRUwwvk_YCk.txt already exists, skipping it\n",
      "youtube_videos/gcxP0qRO-MY.txt already exists, skipping it\n",
      "youtube_videos/_xr1_xb736E.txt already exists, skipping it\n",
      "youtube_videos/cUxZBXQgZaU.txt already exists, skipping it\n",
      "youtube_videos/NnZjlMowkWA.txt already exists, skipping it\n",
      "youtube_videos/KsV_SVXlTo8.txt already exists, skipping it\n",
      "youtube_videos/K0PdQITQzVQ.txt already exists, skipping it\n",
      "youtube_videos/t3HDdVWQzNM.txt already exists, skipping it\n",
      "youtube_videos/xMYRUiTu960.txt already exists, skipping it\n",
      "youtube_videos/saaRRzgHsmE.txt already exists, skipping it\n",
      "youtube_videos/xyTfqIWeKf8.txt already exists, skipping it\n",
      "youtube_videos/uO_lk12q02A.txt already exists, skipping it\n",
      "youtube_videos/GawJ7mG5ElQ.txt already exists, skipping it\n",
      "youtube_videos/rTRTjB6cGng.txt already exists, skipping it\n",
      "youtube_videos/XbDQv8FTA4U.txt already exists, skipping it\n",
      "youtube_videos/-xumbiXOlA8.txt already exists, skipping it\n",
      "youtube_videos/i1NHRroQClQ.txt already exists, skipping it\n",
      "youtube_videos/lpjffCOPxlY.txt already exists, skipping it\n",
      "youtube_videos/lem7knxqNzg.txt already exists, skipping it\n",
      "youtube_videos/vZLlpsUlchQ.txt already exists, skipping it\n",
      "youtube_videos/acJ6sVqKOUk.txt already exists, skipping it\n",
      "youtube_videos/8Eb5mG-pC3o.txt already exists, skipping it\n",
      "youtube_videos/Vms29u9xC3k.txt already exists, skipping it\n",
      "youtube_videos/QggWydGrWoo.txt already exists, skipping it\n",
      "youtube_videos/p1gVaS4Zx5M.txt already exists, skipping it\n",
      "youtube_videos/bqxBiIwtmX4.txt already exists, skipping it\n",
      "youtube_videos/346N_pCtYZU.txt already exists, skipping it\n",
      "youtube_videos/xWC1HAfekRk.txt already exists, skipping it\n",
      "youtube_videos/Af9t9r2b0z0.txt already exists, skipping it\n",
      "youtube_videos/bwfR9dyxf1M.txt already exists, skipping it\n",
      "youtube_videos/F_rJ4fg5ZEA.txt already exists, skipping it\n",
      "youtube_videos/SnEYvF-Ztb8.txt already exists, skipping it\n",
      "youtube_videos/9DTTrN-khCk.txt already exists, skipping it\n",
      "youtube_videos/oUycqtMoYr8.txt already exists, skipping it\n",
      "youtube_videos/jsAxUd_bZpw.txt already exists, skipping it\n",
      "youtube_videos/YxijEUoDCfw.txt already exists, skipping it\n",
      "youtube_videos/0wANfIvum4U.txt already exists, skipping it\n",
      "youtube_videos/dFo10l8B6Go.txt already exists, skipping it\n",
      "youtube_videos/BKqmNdxsBko.txt already exists, skipping it\n",
      "youtube_videos/hylxiu4VGTo.txt already exists, skipping it\n",
      "youtube_videos/0Fx5PCoLkf4.txt already exists, skipping it\n",
      "youtube_videos/IDzhmmKeNG4.txt already exists, skipping it\n",
      "youtube_videos/tcqBfZw41FM.txt already exists, skipping it\n",
      "youtube_videos/RhSg8ill1So.txt already exists, skipping it\n",
      "youtube_videos/OuCuk-7RHjM.txt already exists, skipping it\n",
      "youtube_videos/qh6-HDhw2xY.txt already exists, skipping it\n",
      "youtube_videos/3TTu-hYzxeg.txt already exists, skipping it\n",
      "youtube_videos/FljnbUQ796w.txt already exists, skipping it\n",
      "youtube_videos/0RsmRjar66E.txt already exists, skipping it\n",
      "youtube_videos/0Gqx1LtqRZU.txt already exists, skipping it\n",
      "youtube_videos/_U8GrYJvmJM.txt already exists, skipping it\n",
      "youtube_videos/p4wg0Vd2uD4.txt already exists, skipping it\n",
      "youtube_videos/WSMDXsjKYx4.txt already exists, skipping it\n",
      "youtube_videos/IxTyq96juVE.txt already exists, skipping it\n",
      "youtube_videos/qOLR84-KHoY.txt already exists, skipping it\n",
      "youtube_videos/RJEf6mzxh1w.txt already exists, skipping it\n",
      "youtube_videos/PjqjPvHliqg.txt already exists, skipping it\n",
      "youtube_videos/m4F651BpUFk.txt already exists, skipping it\n",
      "youtube_videos/7jgmIQGMhGE.txt already exists, skipping it\n",
      "youtube_videos/nt__pVuuC-k.txt already exists, skipping it\n",
      "youtube_videos/hFmIgaN-F8Y.txt already exists, skipping it\n",
      "youtube_videos/tRdLVUKU7Bo.txt already exists, skipping it\n",
      "youtube_videos/gCLUY37HGtw.txt already exists, skipping it\n",
      "youtube_videos/pImYf9ML95Q.txt already exists, skipping it\n",
      "youtube_videos/HfMpG2zpa2I.txt already exists, skipping it\n",
      "youtube_videos/rMRUa8WxDz4.txt already exists, skipping it\n",
      "youtube_videos/kI4V2iBbaH0.txt already exists, skipping it\n",
      "youtube_videos/d9xVXqKq3sU.txt already exists, skipping it\n",
      "youtube_videos/KMSE9GkU2mE.txt already exists, skipping it\n",
      "youtube_videos/H4P2RfKvXGs.txt already exists, skipping it\n",
      "youtube_videos/t9Z1S3OYnJU.txt already exists, skipping it\n",
      "youtube_videos/RiQa-9LguW8.txt already exists, skipping it\n",
      "youtube_videos/IdaZOD46FEw.txt already exists, skipping it\n",
      "youtube_videos/HfF791e0HR8.txt already exists, skipping it\n",
      "youtube_videos/s-w8_GDgIlU.txt already exists, skipping it\n",
      "youtube_videos/o50j_Ndx2Hg.txt already exists, skipping it\n",
      "youtube_videos/sMy8NYZnsy8.txt already exists, skipping it\n",
      "youtube_videos/DiDs5aMjEWg.txt already exists, skipping it\n",
      "youtube_videos/yg3d1lFd7Uo.txt already exists, skipping it\n",
      "youtube_videos/IrZPAG6OBqo.txt already exists, skipping it\n",
      "youtube_videos/xVYOdRrN7hw.txt already exists, skipping it\n",
      "youtube_videos/C5UcxBwdCEg.txt already exists, skipping it\n",
      "youtube_videos/tJ3v8h7A7RY.txt already exists, skipping it\n",
      "youtube_videos/c6dK1LWpv4g.txt already exists, skipping it\n",
      "youtube_videos/8v5KpHWgyYw.txt already exists, skipping it\n",
      "youtube_videos/tkBCPqWKCL8.txt already exists, skipping it\n",
      "youtube_videos/wJPi6Ip9PX0.txt already exists, skipping it\n",
      "youtube_videos/AYi7b-8GPm4.txt already exists, skipping it\n",
      "youtube_videos/gqroEsTyLD0.txt already exists, skipping it\n",
      "youtube_videos/TrMG1SOqZkQ.txt already exists, skipping it\n",
      "saved subtitles to youtube_videos/ixmTewD5Waw.txt\n",
      "saved subtitles to youtube_videos/rBKezdb9jEc.txt\n",
      "saved subtitles to youtube_videos/ByCE1vSrIr8.txt\n",
      "saved subtitles to youtube_videos/vyF3yGsF6UY.txt\n",
      "saved subtitles to youtube_videos/wOFvlR9UBxI.txt\n",
      "saved subtitles to youtube_videos/xCjzA_8S4kI.txt\n",
      "saved subtitles to youtube_videos/tQRQnz_aHYQ.txt\n",
      "saved subtitles to youtube_videos/HVQ0DZOQcts.txt\n",
      "saved subtitles to youtube_videos/SJuzQ4bcU2c.txt\n",
      "saved subtitles to youtube_videos/FQYTb4uWljQ.txt\n",
      "saved subtitles to youtube_videos/-i0fVp0ntYA.txt\n",
      "saved subtitles to youtube_videos/IxV9EH-tphQ.txt\n",
      "saved subtitles to youtube_videos/jv5W4jXk4P4.txt\n",
      "saved subtitles to youtube_videos/vXWGd7olv3c.txt\n",
      "saved subtitles to youtube_videos/LQvwTNQbPg4.txt\n",
      "saved subtitles to youtube_videos/Sb4CJlonB3c.txt\n",
      "saved subtitles to youtube_videos/ScDIB-3O77A.txt\n",
      "saved subtitles to youtube_videos/SesVTDklFYQ.txt\n",
      "saved subtitles to youtube_videos/2ZOnA19sDpM.txt\n"
     ]
    }
   ],
   "source": [
    "for video_id in tqdm(videos):\n",
    "    if video_id == 'FRi0SUtxdMw':\n",
    "        continue\n",
    "    download(video_id)"
   ]
  }
 ],
 "metadata": {
  "kernelspec": {
   "display_name": "ai-bootcamp",
   "language": "python",
   "name": "python3"
  },
  "language_info": {
   "codemirror_mode": {
    "name": "ipython",
    "version": 3
   },
   "file_extension": ".py",
   "mimetype": "text/x-python",
   "name": "python",
   "nbconvert_exporter": "python",
   "pygments_lexer": "ipython3",
   "version": "3.13.1"
  }
 },
 "nbformat": 4,
 "nbformat_minor": 5
}
