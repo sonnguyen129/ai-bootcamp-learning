{
 "cells": [
  {
   "cell_type": "markdown",
   "id": "91fc87a3",
   "metadata": {},
   "source": [
    "# Going Beyond Agentic RAG (GitHub Documentation Usecase)"
   ]
  },
  {
   "cell_type": "markdown",
   "id": "b22130bd",
   "metadata": {},
   "source": [
    "Load and prepare the GitHub documentation data:"
   ]
  },
  {
   "cell_type": "code",
   "execution_count": 1,
   "id": "c249f444",
   "metadata": {},
   "outputs": [],
   "source": [
    "import docs\n",
    "\n",
    "github_data = docs.read_github_data()\n",
    "parsed_data = docs.parse_data(github_data)\n",
    "chunks = docs.chunk_documents(parsed_data)"
   ]
  },
  {
   "cell_type": "markdown",
   "id": "a2dab991",
   "metadata": {},
   "source": [
    "Index the data:"
   ]
  },
  {
   "cell_type": "code",
   "execution_count": 2,
   "id": "3b8f7248",
   "metadata": {},
   "outputs": [
    {
     "data": {
      "text/plain": [
       "<minsearch.minsearch.Index at 0x11de7cc20>"
      ]
     },
     "execution_count": 2,
     "metadata": {},
     "output_type": "execute_result"
    }
   ],
   "source": [
    "from minsearch import Index\n",
    "\n",
    "index = Index(\n",
    "    text_fields=[\"content\", \"filename\", \"title\", \"description\"],\n",
    ")\n",
    "\n",
    "index.fit(chunks)\n"
   ]
  },
  {
   "cell_type": "markdown",
   "id": "e28579ea",
   "metadata": {},
   "source": [
    "Our search function remains the same, but with proper documentation and type hints (thanks to ChatGPT):"
   ]
  },
  {
   "cell_type": "code",
   "execution_count": 3,
   "id": "751e30aa",
   "metadata": {},
   "outputs": [],
   "source": [
    "from typing import Any, Dict, List, TypedDict\n",
    "\n",
    "class SearchResult(TypedDict):\n",
    "    \"\"\"Represents a single search result entry.\"\"\"\n",
    "    start: int\n",
    "    content: str\n",
    "    title: str\n",
    "    description: str\n",
    "    filename: str\n",
    "\n",
    "\n",
    "def search(query: str) -> List[SearchResult]:\n",
    "    \"\"\"\n",
    "    Search the index for documents matching the given query.\n",
    "\n",
    "    Args:\n",
    "        query (str): The search query string.\n",
    "\n",
    "    Returns:\n",
    "        List[SearchResult]: A list of search results. Each result dictionary contains:\n",
    "            - start (int): The starting position or offset within the source file.\n",
    "            - content (str): A text excerpt or snippet containing the match.\n",
    "            - title (str): The title of the matched document.\n",
    "            - description (str): A short description of the document.\n",
    "            - filename (str): The path or name of the source file.\n",
    "    \"\"\"\n",
    "    return index.search(\n",
    "        query=query,\n",
    "        num_results=5,\n",
    "    )\n"
   ]
  },
  {
   "cell_type": "markdown",
   "id": "75a2ea9f",
   "metadata": {},
   "source": [
    "## File Reading Tool\n"
   ]
  },
  {
   "cell_type": "code",
   "execution_count": 4,
   "id": "9227dff9",
   "metadata": {},
   "outputs": [],
   "source": [
    "file_index = {}\n",
    "\n",
    "for doc in parsed_data:\n",
    "    filename = doc['filename']\n",
    "    file_index[filename] = doc"
   ]
  },
  {
   "cell_type": "code",
   "execution_count": 5,
   "id": "2dc1f07c",
   "metadata": {},
   "outputs": [
    {
     "data": {
      "text/plain": [
       "95"
      ]
     },
     "execution_count": 5,
     "metadata": {},
     "output_type": "execute_result"
    }
   ],
   "source": [
    "len(file_index)"
   ]
  },
  {
   "cell_type": "code",
   "execution_count": 6,
   "id": "6d09d0ea",
   "metadata": {},
   "outputs": [],
   "source": [
    "from typing import Optional\n",
    "\n",
    "def read_file(filename: str) -> Optional[str]:\n",
    "    \"\"\"\n",
    "    Retrieve the content of a file from the repository.\n",
    "\n",
    "    Args:\n",
    "        filename (str): The name or path of the file to read.\n",
    "\n",
    "    Returns:\n",
    "        Optional[str]: The file content as a string if the file exists;\n",
    "        otherwise, returns None.\n",
    "    \"\"\"\n",
    "    if filename in file_index:\n",
    "        return file_index[filename]['content']\n",
    "    return None"
   ]
  },
  {
   "cell_type": "code",
   "execution_count": 7,
   "id": "c15440ad",
   "metadata": {},
   "outputs": [],
   "source": [
    "instructions = \"\"\"\n",
    "You are an assistant that helps improve and generate high-quality documentation for the project.\n",
    "\n",
    "You have access to the following tools:\n",
    "- search — Use this to explore topics in depth. Make multiple search calls if needed to gather comprehensive information.\n",
    "- read_file — Use this when code snippets are missing or when you need to retrieve the full content of a file for context.\n",
    "\n",
    "If `read_file` cannot be used or the file content is unavailable, clearly state:\n",
    "> \"Unable to verify with read_file.\"\n",
    "\n",
    "When answering a question:\n",
    "1. Provide file references for all source materials.  \n",
    "   Use this format:  \n",
    "   [{filename}](https://github.com/evidentlyai/docs/blob/main/{filename})\n",
    "2. If the topic is covered in multiple documents, cite all relevant sources.\n",
    "3. Include code examples whenever they clarify or demonstrate the concept.\n",
    "4. Be concise, accurate, and helpful — focus on clarity and usability for developers.\n",
    "5. If documentation is missing or unclear, infer from context and note that explicitly.\n",
    "\n",
    "Example Citation:\n",
    "See the full implementation in [metrics/api_reference.md](https://github.com/evidentlyai/docs/blob/main/metrics/api_reference.md).\n",
    "\"\"\".strip()"
   ]
  },
  {
   "cell_type": "code",
   "execution_count": 8,
   "id": "88696839",
   "metadata": {},
   "outputs": [],
   "source": [
    "from toyaikit.llm import OpenAIClient\n",
    "from toyaikit.chat import IPythonChatInterface\n",
    "from toyaikit.chat.runners import OpenAIResponsesRunner\n",
    "from toyaikit.chat.runners import DisplayingRunnerCallback\n",
    "from toyaikit.tools import Tools"
   ]
  },
  {
   "cell_type": "markdown",
   "id": "ba3266b3",
   "metadata": {},
   "source": [
    "Create and configure the tools:"
   ]
  },
  {
   "cell_type": "code",
   "execution_count": 9,
   "id": "0d7bb238",
   "metadata": {},
   "outputs": [],
   "source": [
    "agent_tools = Tools()\n",
    "\n",
    "agent_tools.add_tool(search)\n",
    "agent_tools.add_tool(read_file)\n"
   ]
  },
  {
   "cell_type": "markdown",
   "id": "5b1827ed",
   "metadata": {},
   "source": [
    "Setup the runner:"
   ]
  },
  {
   "cell_type": "code",
   "execution_count": 10,
   "id": "a04889a0",
   "metadata": {},
   "outputs": [],
   "source": [
    "chat_interface = IPythonChatInterface()\n",
    "\n",
    "runner = OpenAIResponsesRunner(\n",
    "    tools=agent_tools,\n",
    "    developer_prompt=instructions,\n",
    "    chat_interface=chat_interface,\n",
    "    llm_client=OpenAIClient()\n",
    ")\n"
   ]
  },
  {
   "cell_type": "code",
   "execution_count": 11,
   "id": "0dc26858-cce4-4952-b8af-c125f0718656",
   "metadata": {},
   "outputs": [
    {
     "name": "stdout",
     "output_type": "stream",
     "text": [
      "You: how do i run llm as a judge evals?\n"
     ]
    },
    {
     "data": {
      "text/html": [
       "\n",
       "            <details>\n",
       "            <summary>Function call: <tt>search({\"query\":\"run LLM as judge evals\"})</tt></summary>\n",
       "            <div>\n",
       "                <b>Call</b>\n",
       "                <pre>{\"query\":\"run LLM as judge evals\"}</pre>\n",
       "            </div>\n",
       "            <div>\n",
       "                <b>Output</b>\n",
       "                <pre>{'type': 'function_call_output', 'call_id': 'call_6T338LUyEzXIHjiMvZilMk2r', 'output': '[\\n  {\\n    \"start\": 0,\\n    \"content\": \"import CloudSignup from \\'/snippets/cloud_signup.mdx\\';\\\\nimport CreateProject from \\'/snippets/create_project.mdx\\';\\\\n\\\\nIn this tutorial, we\\'ll show how to evaluate text for custom criteria using LLM as the judge, and evaluate the LLM judge itself.\\\\n\\\\n<Info>\\\\n  **This is a local example.** You will run and explore results using the open-source Python library. At the end, we\\\\u2019ll optionally show how to upload results to the Evidently Platform for easy exploration.\\\\n</Info>\\\\n\\\\nWe\\'ll explore two ways to use an LLM as a judge:\\\\n\\\\n- **Reference-based**. Compare new responses against a reference. This is useful for regression testing or whenever you have a \\\\\"ground truth\\\\\" (approved responses) to compare against.\\\\n- **Open-ended**. Evaluate responses based on custom criteria, which helps evaluate new outputs when there\\'s no reference available.\\\\n\\\\nWe will focus on demonstrating **how to create and tune the LLM evaluator**, which you can then apply in different contexts, like regression testing or prompt comparison.\\\\n\\\\n<Info>\\\\n**Prefer videos?** We also have an extended code tutorial where we iteratively improve the prompt for LLM judge with a video walkthrough:  https://www.youtube.com/watch?v=kP_aaFnXLmY\\\\n</Info>\\\\n\\\\n## Tutorial scope\\\\n\\\\nHere\\'s what we\\'ll do:\\\\n\\\\n- **Create an evaluation dataset**. Create a toy Q&A dataset.\\\\n- **Create and run an LLM as a judge**. Design an LLM evaluator prompt.\\\\n- **Evaluate the judge**. Compare the LLM judge\\'s evaluations with manual labels.\\\\n\\\\nWe\\'ll start with the reference-based evaluator that determines whether a new response is correct (it\\'s more complex since it requires passing two columns to the prompt). Then, we\\'ll create a simpler judge focused on verbosity.\\\\n\\\\nTo complete the tutorial, you will need:\\\\n\\\\n- Basic Python knowledge.\\\\n- An OpenAI API key to use for the LLM evaluator.\\\\n\\\\nWe recommend running this tutorial in Jupyter Notebook or Google Colab to render rich HTML objects with summary results directly in a notebook cell.\\\\n\\\\n<Info>\\\\n  Run a sample notebook: [Jupyter \",\\n    \"title\": \"LLM as a judge\",\\n    \"description\": \"How to create and evaluate an LLM judge.\",\\n    \"filename\": \"examples/LLM_judge.mdx\"\\n  },\\n  {\\n    \"start\": 1000,\\n    \"content\": \"n.\\\\n\\\\n<Info>\\\\n**Prefer videos?** We also have an extended code tutorial where we iteratively improve the prompt for LLM judge with a video walkthrough:  https://www.youtube.com/watch?v=kP_aaFnXLmY\\\\n</Info>\\\\n\\\\n## Tutorial scope\\\\n\\\\nHere\\'s what we\\'ll do:\\\\n\\\\n- **Create an evaluation dataset**. Create a toy Q&A dataset.\\\\n- **Create and run an LLM as a judge**. Design an LLM evaluator prompt.\\\\n- **Evaluate the judge**. Compare the LLM judge\\'s evaluations with manual labels.\\\\n\\\\nWe\\'ll start with the reference-based evaluator that determines whether a new response is correct (it\\'s more complex since it requires passing two columns to the prompt). Then, we\\'ll create a simpler judge focused on verbosity.\\\\n\\\\nTo complete the tutorial, you will need:\\\\n\\\\n- Basic Python knowledge.\\\\n- An OpenAI API key to use for the LLM evaluator.\\\\n\\\\nWe recommend running this tutorial in Jupyter Notebook or Google Colab to render rich HTML objects with summary results directly in a notebook cell.\\\\n\\\\n<Info>\\\\n  Run a sample notebook: [Jupyter notebook](https://github.com/evidentlyai/community-examples/blob/main/tutorials/LLM_as_a_judge_tutorial_updated.ipynb) or [open it in Colab](https://colab.research.google.com/github/evidentlyai/community-examples/blob/main/tutorials/LLM_as_a_judge_tutorial_updated.ipynb).\\\\n</Info>\\\\n\\\\n## 1.  Installation and Imports\\\\n\\\\nInstall Evidently:\\\\n\\\\n```python\\\\npip install evidently\\\\n```\\\\n\\\\nImport the required modules:\\\\n\\\\n```python\\\\nimport pandas as pd\\\\nimport numpy as np\\\\n\\\\nfrom evidently import Dataset\\\\nfrom evidently import DataDefinition\\\\nfrom evidently import Report\\\\nfrom evidently import BinaryClassification\\\\nfrom evidently.descriptors import *\\\\nfrom evidently.presets import TextEvals, ValueStats, ClassificationPreset\\\\nfrom evidently.metrics import *\\\\n\\\\nfrom evidently.llm.templates import BinaryClassificationPromptTemplate\\\\n```\\\\n\\\\nPass your OpenAI key as an environment variable:\\\\n\\\\n```python\\\\nimport os\\\\nos.environ[\\\\\"OPENAI_API_KEY\\\\\"] = \\\\\"YOUR_KEY\\\\\"\\\\n```\\\\n\\\\n<Info>\\\\n**Using other evaluator LLMs**. Check the [LLM judge docs](/metric\",\\n    \"title\": \"LLM as a judge\",\\n    \"description\": \"How to create and evaluate an LLM judge.\",\\n    \"filename\": \"examples/LLM_judge.mdx\"\\n  },\\n  {\\n    \"start\": 2000,\\n    \"content\": \"notebook](https://github.com/evidentlyai/community-examples/blob/main/tutorials/LLM_as_a_judge_tutorial_updated.ipynb) or [open it in Colab](https://colab.research.google.com/github/evidentlyai/community-examples/blob/main/tutorials/LLM_as_a_judge_tutorial_updated.ipynb).\\\\n</Info>\\\\n\\\\n## 1.  Installation and Imports\\\\n\\\\nInstall Evidently:\\\\n\\\\n```python\\\\npip install evidently\\\\n```\\\\n\\\\nImport the required modules:\\\\n\\\\n```python\\\\nimport pandas as pd\\\\nimport numpy as np\\\\n\\\\nfrom evidently import Dataset\\\\nfrom evidently import DataDefinition\\\\nfrom evidently import Report\\\\nfrom evidently import BinaryClassification\\\\nfrom evidently.descriptors import *\\\\nfrom evidently.presets import TextEvals, ValueStats, ClassificationPreset\\\\nfrom evidently.metrics import *\\\\n\\\\nfrom evidently.llm.templates import BinaryClassificationPromptTemplate\\\\n```\\\\n\\\\nPass your OpenAI key as an environment variable:\\\\n\\\\n```python\\\\nimport os\\\\nos.environ[\\\\\"OPENAI_API_KEY\\\\\"] = \\\\\"YOUR_KEY\\\\\"\\\\n```\\\\n\\\\n<Info>\\\\n**Using other evaluator LLMs**. Check the [LLM judge docs](/metrics/customize_llm_judge#change-the-evaluator-llm) to see how you can select a different evaluator LLM. \\\\n</Info>\\\\n\\\\n## 2.  Create the Dataset\\\\n\\\\nFirst, we\\'ll create a toy Q&A dataset with customer support question that includes:\\\\n\\\\n- **Questions**. The inputs sent to the LLM app.\\\\n- **Target responses**. The approved responses you consider accurate.\\\\n- **New responses**. Imitated new responses from the system.\\\\n- **Manual labels with explanation**. Labels that say if response is correct or not.\\\\n\\\\nWhy add the labels? It\\'s a good idea to be the judge yourself before you write a prompt. This helps:\\\\n\\\\n- Formulate better criteria. You discover nuances that help you write a better prompt.\\\\n- Get the \\\\\"ground truth\\\\\". You can use it to evaluate the quality of the LLM judge.\\\\n\\\\nUltimately, an LLM judge is a small ML system, and it needs its own evals\\\\\\\\!\\\\n\\\\n**Generate the dataframe**. Here\\'s how you can create this dataset in one go:\\\\n\\\\n<Accordion title=\\\\\"Toy data to run the example\\\\\" defaultOpen={false}>\\\\n  ```python\\\\n  \",\\n    \"title\": \"LLM as a judge\",\\n    \"description\": \"How to create and evaluate an LLM judge.\",\\n    \"filename\": \"examples/LLM_judge.mdx\"\\n  },\\n  {\\n    \"start\": 20000,\\n    \"content\": \"openai\\\\\",\\\\n            model = \\\\\"gpt-4o-mini\\\\\",\\\\n            alias=\\\\\"Verbosity\\\\\")\\\\n    ])\\\\n```\\\\n\\\\nRun the Report and view the summary results:\\\\u00a0\\\\n\\\\n```python\\\\nreport = Report([\\\\n    TextEvals()\\\\n])\\\\n\\\\nmy_eval = report.run(eval_dataset, None)\\\\nmy_eval\\\\n```\\\\n\\\\n![](/images/examples/llm_judge_tutorial_verbosity-min.png)\\\\n\\\\nYou can also view the dataframe using `eval_dataset.as_dataframe()`\\\\n\\\\n<Info>\\\\n  Don\\'t fully agree with the results? Use these labels as a starting point, edit the decisions where you see fit - now you\\'ve got your golden dataset\\\\\\\\! Next, iterate on your judge prompt. You can also try different evaluator LLMs to see which one does the job better. [How to change an LLM](/metrics/customize_llm_judge#change-the-evaluator-llm).\\\\n</Info>\\\\n\\\\n## What\\'s next?\\\\n\\\\nThe LLM judge itself is just one part of your overall evaluation framework. You can integrate this evaluator into different workflows, such as testing your LLM outputs after changing a prompt.\\\\n\\\\nTo be able to easily run and compare evals, systematically track the results, and interact with your evaluation dataset, you can use the Evidently Cloud platform.\\\\n\\\\n### Set up Evidently Cloud\\\\n\\\\n<CloudSignup />\\\\n\\\\nImport the components to connect with Evidently Cloud:\\\\n\\\\n```python\\\\nfrom evidently.ui.workspace import CloudWorkspace\\\\n```\\\\n\\\\n### Create a Project\\\\n\\\\n<CreateProject />\\\\n\\\\n### Send your eval\\\\n\\\\nSince you already created the eval, you can simply upload it to the Evidently Cloud.\\\\n\\\\n```python\\\\nws.add_run(project.id, my_eval, include_data=True)\\\\n```\\\\n\\\\nYou can then go to the Evidently Cloud, open your Project and explore the Report.\\\\n\\\\n![](/images/examples/llm_judge_tutorial_cloud-min.png)\\\\n\\\\n<Info>\\\\n  You can also [create the LLM judges with no-code](/docs/platform/evals_no_code).\\\\n</Info>\\\\n\\\\n# Reference documentation\\\\n\\\\nSee this page for complete [documentation on LLM judges](/metrics/customize_llm_judge).\",\\n    \"title\": \"LLM as a judge\",\\n    \"description\": \"How to create and evaluate an LLM judge.\",\\n    \"filename\": \"examples/LLM_judge.mdx\"\\n  },\\n  {\\n    \"start\": 19000,\\n    \"content\": \"w to set up the prompt template for verbosity:\\\\n\\\\n```python\\\\nverbosity = BinaryClassificationPromptTemplate(\\\\n        criteria = \\\\\"\\\\\"\\\\\"Conciseness refers to the quality of being brief and to the point, while still providing all necessary information.\\\\n            A concise response should:\\\\n            - Provide the necessary information without unnecessary details or repetition.\\\\n            - Be brief yet comprehensive enough to address the query.\\\\n            - Use simple and direct language to convey the message effectively.\\\\\"\\\\\"\\\\\",\\\\n        target_category=\\\\\"concise\\\\\",\\\\n        non_target_category=\\\\\"verbose\\\\\",\\\\n        uncertainty=\\\\\"unknown\\\\\",\\\\n        include_reasoning=True,\\\\n        pre_messages=[(\\\\\"system\\\\\", \\\\\"You are an expert text evaluator. You will be given a text of the response to a user question.\\\\\")],\\\\n        )\\\\n```\\\\n\\\\nAdd this new descriptor to our existing dataset:\\\\n\\\\n```python\\\\neval_dataset.add_descriptors(descriptors=[\\\\n    LLMEval(\\\\\"new_response\\\\\",\\\\n            template=verbosity,\\\\n            provider = \\\\\"openai\\\\\",\\\\n            model = \\\\\"gpt-4o-mini\\\\\",\\\\n            alias=\\\\\"Verbosity\\\\\")\\\\n    ])\\\\n```\\\\n\\\\nRun the Report and view the summary results:\\\\u00a0\\\\n\\\\n```python\\\\nreport = Report([\\\\n    TextEvals()\\\\n])\\\\n\\\\nmy_eval = report.run(eval_dataset, None)\\\\nmy_eval\\\\n```\\\\n\\\\n![](/images/examples/llm_judge_tutorial_verbosity-min.png)\\\\n\\\\nYou can also view the dataframe using `eval_dataset.as_dataframe()`\\\\n\\\\n<Info>\\\\n  Don\\'t fully agree with the results? Use these labels as a starting point, edit the decisions where you see fit - now you\\'ve got your golden dataset\\\\\\\\! Next, iterate on your judge prompt. You can also try different evaluator LLMs to see which one does the job better. [How to change an LLM](/metrics/customize_llm_judge#change-the-evaluator-llm).\\\\n</Info>\\\\n\\\\n## What\\'s next?\\\\n\\\\nThe LLM judge itself is just one part of your overall evaluation framework. You can integrate this evaluator into different workflows, such as testing your LLM outputs after changing a prompt.\\\\n\\\\nTo be able to easily run and compare evals, systematically tr\",\\n    \"title\": \"LLM as a judge\",\\n    \"description\": \"How to create and evaluate an LLM judge.\",\\n    \"filename\": \"examples/LLM_judge.mdx\"\\n  }\\n]'}</pre>\n",
       "            </div>\n",
       "\n",
       "            </details>\n",
       "        "
      ],
      "text/plain": [
       "<IPython.core.display.HTML object>"
      ]
     },
     "metadata": {},
     "output_type": "display_data"
    },
    {
     "data": {
      "text/html": [
       "\n",
       "            <div>\n",
       "                <div><b>Assistant:</b></div>\n",
       "                <div><p>To run an LLM as a judge for evaluations, follow these steps outlined in the tutorial detailed in the source. Here’s a concise breakdown:</p>\n",
       "<h3>1. <strong>Set Up Your Environment</strong></h3>\n",
       "<p>You'll need to have Python and the Evidently library installed. To install Evidently, you can run:</p>\n",
       "<pre><code class=\"language-bash\">pip install evidently\n",
       "</code></pre>\n",
       "<h3>2. <strong>Import Required Modules</strong></h3>\n",
       "<p>Import the necessary libraries for your project:</p>\n",
       "<pre><code class=\"language-python\">import pandas as pd\n",
       "import numpy as np\n",
       "from evidently import Dataset, DataDefinition, Report\n",
       "from evidently.presets import TextEvals\n",
       "from evidently.llm.templates import BinaryClassificationPromptTemplate\n",
       "import os\n",
       "\n",
       "# Set your OpenAI API key\n",
       "os.environ[&quot;OPENAI_API_KEY&quot;] = &quot;YOUR_KEY&quot;\n",
       "</code></pre>\n",
       "<h3>3. <strong>Create Your Evaluation Dataset</strong></h3>\n",
       "<p>Prepare a toy Q&amp;A dataset. This might include questions, approved responses (ground truth), new responses from the system, and manual labels. Here's an example of how to generate a simple dataset:</p>\n",
       "<pre><code class=\"language-python\"># Example of creating a toy dataset\n",
       "data = {\n",
       "    &quot;questions&quot;: [&quot;What is the capital of France?&quot;, &quot;What is 2 + 2?&quot;],\n",
       "    &quot;target_responses&quot;: [&quot;Paris&quot;, &quot;4&quot;],\n",
       "    &quot;new_responses&quot;: [&quot;Paris&quot;, &quot;Four&quot;],\n",
       "    &quot;manual_labels&quot;: [1, 0]  # Assume 1 is correct, 0 is incorrect\n",
       "}\n",
       "eval_dataset = pd.DataFrame(data)\n",
       "</code></pre>\n",
       "<h3>4. <strong>Configure the LLM Evaluator</strong></h3>\n",
       "<p>Set up the LLM evaluator prompt template:</p>\n",
       "<pre><code class=\"language-python\">verbosity = BinaryClassificationPromptTemplate(\n",
       "    criteria=&quot;Conciseness refers to the quality of being brief...&quot;,\n",
       "    target_category=&quot;concise&quot;,\n",
       "    non_target_category=&quot;verbose&quot;,\n",
       "    uncertainty=&quot;unknown&quot;,\n",
       "    include_reasoning=True,\n",
       "    pre_messages=[(&quot;system&quot;, &quot;You are an expert text evaluator.&quot;)]\n",
       ")\n",
       "\n",
       "# Add the LLM evaluation to the dataset\n",
       "eval_dataset.add_descriptors(descriptors=[\n",
       "    LLMEval(&quot;new_responses&quot;, template=verbosity, provider=&quot;openai&quot;, model=&quot;gpt-4o-mini&quot;, alias=&quot;Verbosity&quot;)\n",
       "])\n",
       "</code></pre>\n",
       "<h3>5. <strong>Run the Evaluation and Generate Report</strong></h3>\n",
       "<p>Finally, run the report and view your evaluation results:</p>\n",
       "<pre><code class=\"language-python\">report = Report([TextEvals()])\n",
       "my_eval = report.run(eval_dataset, None)\n",
       "print(my_eval)\n",
       "</code></pre>\n",
       "<h3>Additional Resources</h3>\n",
       "<p>You can explore a more detailed walk-through of this tutorial by visiting the full documentation <a href=\"https://github.com/evidentlyai/docs/blob/main/examples/LLM_judge.mdx\">here</a>. Also, for a more interactive experience, run the Jupyter notebook linked in the documentation or check out the <a href=\"https://www.youtube.com/watch?v=kP_aaFnXLmY\">video tutorial</a> for a step-by-step guide.</p>\n",
       "<p>These steps will help you evaluate models and their responses effectively using LLMs as judges. Feel free to iterate on the prompts to suit your specific requirements!</p>\n",
       "</div>\n",
       "            </div>\n",
       "        "
      ],
      "text/plain": [
       "<IPython.core.display.HTML object>"
      ]
     },
     "metadata": {},
     "output_type": "display_data"
    },
    {
     "name": "stdout",
     "output_type": "stream",
     "text": [
      "You: show me a complete example for llm as a judge\n"
     ]
    },
    {
     "data": {
      "text/html": [
       "\n",
       "            <details>\n",
       "            <summary>Function call: <tt>read_file({\"filename\":\"examples/LLM_judge.mdx\"})</tt></summary>\n",
       "            <div>\n",
       "                <b>Call</b>\n",
       "                <pre>{\"filename\":\"examples/LLM_judge.mdx\"}</pre>\n",
       "            </div>\n",
       "            <div>\n",
       "                <b>Output</b>\n",
       "                <pre>{'type': 'function_call_output', 'call_id': 'call_mmAUoC53dKSzR3q4ka6OMhlW', 'output': '\"import CloudSignup from \\'/snippets/cloud_signup.mdx\\';\\\\nimport CreateProject from \\'/snippets/create_project.mdx\\';\\\\n\\\\nIn this tutorial, we\\'ll show how to evaluate text for custom criteria using LLM as the judge, and evaluate the LLM judge itself.\\\\n\\\\n<Info>\\\\n  **This is a local example.** You will run and explore results using the open-source Python library. At the end, we\\\\u2019ll optionally show how to upload results to the Evidently Platform for easy exploration.\\\\n</Info>\\\\n\\\\nWe\\'ll explore two ways to use an LLM as a judge:\\\\n\\\\n- **Reference-based**. Compare new responses against a reference. This is useful for regression testing or whenever you have a \\\\\"ground truth\\\\\" (approved responses) to compare against.\\\\n- **Open-ended**. Evaluate responses based on custom criteria, which helps evaluate new outputs when there\\'s no reference available.\\\\n\\\\nWe will focus on demonstrating **how to create and tune the LLM evaluator**, which you can then apply in different contexts, like regression testing or prompt comparison.\\\\n\\\\n<Info>\\\\n**Prefer videos?** We also have an extended code tutorial where we iteratively improve the prompt for LLM judge with a video walkthrough:  https://www.youtube.com/watch?v=kP_aaFnXLmY\\\\n</Info>\\\\n\\\\n## Tutorial scope\\\\n\\\\nHere\\'s what we\\'ll do:\\\\n\\\\n- **Create an evaluation dataset**. Create a toy Q&A dataset.\\\\n- **Create and run an LLM as a judge**. Design an LLM evaluator prompt.\\\\n- **Evaluate the judge**. Compare the LLM judge\\'s evaluations with manual labels.\\\\n\\\\nWe\\'ll start with the reference-based evaluator that determines whether a new response is correct (it\\'s more complex since it requires passing two columns to the prompt). Then, we\\'ll create a simpler judge focused on verbosity.\\\\n\\\\nTo complete the tutorial, you will need:\\\\n\\\\n- Basic Python knowledge.\\\\n- An OpenAI API key to use for the LLM evaluator.\\\\n\\\\nWe recommend running this tutorial in Jupyter Notebook or Google Colab to render rich HTML objects with summary results directly in a notebook cell.\\\\n\\\\n<Info>\\\\n  Run a sample notebook: [Jupyter notebook](https://github.com/evidentlyai/community-examples/blob/main/tutorials/LLM_as_a_judge_tutorial_updated.ipynb) or [open it in Colab](https://colab.research.google.com/github/evidentlyai/community-examples/blob/main/tutorials/LLM_as_a_judge_tutorial_updated.ipynb).\\\\n</Info>\\\\n\\\\n## 1.  Installation and Imports\\\\n\\\\nInstall Evidently:\\\\n\\\\n```python\\\\npip install evidently\\\\n```\\\\n\\\\nImport the required modules:\\\\n\\\\n```python\\\\nimport pandas as pd\\\\nimport numpy as np\\\\n\\\\nfrom evidently import Dataset\\\\nfrom evidently import DataDefinition\\\\nfrom evidently import Report\\\\nfrom evidently import BinaryClassification\\\\nfrom evidently.descriptors import *\\\\nfrom evidently.presets import TextEvals, ValueStats, ClassificationPreset\\\\nfrom evidently.metrics import *\\\\n\\\\nfrom evidently.llm.templates import BinaryClassificationPromptTemplate\\\\n```\\\\n\\\\nPass your OpenAI key as an environment variable:\\\\n\\\\n```python\\\\nimport os\\\\nos.environ[\\\\\"OPENAI_API_KEY\\\\\"] = \\\\\"YOUR_KEY\\\\\"\\\\n```\\\\n\\\\n<Info>\\\\n**Using other evaluator LLMs**. Check the [LLM judge docs](/metrics/customize_llm_judge#change-the-evaluator-llm) to see how you can select a different evaluator LLM. \\\\n</Info>\\\\n\\\\n## 2.  Create the Dataset\\\\n\\\\nFirst, we\\'ll create a toy Q&A dataset with customer support question that includes:\\\\n\\\\n- **Questions**. The inputs sent to the LLM app.\\\\n- **Target responses**. The approved responses you consider accurate.\\\\n- **New responses**. Imitated new responses from the system.\\\\n- **Manual labels with explanation**. Labels that say if response is correct or not.\\\\n\\\\nWhy add the labels? It\\'s a good idea to be the judge yourself before you write a prompt. This helps:\\\\n\\\\n- Formulate better criteria. You discover nuances that help you write a better prompt.\\\\n- Get the \\\\\"ground truth\\\\\". You can use it to evaluate the quality of the LLM judge.\\\\n\\\\nUltimately, an LLM judge is a small ML system, and it needs its own evals\\\\\\\\!\\\\n\\\\n**Generate the dataframe**. Here\\'s how you can create this dataset in one go:\\\\n\\\\n<Accordion title=\\\\\"Toy data to run the example\\\\\" defaultOpen={false}>\\\\n  ```python\\\\n  data = [\\\\n    [\\\\\"Hi there, how do I reset my password?\\\\\",\\\\n     \\\\\"To reset your password, click on \\'Forgot Password\\' on the login page and follow the instructions sent to your registered email.\\\\\",\\\\n     \\\\\"To change your password, select \\'Forgot Password\\' on the login screen and follow the steps sent to your registered email address. If you don\\'t receive the email, check your spam folder or contact support for assistance.\\\\\",\\\\n     \\\\\"incorrect\\\\\", \\\\\"adds new information (contact support)\\\\\"],\\\\n  \\\\n    [\\\\\"Where can I find my transaction history?\\\\\",\\\\n     \\\\\"You can view your transaction history by logging into your account and navigating to the \\'Transaction History\\' section. Here, you can see all your past transactions. You can also filter the transactions by date or type for easier viewing.\\\\\",\\\\n     \\\\\"Log into your account and go to \\'Transaction History\\' to see all your past transactions. In this section, you can view and filter your transactions by date or type. This allows you to find specific transactions quickly and easily.\\\\\",\\\\n     \\\\\"correct\\\\\", \\\\\"\\\\\"],\\\\n  \\\\n    [\\\\\"How do I add another user to my account?\\\\\",\\\\n     \\\\\"I am afraid it is not currently possible to add multiple users to the account. Our system supports only one user per account for security reasons. We recommend creating separate accounts for different users.\\\\\",\\\\n     \\\\\"To add a secondary user, go to \\'Account Settings\\', select \\'Manage Users\\', and enter the details of the person you want to add. You can set permissions for their access, deciding what they can and cannot do within the account.\\\\\",\\\\n     \\\\\"incorrect\\\\\", \\\\\"contradiction (incorrect answer)\\\\\"],\\\\n  \\\\n    [\\\\\"Is it possible to link multiple bank accounts?\\\\\",\\\\n     \\\\\"Yes, you can link multiple bank accounts by going to \\'Account Settings\\' in the menu and selecting \\'Add Bank Account\\'. Follow the prompts to add your bank account details. Make sure to verify each bank account by following the verification process.\\\\\",\\\\n     \\\\\"You can add multiple bank accounts by visiting \\'Accounts\\' in the menu and choosing \\'Add Bank Account\\'. Enter your bank details as prompted and complete the verification process for each account to link them successfully.\\\\\",\\\\n     \\\\\"incorrect\\\\\", \\\\\"contradiction (incorrect menu item)\\\\\"],\\\\n  \\\\n    [\\\\\"Can I use your service for cryptocurrency transactions?\\\\\",\\\\n     \\\\\"Currently, our service does not support cryptocurrency transactions. Please check our website for updates regarding this feature. We are continuously working to expand our services and may include this in the future.\\\\\",\\\\n     \\\\\"Currently, our service does not support cryptocurrency transactions. Please check our website for updates regarding this feature. We are continuously working to expand our services and may include this in the future.\\\\\",\\\\n     \\\\\"correct\\\\\", \\\\\"\\\\\"],\\\\n  \\\\n    [\\\\\"Hi, can I get a detailed report of my monthly transactions?\\\\\",\\\\n     \\\\\"Yes, you can generate a detailed monthly report of your transactions by logging into your account, going to \\'Transaction History\\', and selecting \\'Generate Report\\'. You can customize the report by selecting specific dates or transaction types.\\\\\",\\\\n     \\\\\"You can get a detailed monthly report by logging into your account, navigating to \\'Transaction History\\', and clicking on \\'Generate Report\\'. Customize your report by choosing the date range and types of transactions you want to include.\\\\\",\\\\n     \\\\\"correct\\\\\", \\\\\"\\\\\"],\\\\n  \\\\n    [\\\\\"I am traveling to the US. Can I use the app there?\\\\\",\\\\n     \\\\\"Yes, you can use the app in the US just like you do at home. Ensure you have an internet connection. You may also want to update your app to the latest version before traveling for optimal performance.\\\\\",\\\\n     \\\\\"The app will work in the US without any issues. Just make sure you have access to the internet. For the best experience, update your app to the latest version before you travel.\\\\\",\\\\n     \\\\\"correct\\\\\", \\\\\"\\\\\"],\\\\n  \\\\n    [\\\\\"How do I link my payment account to a new mobile number?\\\\\",\\\\n     \\\\\"To link a new mobile number, log in to your account, go to \\'Account Settings\\', select \\'Mobile Number\\', and follow the instructions to verify your new number. You will need to enter the new number and verify it via a code sent to your phone.\\\\\",\\\\n     \\\\\"To add a new number, navigate to the \\'Account Settings\\' section, select \\'Mobile Number\\' and proceed with the steps to add and confirm the new number. Enter the new mobile number and verify it using the code sent to your phone.\\\\\",\\\\n     \\\\\"correct\\\\\", \\\\\"\\\\\"],\\\\n  \\\\n    [\\\\\"Can I receive notifications for transactions in real-time?\\\\\",\\\\n     \\\\\"Yes, you can enable real-time notifications for transactions by going to \\'Account Settings\\', then \\'Notifications\\', and turning on \\'Transaction Alerts\\'. You can choose to receive alerts via SMS, email, or push notifications on your mobile device.\\\\\",\\\\n     \\\\\"To receive real-time notifications for transactions, log into your account, go to \\'Account Settings\\', select \\'Notifications\\', and enable \\'Transaction Alerts\\'. Choose your preferred notification method between email or push notifications.\\\\\",\\\\n     \\\\\"incorrect\\\\\", \\\\\"omits information (sms notification)\\\\\"],\\\\n  \\\\n    [\\\\\"Hey, can I set up automatic transfers to my savings account?\\\\\",\\\\n     \\\\\"Yes, you can set up automatic transfers by going to \\'Account Settings\\', selecting \\'Automatic Transfers\\', and specifying the amount and frequency. You can choose to transfer weekly, bi-weekly, or monthly. Make sure to save the settings to activate the transfers.\\\\\",\\\\n     \\\\\"You can arrange automatic transfers by going to \\'Account Settings\\', choosing \\'Automatic Transfers\\', and setting the desired amount and frequency. Don\\'t forget to save the changes to enable the automatic transfers.\\\\\",\\\\n     \\\\\"incorrect\\\\\", \\\\\"omits information (limited frequency of transfers available)\\\\\"],\\\\n  \\\\n    [\\\\\"Hi there, how do I reset my password?\\\\\",\\\\n     \\\\\"To reset your password, click on \\'Forgot Password\\' on the login page and follow the instructions sent to your registered email.\\\\\",\\\\n     \\\\\"To change your password, select \\'Forgot Password\\' on the login screen and follow the steps sent to your registered email address. If you don\\'t receive the email, check your spam folder.\\\\\",\\\\n     \\\\\"correct\\\\\", \\\\\"\\\\\"],\\\\n  \\\\n    [\\\\\"How can I update my billing address?\\\\\",\\\\n     \\\\\"To update your billing address, log into your account, go to \\'Account Settings\\', select \\'Billing Information\\', and enter your new address. Make sure to save the changes once you are done.\\\\\",\\\\n     \\\\\"To update your billing address, log into your account, navigate to \\'Account Settings\\', and select \\'Billing Information\\'. Enter your new address and ensure all fields are filled out correctly. Save the changes, and you will receive a confirmation email with the updated address details.\\\\\",\\\\n     \\\\\"incorrect\\\\\", \\\\\"adds new information (confirmation email)\\\\\"],\\\\n  \\\\n    [\\\\\"How do I contact customer support?\\\\\",\\\\n     \\\\\"You can contact customer support by logging into your account, going to the \\'Help\\' section, and selecting \\'Contact Us\\'. You can choose to reach us via email, phone, or live chat for immediate assistance.\\\\\",\\\\n     \\\\\"To contact customer support, log into your account and go to the \\'Help\\' section. Select \\'Contact Us\\' and choose your preferred method: email, phone, or live chat. Our support team is available 24/7 to assist you with any issues. Additionally, you can find a FAQ section that may answer your questions without needing to contact support.\\\\\",\\\\n     \\\\\"incorrect\\\\\", \\\\\"adds new information (24/7 availability, FAQ section)\\\\\"],\\\\n  \\\\n    [\\\\\"What should I do if my card is lost or stolen?\\\\\",\\\\n     \\\\\"If your card is lost or stolen, immediately log into your account, go to \\'Card Management\\', and select \\'Report Lost/Stolen\\'. Follow the instructions to block your card and request a replacement. You can also contact our support team for assistance.\\\\\",\\\\n     \\\\\"If your card is lost or stolen, navigate to \\'Card Management\\' in your account, and select \\'Report Lost/Stolen\\'. Follow the prompts to block your card and request a replacement. Additionally, you can contact our support team for help.\\\\\",\\\\n     \\\\\"correct\\\\\", \\\\\"\\\\\"],\\\\n  \\\\n    [\\\\\"How do I enable two-factor authentication (2FA)?\\\\\",\\\\n     \\\\\"To enable two-factor authentication, log into your account, go to \\'Security Settings\\', and select \\'Enable 2FA\\'. Follow the instructions to link your account with a 2FA app like Google Authenticator. Once set up, you will need to enter a code from the app each time you log in.\\\\\",\\\\n     \\\\\"To enable two-factor authentication, log into your account, navigate to \\'Security Settings\\', and choose \\'Enable 2FA\\'. Follow the on-screen instructions to link your account with a 2FA app such as Google Authenticator. After setup, each login will require a code from the app. Additionally, you can set up backup codes in case you lose access to the 2FA app.\\\\\",\\\\n     \\\\\"incorrect\\\\\", \\\\\"adds new information (backup codes)\\\\\"]\\\\n  ]\\\\n  \\\\n  columns = [\\\\\"question\\\\\", \\\\\"target_response\\\\\", \\\\\"new_response\\\\\", \\\\\"label\\\\\", \\\\\"comment\\\\\"]\\\\n  \\\\n  golden_dataset = pd.DataFrame(data, columns=columns)\\\\n  ```\\\\n</Accordion>\\\\n\\\\n<Note>\\\\n  **Synthetic data**. You can also generate example inputs for your LLM app using [Evidently Platform](/docs/platform/datasets_generate).\\\\n</Note>\\\\n\\\\n**Create an Evidently dataset object.** Pass the dataframe and [map the column types](/docs/library/data_definition):\\\\n\\\\n```python\\\\ndefinition = DataDefinition(\\\\n    text_columns=[\\\\\"question\\\\\", \\\\\"target_response\\\\\", \\\\\"new_response\\\\\"],\\\\n    categorical_columns=[\\\\\"label\\\\\"]\\\\n    )\\\\n\\\\neval_dataset = Dataset.from_pandas(\\\\n    golden_dataset,\\\\n    data_definition=definition)\\\\n```\\\\n\\\\nTo preview the dataset:\\\\n\\\\n```python\\\\npd.set_option(\\'display.max_colwidth\\', None)\\\\ngolden_dataset.head(5)\\\\n```\\\\n\\\\n![](/images/examples/llm_judge_tutorial_data_preview-min.png)\\\\n\\\\nHere\\'s the distribution of examples: we have both correct and incorrect responses.\\\\n\\\\n![](/images/examples/llm_judge_tutorial_judge_label_dist-min.png)\\\\n\\\\n<Accordion title=\\\\\"How to preview\\\\\" defaultOpen={false}>\\\\n  Run this to preview the distribution of the column.\\\\n\\\\n  ```python\\\\n  report = Report([\\\\n    ValueStats(column=\\\\\"label\\\\\")\\\\n  ])\\\\n  \\\\n  my_eval = report.run(eval_dataset, None)\\\\n  my_eval\\\\n  \\\\n  # my_eval.dict()\\\\n  # my_eval.json()\\\\n  ```\\\\n</Accordion>\\\\n\\\\n## 3. Correctness evaluator\\\\n\\\\nNow it\\'s time to set up an LLM judge! We\\'ll start with an evaluator that checks if responses are correct compared to the reference. The goal is to match the quality of our manual labels.\\\\n\\\\n**Configure the evaluator prompt**. We\\'ll use the LLMEval [Descriptor](/docs/library/descriptors) to create a custom binary evaluator. Here\\'s how to define the prompt template for correctness:\\\\n\\\\n```python\\\\ncorrectness = BinaryClassificationPromptTemplate(\\\\n        criteria = \\\\\"\\\\\"\\\\\"An ANSWER is correct when it is the same as the REFERENCE in all facts and details, even if worded differently.\\\\n        The ANSWER is incorrect if it contradicts the REFERENCE, adds additional claims, omits or changes details.\\\\n        REFERENCE:\\\\n        =====\\\\n        {target_response}\\\\n        =====\\\\\"\\\\\"\\\\\",\\\\n        target_category=\\\\\"incorrect\\\\\",\\\\n        non_target_category=\\\\\"correct\\\\\",\\\\n        uncertainty=\\\\\"unknown\\\\\",\\\\n        include_reasoning=True,\\\\n        pre_messages=[(\\\\\"system\\\\\", \\\\\"You are an expert evaluator. You will be given an ANSWER and REFERENCE\\\\\")],\\\\n        )\\\\n```\\\\n\\\\n<Info>\\\\n  The **Binary Classification** template (check [docs](/metrics/customize_llm_judge)) instructs an LLM to classify the input into two classes and add reasoning. You don\\'t need to ask for these details explicitly, or worry about parsing the output structure \\\\u2014 that\\'s built into the template. You only need to add the criteria. You can also use a multi-class template.\\\\n</Info>\\\\n\\\\nIn this example, we\\'ve set up the prompt to be strict (\\\\\"all fact and details\\\\\"). You can write it differently. This flexibility is one of the key benefits of creating a custom judge.\\\\n\\\\n**Score your data**. To add this new descriptor to your dataset, run:\\\\n\\\\n```python\\\\neval_dataset.add_descriptors(descriptors=[\\\\n    LLMEval(\\\\\"new_response\\\\\",\\\\n            template=correctness,\\\\n            provider = \\\\\"openai\\\\\",\\\\n            model = \\\\\"gpt-4o-mini\\\\\",\\\\n            alias=\\\\\"Correctness\\\\\",\\\\n            additional_columns={\\\\\"target_response\\\\\": \\\\\"target_response\\\\\"}),\\\\n    ])\\\\n```\\\\n\\\\n**Preview the results**. You can view the scored dataset in Python. This will show a DataFrame with newly added scores and explanations.\\\\n\\\\n```python\\\\neval_dataset.as_dataframe()\\\\n```\\\\n\\\\n![](/images/examples/llm_judge_tutorial_judge_scored_data-min.png)\\\\n\\\\n<Info>\\\\n  **Note**: your explanations will vary since LLMs are non-deterministic.\\\\n</Info>\\\\n\\\\nIf you want, you can also add the column that will help you easily sort and find all error where the LLM-judged label is different from the ground truth label.\\\\n\\\\n```python\\\\neval_dataset.add_descriptors(descriptors=[\\\\n    ExactMatch(columns=[\\\\\"label\\\\\", \\\\\"Correctness\\\\\"], alias=\\\\\"Judge_match\\\\\")])\\\\n```\\\\n\\\\n**Get a Report.** Summarize the result by generating an Evidently Report.\\\\n\\\\n```python\\\\nreport = Report([\\\\n    TextEvals()\\\\n])\\\\n\\\\nmy_eval = report.run(eval_dataset, None)\\\\nmy_eval\\\\n```\\\\n\\\\nThis will render an HTML report in the notebook cell. You can use other [export options](/docs/library/output_formats), like `as_dict()` for a Python dictionary output.\\\\n\\\\n![](/images/examples/llm_judge_tutorial_report-min.png)\\\\n\\\\nSince we already performed exact matching, you can see the crude accuracy of our judge. However, accuracy is not always the best metric. In this case, we might be more interested in recall: we want to make sure that the judge does not miss any \\\\\"incorrect\\\\\" answers .\\\\n\\\\n## 4. Evaluate the LLM Eval quality\\\\n\\\\nThis part is a bit meta: we\\'re going to evaluate the quality of our LLM evaluator itself\\\\\\\\! We can treat it as a simple **binary classification** problem.\\\\n\\\\n**Data definition**. To evaluate the classification quality, we need to map the structure of the dataset accordingly first. The column with the manual label is the \\\\\"target\\\\\", and the LLM-judge response is the \\\\\"prediction\\\\\":\\\\n\\\\n```python\\\\ndf=eval_dataset.as_dataframe()\\\\n\\\\ndefinition_2 = DataDefinition(\\\\n    classification=[BinaryClassification(\\\\n        target=\\\\\"label\\\\\",\\\\n        prediction_labels=\\\\\"Correctness\\\\\",\\\\n        pos_label = \\\\\"incorrect\\\\\")],\\\\n    categorical_columns=[\\\\\"label\\\\\", \\\\\"Correctness\\\\\"])\\\\n\\\\nclass_dataset = Dataset.from_pandas(\\\\n    pd.DataFrame(df),\\\\n    data_definition=definition_2)\\\\n```\\\\n\\\\n<Info>\\\\n  `Pos_label` refers to the class that is treated as the target (\\\\\"what we want to predict better\\\\\") for metrics like precision, recall, F1-score.\\\\n</Info>\\\\n\\\\n**Get a Report**. Let\\'s use a`ClassificationPreset()` that combines several classification metrics:\\\\n\\\\n```python\\\\nreport = Report([\\\\n    ClassificationPreset()\\\\n])\\\\n\\\\nmy_eval = report.run(class_dataset, None)\\\\nmy_eval\\\\n\\\\n# or my_eval.as_dict()\\\\n```\\\\n\\\\nWe can now get a well-rounded evaluation and explore the confusion matrix. We have one type of error each: overall the results are pretty good\\\\\\\\! You can also refine the prompt to try to improve them.\\\\n\\\\n![](/images/examples/llm_judge_tutorial_conf_matrix-min.png)\\\\n\\\\n## 5. Verbosity evaluator\\\\n\\\\nNext, let\\\\u2019s create a simpler verbosity judge. It will check whether the responses are concise and to the point. This only requires evaluating one output column: such checks are perfect for production evaluations where you don\\\\u2019t have a reference answer.\\\\n\\\\nHere\\'s how to set up the prompt template for verbosity:\\\\n\\\\n```python\\\\nverbosity = BinaryClassificationPromptTemplate(\\\\n        criteria = \\\\\"\\\\\"\\\\\"Conciseness refers to the quality of being brief and to the point, while still providing all necessary information.\\\\n            A concise response should:\\\\n            - Provide the necessary information without unnecessary details or repetition.\\\\n            - Be brief yet comprehensive enough to address the query.\\\\n            - Use simple and direct language to convey the message effectively.\\\\\"\\\\\"\\\\\",\\\\n        target_category=\\\\\"concise\\\\\",\\\\n        non_target_category=\\\\\"verbose\\\\\",\\\\n        uncertainty=\\\\\"unknown\\\\\",\\\\n        include_reasoning=True,\\\\n        pre_messages=[(\\\\\"system\\\\\", \\\\\"You are an expert text evaluator. You will be given a text of the response to a user question.\\\\\")],\\\\n        )\\\\n```\\\\n\\\\nAdd this new descriptor to our existing dataset:\\\\n\\\\n```python\\\\neval_dataset.add_descriptors(descriptors=[\\\\n    LLMEval(\\\\\"new_response\\\\\",\\\\n            template=verbosity,\\\\n            provider = \\\\\"openai\\\\\",\\\\n            model = \\\\\"gpt-4o-mini\\\\\",\\\\n            alias=\\\\\"Verbosity\\\\\")\\\\n    ])\\\\n```\\\\n\\\\nRun the Report and view the summary results:\\\\u00a0\\\\n\\\\n```python\\\\nreport = Report([\\\\n    TextEvals()\\\\n])\\\\n\\\\nmy_eval = report.run(eval_dataset, None)\\\\nmy_eval\\\\n```\\\\n\\\\n![](/images/examples/llm_judge_tutorial_verbosity-min.png)\\\\n\\\\nYou can also view the dataframe using `eval_dataset.as_dataframe()`\\\\n\\\\n<Info>\\\\n  Don\\'t fully agree with the results? Use these labels as a starting point, edit the decisions where you see fit - now you\\'ve got your golden dataset\\\\\\\\! Next, iterate on your judge prompt. You can also try different evaluator LLMs to see which one does the job better. [How to change an LLM](/metrics/customize_llm_judge#change-the-evaluator-llm).\\\\n</Info>\\\\n\\\\n## What\\'s next?\\\\n\\\\nThe LLM judge itself is just one part of your overall evaluation framework. You can integrate this evaluator into different workflows, such as testing your LLM outputs after changing a prompt.\\\\n\\\\nTo be able to easily run and compare evals, systematically track the results, and interact with your evaluation dataset, you can use the Evidently Cloud platform.\\\\n\\\\n### Set up Evidently Cloud\\\\n\\\\n<CloudSignup />\\\\n\\\\nImport the components to connect with Evidently Cloud:\\\\n\\\\n```python\\\\nfrom evidently.ui.workspace import CloudWorkspace\\\\n```\\\\n\\\\n### Create a Project\\\\n\\\\n<CreateProject />\\\\n\\\\n### Send your eval\\\\n\\\\nSince you already created the eval, you can simply upload it to the Evidently Cloud.\\\\n\\\\n```python\\\\nws.add_run(project.id, my_eval, include_data=True)\\\\n```\\\\n\\\\nYou can then go to the Evidently Cloud, open your Project and explore the Report.\\\\n\\\\n![](/images/examples/llm_judge_tutorial_cloud-min.png)\\\\n\\\\n<Info>\\\\n  You can also [create the LLM judges with no-code](/docs/platform/evals_no_code).\\\\n</Info>\\\\n\\\\n# Reference documentation\\\\n\\\\nSee this page for complete [documentation on LLM judges](/metrics/customize_llm_judge).\"'}</pre>\n",
       "            </div>\n",
       "\n",
       "            </details>\n",
       "        "
      ],
      "text/plain": [
       "<IPython.core.display.HTML object>"
      ]
     },
     "metadata": {},
     "output_type": "display_data"
    },
    {
     "data": {
      "text/html": [
       "\n",
       "            <div>\n",
       "                <div><b>Assistant:</b></div>\n",
       "                <div><p>Here's a complete example of using an LLM as a judge for evaluating responses. This example follows the steps for creating a dataset, setting up an evaluator, and generating reports.</p>\n",
       "<h3>Step-by-Step Implementation</h3>\n",
       "<h4>1. <strong>Installation and Imports</strong></h4>\n",
       "<p>First, install the Evidently library, and then import the necessary modules.</p>\n",
       "<pre><code class=\"language-bash\">pip install evidently\n",
       "</code></pre>\n",
       "<pre><code class=\"language-python\">import pandas as pd\n",
       "import numpy as np\n",
       "from evidently import Dataset, DataDefinition, Report\n",
       "from evidently.llm.templates import BinaryClassificationPromptTemplate\n",
       "import os\n",
       "\n",
       "# Set your OpenAI API key\n",
       "os.environ[&quot;OPENAI_API_KEY&quot;] = &quot;YOUR_KEY&quot;\n",
       "</code></pre>\n",
       "<h4>2. <strong>Create the Evaluation Dataset</strong></h4>\n",
       "<p>Create a toy Q&amp;A dataset containing questions, target responses (correct answers), new responses from the system, and manual labels.</p>\n",
       "<pre><code class=\"language-python\">data = [\n",
       "    [&quot;Hi there, how do I reset my password?&quot;, \n",
       "     &quot;To reset your password, click on 'Forgot Password' on the login page and follow the instructions sent to your registered email.&quot;, \n",
       "     &quot;To change your password, select 'Forgot Password' on the login screen and follow the steps sent to your registered email address.&quot;,\n",
       "     &quot;incorrect&quot;, &quot;adds new information&quot;],\n",
       "    \n",
       "    [&quot;Where can I find my transaction history?&quot;, \n",
       "     &quot;You can view your transaction history by logging into your account and navigating to the 'Transaction History' section.&quot;, \n",
       "     &quot;Log into your account and go to 'Transaction History' to see all your past transactions.&quot;, \n",
       "     &quot;correct&quot;, &quot;&quot;],\n",
       "    \n",
       "    # Add more Q&amp;A samples as needed...\n",
       "]\n",
       "\n",
       "columns = [&quot;question&quot;, &quot;target_response&quot;, &quot;new_response&quot;, &quot;label&quot;, &quot;comment&quot;]\n",
       "golden_dataset = pd.DataFrame(data, columns=columns)\n",
       "\n",
       "# Create an Evidently dataset object\n",
       "definition = DataDefinition(\n",
       "    text_columns=[&quot;question&quot;, &quot;target_response&quot;, &quot;new_response&quot;],\n",
       "    categorical_columns=[&quot;label&quot;]\n",
       ")\n",
       "\n",
       "eval_dataset = Dataset.from_pandas(golden_dataset, data_definition=definition)\n",
       "\n",
       "# Preview the dataset\n",
       "pd.set_option('display.max_colwidth', None)\n",
       "print(golden_dataset.head(5))\n",
       "</code></pre>\n",
       "<h4>3. <strong>Set Up the Correctness Evaluator</strong></h4>\n",
       "<p>Define the prompt template for the correctness evaluation and add the LLM evaluator descriptor.</p>\n",
       "<pre><code class=\"language-python\">correctness = BinaryClassificationPromptTemplate(\n",
       "    criteria=&quot;&quot;&quot;An ANSWER is correct when it is the same as the REFERENCE in all facts and details, even if worded differently.\n",
       "    REFERENCE: {target_response}&quot;&quot;&quot;,\n",
       "    target_category=&quot;incorrect&quot;,\n",
       "    non_target_category=&quot;correct&quot;,\n",
       "    uncertainty=&quot;unknown&quot;,\n",
       "    include_reasoning=True,\n",
       "    pre_messages=[(&quot;system&quot;, &quot;You are an expert evaluator.&quot;)]\n",
       ")\n",
       "\n",
       "# Add the evaluator to the dataset\n",
       "eval_dataset.add_descriptors(descriptors=[\n",
       "    LLMEval(&quot;new_response&quot;,\n",
       "            template=correctness,\n",
       "            provider=&quot;openai&quot;,\n",
       "            model=&quot;gpt-4o-mini&quot;,\n",
       "            alias=&quot;Correctness&quot;,\n",
       "            additional_columns={&quot;target_response&quot;: &quot;target_response&quot;}),\n",
       "])\n",
       "</code></pre>\n",
       "<h4>4. <strong>Generate a Report</strong></h4>\n",
       "<p>Create and run a report to see the evaluation results.</p>\n",
       "<pre><code class=\"language-python\">report = Report([\n",
       "    TextEvals(),\n",
       "])\n",
       "\n",
       "my_eval = report.run(eval_dataset, None)\n",
       "print(my_eval)\n",
       "</code></pre>\n",
       "<h4>5. <strong>Evaluate the LLM Quality</strong></h4>\n",
       "<p>Evaluate the quality of the LLM evaluator by comparing its judgments against the manual labels.</p>\n",
       "<pre><code class=\"language-python\">df = eval_dataset.as_dataframe()\n",
       "\n",
       "definition_2 = DataDefinition(\n",
       "    classification=[BinaryClassification(\n",
       "        target=&quot;label&quot;,\n",
       "        prediction_labels=&quot;Correctness&quot;,\n",
       "        pos_label=&quot;incorrect&quot;)],\n",
       "    categorical_columns=[&quot;label&quot;, &quot;Correctness&quot;]\n",
       ")\n",
       "\n",
       "class_dataset = Dataset.from_pandas(df, data_definition=definition_2)\n",
       "\n",
       "report = Report([\n",
       "    ClassificationPreset()\n",
       "])\n",
       "\n",
       "my_eval = report.run(class_dataset, None)\n",
       "print(my_eval)\n",
       "</code></pre>\n",
       "<h4>6. <strong>Setting Up a Verbosity Evaluator</strong></h4>\n",
       "<p>You can also set up a verbosity evaluator to check for conciseness.</p>\n",
       "<pre><code class=\"language-python\">verbosity = BinaryClassificationPromptTemplate(\n",
       "    criteria=&quot;&quot;&quot;Conciseness refers to the quality of being brief and to the point, while still providing all necessary information.\n",
       "        A concise response should:\n",
       "        - Provide necessary information without unnecessary details.\n",
       "        - Be brief yet comprehensive enough to address the query.&quot;&quot;&quot;,\n",
       "    target_category=&quot;concise&quot;,\n",
       "    non_target_category=&quot;verbose&quot;,\n",
       "    uncertainty=&quot;unknown&quot;,\n",
       "    include_reasoning=True,\n",
       "    pre_messages=[(&quot;system&quot;, &quot;You are an expert text evaluator.&quot;)]\n",
       ")\n",
       "\n",
       "eval_dataset.add_descriptors(descriptors=[\n",
       "    LLMEval(&quot;new_response&quot;,\n",
       "            template=verbosity,\n",
       "            provider=&quot;openai&quot;,\n",
       "            model=&quot;gpt-4o-mini&quot;,\n",
       "            alias=&quot;Verbosity&quot;),\n",
       "])\n",
       "\n",
       "report = Report([\n",
       "    TextEvals(),\n",
       "])\n",
       "\n",
       "my_eval = report.run(eval_dataset, None)\n",
       "print(my_eval)\n",
       "</code></pre>\n",
       "<h3>Summary</h3>\n",
       "<p>This example illustrates the process of setting up an LLM as a judge to evaluate text responses. You can customize the criteria for both correctness and verbosity based on your requirements. This approach allows for systematic evaluation of responses and improvements based on feedback from the LLM.</p>\n",
       "<p>For a detailed view and further options, check the complete documentation in the original source found in <a href=\"https://github.com/evidentlyai/docs/blob/main/examples/LLM_judge.mdx\">LLM as a judge</a>.</p>\n",
       "</div>\n",
       "            </div>\n",
       "        "
      ],
      "text/plain": [
       "<IPython.core.display.HTML object>"
      ]
     },
     "metadata": {},
     "output_type": "display_data"
    },
    {
     "name": "stdout",
     "output_type": "stream",
     "text": [
      "You: what are drift thresholds and how do i use them?\n"
     ]
    },
    {
     "data": {
      "text/html": [
       "\n",
       "            <details>\n",
       "            <summary>Function call: <tt>search({\"query\":\"drift thresholds\"})</tt></summary>\n",
       "            <div>\n",
       "                <b>Call</b>\n",
       "                <pre>{\"query\":\"drift thresholds\"}</pre>\n",
       "            </div>\n",
       "            <div>\n",
       "                <b>Output</b>\n",
       "                <pre>{'type': 'function_call_output', 'call_id': 'call_XQ76b5okQS2AtZjE09f8ziLg', 'output': '[\\n  {\\n    \"start\": 3000,\\n    \"content\": \"cept Drift](https://www.evidentlyai.com/ml-in-production/concept-drift). To build intuition about different drift detection methods, check these research blogs: [numerical](https://www.evidentlyai.com/blog/data-drift-detection-large-datasets) data, [embeddings](https://www.evidentlyai.com/blog/embedding-drift-detection).\\\\n</Info>\\\\n\\\\n## Data requirements\\\\n\\\\n* **Input columns**. You can provide any input columns. They must be non-empty.\\\\n\\\\n* **Two datasets**. You must always pass both: the current one will be compared to the reference.\\\\n\\\\n* (Optional) **Set column types**. The Preset evaluates drift for numerical, categorical, or text data. You can specify column types explicitly (recommended). Otherwise Evidently will auto-detect numerical and categorical features. You must always map text data.\\\\n\\\\n<Info>\\\\n  **Data schema mapping**. Use the [data definition](/docs/library/data_definition) to map your input data.\\\\n</Info>\\\\n\\\\n## Report customization\\\\n\\\\nYou have multiple customization options.\\\\n\\\\n**Select columns**. You can apply Drift Detection only to some columns in the Dataset, for example, only to the important features. Use the `columns` parameter.\\\\n\\\\n**Change drift parameters.** You can modify how drift detection works:\\\\n\\\\n* **Change methods**. Evidently has a large number of drift detection methods, including PSI, K-L divergence, Jensen-Shannon distance, Wasserstein distance, etc. You can also pick tests by column.\\\\n\\\\n* **Change thresholds**. You can specify different drift detection conditions on the dataset or column level.\\\\n\\\\n* **Implement a custom method**. You can implement a custom drift method as Python function.\\\\n\\\\n<Info>\\\\n  **Drift detection parameters**. Learn available methods and parameters in [Drift Customization. ](/metrics/customize_data_drift).\\\\n</Info>\\\\n\\\\n**Modify Report composition**. You can add other Metrics to the Report to get a more comprehensive evaluation. Here are some recommended options.\\\\n\\\\n* **Single out the Target/Prediction column.** If you want to evaluate drift in\",\\n    \"title\": \"Data Drift\",\\n    \"description\": \"Overview of the Data Drift Preset.\",\\n    \"filename\": \"metrics/preset_data_drift.mdx\"\\n  },\\n  {\\n    \"start\": 4000,\\n    \"content\": \"lumns**. You can apply Drift Detection only to some columns in the Dataset, for example, only to the important features. Use the `columns` parameter.\\\\n\\\\n**Change drift parameters.** You can modify how drift detection works:\\\\n\\\\n* **Change methods**. Evidently has a large number of drift detection methods, including PSI, K-L divergence, Jensen-Shannon distance, Wasserstein distance, etc. You can also pick tests by column.\\\\n\\\\n* **Change thresholds**. You can specify different drift detection conditions on the dataset or column level.\\\\n\\\\n* **Implement a custom method**. You can implement a custom drift method as Python function.\\\\n\\\\n<Info>\\\\n  **Drift detection parameters**. Learn available methods and parameters in [Drift Customization. ](/metrics/customize_data_drift).\\\\n</Info>\\\\n\\\\n**Modify Report composition**. You can add other Metrics to the Report to get a more comprehensive evaluation. Here are some recommended options.\\\\n\\\\n* **Single out the Target/Prediction column.** If you want to evaluate drift in the Prediction column separately, you can add `ValueDrift(\\\\\"prediction\\\\\")` to your Report so that you see the drift in this value in a separate widget.\\\\n\\\\n* **Add data quality checks**. Add `DataSummaryPreset` to get descriptive stats and run Tests like detecting missing values. Data drift check drops nulls (and compares the distributions of non-empty features), so you may want to run these Tests separately.\\\\n\\\\n* **Check for correlation changes**. You can also consider adding checks on changes in correlations between the features.\\\\n\\\\n<Info>\\\\n  **Custom Report**. Check how to create a [Report](/docs/library/report) and add [Tests](/docs/library/tests) conditions.\\\\n</Info>\",\\n    \"title\": \"Data Drift\",\\n    \"description\": \"Overview of the Data Drift Preset.\",\\n    \"filename\": \"metrics/preset_data_drift.mdx\"\\n  },\\n  {\\n    \"start\": 7000,\\n    \"content\": \"ch as articles.\\\\n\\\\n<Tip>\\\\n  **Text descriptors drift**. If you work with raw text data, you can also check for distribution drift in text descriptors (such as text length, etc.) To use this method, first compute the selected [text descriptors](/docs/library/descriptors). Then, use numerical / categorical drift detection methods as usual.\\\\n</Tip>\\\\n\\\\n\\\\n## Resources\\\\n\\\\nTo build up a better intuition for which tests are better in different kinds of use cases, you can read our in-depth blogs with experimental code:\\\\n\\\\n* [Which test is the best? We compared 5 methods to detect data drift on large datasets](https://evidentlyai.com/blog/data-drift-detection-large-datasets).\\\\n\\\\n* [Shift happens: how to detect drift in ML embeddings](https://www.evidentlyai.com/blog/embedding-drift-detection).\\\\n\\\\nAdditional links:\\\\n\\\\n* [How to interpret data and prediction drift together?](https://evidentlyai.com/blog/data-and-prediction-drift)\\\\n\\\\n* [Do I need to monitor data drift if I can measure the ML model quality?](https://evidentlyai.com/blog/ml-monitoring-do-i-need-data-drift)\\\\n\\\\n* [\\\\\"My data drifted. What\\'s next?\\\\\" How to handle ML model drift in production.](https://evidentlyai.com/blog/ml-monitoring-data-drift-how-to-handle)\\\\n\\\\n* [What is the difference between outlier detection and data drift detection?](https://evidentlyai.com/blog/ml-monitoring-drift-detection-vs-outlier-detection)\",\\n    \"title\": \"Data drift\",\\n    \"description\": \"How data drift detection works\",\\n    \"filename\": \"metrics/explainer_drift.mdx\"\\n  },\\n  {\\n    \"start\": 1000,\\n    \"content\": \"Target value, it will be evaluated together with other columns.\\\\n\\\\n* **Overall dataset drift.** Returns the share of drifting columns in the Dataset. By default, Dataset Drift is detected if at least 50% of columns drift.\\\\n\\\\nThe table shows the drifting columns first. You can also choose to sort the rows by the feature name or type, and open up individual columns to see distribution details.\\\\n\\\\n![](/images/metrics/preset_data_drift-min.png)\\\\n\\\\nIf you choose to enable Tests, you will get an additional Test Suite view:\\\\n\\\\n![](/images/metrics/test_preset_data_drift-min.png)\\\\n\\\\n<Info>\\\\n  **Data Drift Explainer.** Read about [Data Drift Methods](/metrics/explainer_drift) and default algorithm.\\\\n</Info>\\\\n\\\\n## Use case\\\\n\\\\nYou can evaluate data drift in different scenarios.\\\\n\\\\n* **To monitor the ML model performance without ground truth.** When you do not have true labels or actuals, you can monitor **feature drift** and **prediction drift** to check if the model still operates in a familiar environment. These are proxy metrics. If you detect drift in features or prediction, you can trigger labelling and retraining, or decide to pause and switch to a different decision method.\\\\n\\\\n* **When you are debugging the ML model quality decay.** If you observe a drop in the model quality, you can evaluate Data Drift to explore the change in the feature patterns, e.g., to understand the change in the environment or discover the appearance of a new segment.\\\\n\\\\n* **To understand model drift in an offline environment.** You can explore the historical data drift to understand past changes and define the optimal drift detection approach and retraining strategy.\\\\n\\\\n* **To decide on the model retraining.** Before feeding fresh data into the model, you might want to verify whether it even makes sense. If there is no data drift, the environment is stable, and retraining might not be necessary.\\\\n\\\\n<Info>\\\\n  For conceptual explanation, read about [Data Drift](https://www.evidentlyai.com/ml-in-production/data-drift) and [Con\",\\n    \"title\": \"Data Drift\",\\n    \"description\": \"Overview of the Data Drift Preset.\",\\n    \"filename\": \"metrics/preset_data_drift.mdx\"\\n  },\\n  {\\n    \"start\": 0,\\n    \"content\": \"In some tests and metrics, Evidently uses the default Data Drift Detection algorithm. It helps detect the distribution drift in the individual columns (features, prediction, or target). This page describes how the **default** algorithm works.\\\\n\\\\nThis applies to: `DataDriftPreset`, `ValueDrift`, `DriftedColumnsCount`.\\\\n\\\\n<Info>\\\\n  This is an explainer page. For API reference, check the guide on [setting data drift parameters](/metrics/customize_data_drift).\\\\n</Info>\\\\n\\\\n## How it works\\\\n\\\\nEvidently compares the distributions of the values in a given column (or columns) of the two datasets. You should pass these datasets as **reference** and **current**. Evidently applies several statistical tests and drift detection methods to detect if the distribution has changed significantly. It returns a \\\\\"drift detected\\\\\" or \\\\\"not detected\\\\\" result.\\\\n\\\\nThere is a default logic to choosing the appropriate drift test for each column. It is based on:\\\\n\\\\n* column type: categorical, numerical, text data \\\\n\\\\n* the number of observations in the reference dataset\\\\n\\\\n* the number of unique values in the column (n\\\\\\\\_unique)\\\\n\\\\nOn top of this, you can set a rule to detect dataset-level drift based on the number of columns that are drifted.\\\\n\\\\n## Data requirements\\\\n\\\\n**Two datasets**. You always need to pass two datasets: current (dataset evaluated for drift) and reference (dataset that serves as a benchmark).\\\\n\\\\n**Non-empty columns**. To evaluate data or prediction drift in the dataset, you need to ensure that the columns you test for drift are not empty. If these columns are empty in either reference or current data, Evidently will not calculate distribution drift and will raise an error.\\\\n\\\\n**Empty values.** If some columns contain empty or infinite values (+-np.inf), these values will be filtered out when calculating distribution drift in the corresponding column.\\\\n\\\\n<Note>\\\\n  By default, drift tests do **not** react to changes or increases in the number of empty values. Since the high number of nulls can be an important \",\\n    \"title\": \"Data drift\",\\n    \"description\": \"How data drift detection works\",\\n    \"filename\": \"metrics/explainer_drift.mdx\"\\n  }\\n]'}</pre>\n",
       "            </div>\n",
       "\n",
       "            </details>\n",
       "        "
      ],
      "text/plain": [
       "<IPython.core.display.HTML object>"
      ]
     },
     "metadata": {},
     "output_type": "display_data"
    },
    {
     "data": {
      "text/html": [
       "\n",
       "            <div>\n",
       "                <div><b>Assistant:</b></div>\n",
       "                <div><h3>What are Drift Thresholds?</h3>\n",
       "<p>Drift thresholds are predefined limits that indicate when a change in the data distribution signals a potential issue in machine learning (ML) models. These thresholds help in evaluating whether the characteristics of the incoming data (current dataset) differ significantly from those of the reference dataset (historical baseline). They are crucial for maintaining model performance and validity over time.</p>\n",
       "<h3>How to Use Drift Thresholds?</h3>\n",
       "<p>You can use drift thresholds in the context of data drift detection by configuring them in your ML monitoring framework. Here’s how you can effectively apply drift thresholds:</p>\n",
       "<h4>1. <strong>Define Your Datasets</strong></h4>\n",
       "<p>You always need two datasets: a <strong>current</strong> dataset (your incoming data) and a <strong>reference</strong> dataset (historical data).</p>\n",
       "<pre><code class=\"language-python\"># Assume current_data and reference_data are your datasets\n",
       "</code></pre>\n",
       "<h4>2. <strong>Set Column Types</strong></h4>\n",
       "<p>Identify the types of data you are working with (numerical, categorical, or text data). You can specify these types to enhance the drift detection accuracy.</p>\n",
       "<pre><code class=\"language-python\"># Example of setting column types\n",
       "definition = DataDefinition(\n",
       "    text_columns=[&quot;text_column&quot;],\n",
       "    categorical_columns=[&quot;category_column&quot;],\n",
       "    numerical_columns=[&quot;numeric_column&quot;]\n",
       ")\n",
       "</code></pre>\n",
       "<h4>3. <strong>Choose Drift Detection Methods</strong></h4>\n",
       "<p>Select one or more statistical methods for detecting drift. Common methods include:</p>\n",
       "<ul>\n",
       "<li>Population Stability Index (PSI)</li>\n",
       "<li>Kullback-Leibler Divergence (K-L divergence)</li>\n",
       "<li>Jensen-Shannon distance</li>\n",
       "<li>Wasserstein distance</li>\n",
       "</ul>\n",
       "<p>You can choose the method based on the data type and the distribution you expect.</p>\n",
       "<h4>4. <strong>Set Drift Thresholds</strong></h4>\n",
       "<p>Define the thresholds for drift detection based on your business requirements. This could involve setting a minimum percentage of the dataset that should exhibit drift before actions are taken.</p>\n",
       "<p>For example:</p>\n",
       "<ul>\n",
       "<li>If more than 50% of features drift, consider retraining the model.</li>\n",
       "</ul>\n",
       "<h4>5. <strong>Implement Custom Methods</strong></h4>\n",
       "<p>If necessary, implement a custom drift detection method using Python functions. This allows for greater flexibility beyond built-in methods.</p>\n",
       "<h4>6. <strong>Evaluate and Monitor</strong></h4>\n",
       "<p>After configuring your drift detection settings, regularly evaluate your datasets to see if drift occurs above the set thresholds.</p>\n",
       "<pre><code class=\"language-python\"># Feasible code snippet for monitoring drift\n",
       "report = Report([DataDriftPreset(columns=[&quot;feature1&quot;, &quot;feature2&quot;])])\n",
       "my_eval = report.run(current_data, reference_data)\n",
       "</code></pre>\n",
       "<h4>7. <strong>Set Alerts and Retraining Triggers</strong></h4>\n",
       "<p>Based on the evaluation results, set up alerts or triggers for retraining the model if drift is detected beyond the established thresholds.</p>\n",
       "<h3>Example Code Snippet</h3>\n",
       "<p>Here’s a simplified example to illustrate the steps of using drift thresholds within an Evidently framework:</p>\n",
       "<pre><code class=\"language-python\">from evidently import Dataset, DataDefinition\n",
       "from evidently.report import Report\n",
       "from evidently.metrics import DataDriftPreset\n",
       "\n",
       "# Load your datasets\n",
       "reference_data = ...  # Reference dataset\n",
       "current_data = ...    # Current dataset\n",
       "\n",
       "# Define data types\n",
       "definition = DataDefinition(\n",
       "    numerical_columns=[&quot;age&quot;, &quot;salary&quot;],\n",
       "    categorical_columns=[&quot;department&quot;]\n",
       ")\n",
       "\n",
       "# Create Dataset objects\n",
       "reference_dataset = Dataset.from_pandas(reference_data, data_definition=definition)\n",
       "current_dataset = Dataset.from_pandas(current_data, data_definition=definition)\n",
       "\n",
       "# Create a Report with drift detection\n",
       "report = Report([\n",
       "    DataDriftPreset(columns=[&quot;age&quot;, &quot;salary&quot;], thresholds={&quot;drift_rate&quot;: 0.5})\n",
       "])\n",
       "\n",
       "# Run the drift detection\n",
       "drift_eval = report.run(current_dataset, reference_dataset)\n",
       "\n",
       "# Check results\n",
       "if drift_eval:\n",
       "    print(&quot;Drift detected&quot;)\n",
       "else:\n",
       "    print(&quot;No drift detected&quot;)\n",
       "</code></pre>\n",
       "<h3>Additional Resources</h3>\n",
       "<p>For more details about customizing drift detection methods and learning how to interpret results, you can refer to:</p>\n",
       "<ul>\n",
       "<li><a href=\"https://github.com/evidentlyai/docs/blob/main/metrics/preset_data_drift.mdx\">Evidently Data Drift Documentation</a></li>\n",
       "<li><a href=\"https://github.com/evidentlyai/docs/blob/main/metrics/customize_data_drift\">Customizing Drift Detection</a></li>\n",
       "</ul>\n",
       "<p>These resources will provide comprehensive information on effectively setting and managing drift thresholds in your ML workflows.</p>\n",
       "</div>\n",
       "            </div>\n",
       "        "
      ],
      "text/plain": [
       "<IPython.core.display.HTML object>"
      ]
     },
     "metadata": {},
     "output_type": "display_data"
    },
    {
     "name": "stdout",
     "output_type": "stream",
     "text": [
      "You: stop\n"
     ]
    },
    {
     "name": "stdout",
     "output_type": "stream",
     "text": [
      "Chat ended.\n"
     ]
    }
   ],
   "source": [
    "runner.run();"
   ]
  },
  {
   "cell_type": "markdown",
   "id": "aaa230d7",
   "metadata": {},
   "source": [
    "## Updating the Instructions\n",
    "\n",
    "To make the agents always read the entire file before generating the answer. We can add to the instructions...\n",
    "\n",
    "```\n",
    "Critical Rule\n",
    "\n",
    "Before generating or finalizing any code example or technical explanation, you must always call `read_file` to cross-check the correctness of the code.\n",
    "Do not rely solely on search results or assumptions — always verify by reading the actual file content.\n",
    "```"
   ]
  }
 ],
 "metadata": {
  "kernelspec": {
   "display_name": "Python 3 (ipykernel)",
   "language": "python",
   "name": "python3"
  },
  "language_info": {
   "codemirror_mode": {
    "name": "ipython",
    "version": 3
   },
   "file_extension": ".py",
   "mimetype": "text/x-python",
   "name": "python",
   "nbconvert_exporter": "python",
   "pygments_lexer": "ipython3",
   "version": "3.13.1"
  }
 },
 "nbformat": 4,
 "nbformat_minor": 5
}
