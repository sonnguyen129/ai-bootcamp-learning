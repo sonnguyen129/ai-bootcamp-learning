{
 "cells": [
  {
   "cell_type": "markdown",
   "id": "22b0719c",
   "metadata": {},
   "source": [
    "# Multi-Agent Deep Research with Pydantic AI"
   ]
  },
  {
   "cell_type": "markdown",
   "id": "fec7028a",
   "metadata": {},
   "source": [
    "Our multi-agent system consists of four specialized agents:\n",
    "\n",
    "- **Clarifier Agent**: Understands user intent and refines research questions\n",
    "- **Research Agent**: Performs systematic exploration across three stages\n",
    "- **Verifier/Synthesizer Agent**: Verifies that the claims are correct and combines findings into a cohesive article\n",
    "\n",
    "In this example, we'll follow a pre-defined flow:\n",
    "\n",
    "1. User asks initial question\n",
    "2. We clarify the question and intent\n",
    "3. We conduct research (phases 1, 2, 3)\n",
    "4. We hand off the research results to generate the final article\n",
    "\n",
    "In the next lesson, we'll keep it a bit more flexible by introducing the **Orchestrator Agent** - an agent that coordinates the entire workflow."
   ]
  },
  {
   "cell_type": "markdown",
   "id": "b37d2e3e",
   "metadata": {},
   "source": [
    "## Prework"
   ]
  },
  {
   "cell_type": "markdown",
   "id": "0b8faea1",
   "metadata": {},
   "source": [
    "### Data Setup and Indexing"
   ]
  },
  {
   "cell_type": "code",
   "execution_count": 1,
   "id": "59a7dede",
   "metadata": {},
   "outputs": [],
   "source": [
    "from pathlib import Path\n",
    "\n",
    "data_folder = Path('../data_cache/youtube_videos/')\n",
    "data_files = sorted(data_folder.glob(\"*.txt\"))"
   ]
  },
  {
   "cell_type": "markdown",
   "id": "6e9bbf8b",
   "metadata": {},
   "source": [
    "Process and chunk the transcript files:"
   ]
  },
  {
   "cell_type": "code",
   "execution_count": 2,
   "id": "3d9c4739",
   "metadata": {},
   "outputs": [
    {
     "data": {
      "application/vnd.jupyter.widget-view+json": {
       "model_id": "923708eccfe743738c31f65c4fe7319c",
       "version_major": 2,
       "version_minor": 0
      },
      "text/plain": [
       "  0%|          | 0/191 [00:00<?, ?it/s]"
      ]
     },
     "metadata": {},
     "output_type": "display_data"
    }
   ],
   "source": [
    "import docs\n",
    "from tqdm.auto import tqdm\n",
    "\n",
    "documents = []\n",
    "\n",
    "for f in tqdm(data_files):\n",
    "    filename = f.name\n",
    "    video_id, _ = filename.split('.')\n",
    "    content = f.read_text(encoding='utf-8')\n",
    "    chunks = docs.sliding_window(content, size=3000, step=1500)\n",
    "\n",
    "    for chunk in chunks:\n",
    "        chunk['video_id'] = video_id\n",
    "        documents.append(chunk)"
   ]
  },
  {
   "cell_type": "markdown",
   "id": "a1769ede",
   "metadata": {},
   "source": [
    "Index the documents for search:"
   ]
  },
  {
   "cell_type": "code",
   "execution_count": 3,
   "id": "daefbfff",
   "metadata": {},
   "outputs": [
    {
     "data": {
      "text/plain": [
       "<minsearch.minsearch.Index at 0x11d67ef90>"
      ]
     },
     "execution_count": 3,
     "metadata": {},
     "output_type": "execute_result"
    }
   ],
   "source": [
    "from minsearch import Index\n",
    "\n",
    "index = Index(\n",
    "    text_fields=[\"content\"],\n",
    "    keyword_fields=[\"video_id\"]\n",
    ")\n",
    "\n",
    "index.fit(documents)\n"
   ]
  },
  {
   "cell_type": "markdown",
   "id": "280b256c",
   "metadata": {},
   "source": [
    "### Search Tool Implementation"
   ]
  },
  {
   "cell_type": "markdown",
   "id": "582bf0a8",
   "metadata": {},
   "source": [
    "Create enhanced search tools with document retrieval capabilities.\n",
    "\n",
    "Note that this time index returns _ids, and we also add a tool for retrieving document by _id. The Verifier agent will use this functionality"
   ]
  },
  {
   "cell_type": "code",
   "execution_count": 4,
   "id": "9d7baa07",
   "metadata": {},
   "outputs": [],
   "source": [
    "from typing import Any, Dict, List, TypedDict, Optional\n",
    "\n",
    "class SearchResult(TypedDict):\n",
    "    \"\"\"Represents a single search result entry.\"\"\"\n",
    "    start: int\n",
    "    content: str\n",
    "    video_id: str\n",
    "    _id: int # added\n",
    "\n",
    "class SearchTools:\n",
    "\n",
    "    def __init__(self, index):\n",
    "        self.index = index\n",
    "        \n",
    "    def search(self, query: str) -> List[SearchResult]:\n",
    "        \"\"\"\n",
    "        Search the index for documents matching the given query.\n",
    "    \n",
    "        Args:\n",
    "            query (str): The search query string.\n",
    "    \n",
    "        Returns:\n",
    "            List[SearchResult]: A list of search results. Each result dictionary contains:\n",
    "                - start (int): The starting position or offset within the source file.\n",
    "                - content (str): A text excerpt or snippet containing the match.\n",
    "                - video_id (str): Youtube video_id for the snippet.\n",
    "                - _id (int): The unique id for the document\n",
    "        \"\"\"\n",
    "        return self.index.search(\n",
    "            query=query,\n",
    "            num_results=5,\n",
    "            output_ids=True,\n",
    "        )\n",
    "\n",
    "    def get_document_by_id(self, _id: int) -> Optional[SearchResult]:\n",
    "        \"\"\"\n",
    "        Retrieve a document by its unique ID.\n",
    "\n",
    "        Args:\n",
    "            _id (int): The document id.\n",
    "\n",
    "        Returns:\n",
    "            SearchResult: The document corresponding to the given ID or None if it's not in the index.\n",
    "        \"\"\"\n",
    "        if _id < 0 or _id >= len(self.index.docs):\n",
    "            return None\n",
    "\n",
    "        return self.index.docs[_id]\n",
    "\n",
    "tools = SearchTools(index)\n"
   ]
  },
  {
   "cell_type": "markdown",
   "id": "3987858c",
   "metadata": {},
   "source": [
    "### Utility Classes and Functions"
   ]
  },
  {
   "cell_type": "markdown",
   "id": "69238a73",
   "metadata": {},
   "source": [
    "Helper class for tool call monitoring. We want to understand which agent is making the tool call, so we add the agent name:"
   ]
  },
  {
   "cell_type": "code",
   "execution_count": 5,
   "id": "93c6b12b",
   "metadata": {},
   "outputs": [],
   "source": [
    "from pydantic_ai.messages import FunctionToolCallEvent\n",
    "\n",
    "class NamedCallback:\n",
    "\n",
    "    def __init__(self, agent):\n",
    "        self.agent_name = agent.name\n",
    "\n",
    "    async def print_function_calls(self, ctx, event):\n",
    "        # Detect nested streams\n",
    "        if hasattr(event, \"__aiter__\"):\n",
    "            async for sub in event:\n",
    "                await self.print_function_calls(ctx, sub)\n",
    "            return\n",
    "\n",
    "        if isinstance(event, FunctionToolCallEvent):\n",
    "            tool_name = event.part.tool_name\n",
    "            args = event.part.args\n",
    "            print(f\"TOOL CALL ({self.agent_name}): {tool_name}({args})\")\n",
    "\n",
    "    async def __call__(self, ctx, event):\n",
    "        return await self.print_function_calls(ctx, event)\n"
   ]
  },
  {
   "cell_type": "markdown",
   "id": "fc214145",
   "metadata": {},
   "source": [
    "## Clarifier Agent"
   ]
  },
  {
   "cell_type": "markdown",
   "id": "8112cdd1",
   "metadata": {},
   "source": [
    "Ask the user to clarify the user intent."
   ]
  },
  {
   "cell_type": "code",
   "execution_count": 6,
   "id": "5f1f4c87",
   "metadata": {},
   "outputs": [],
   "source": [
    "from pydantic import BaseModel, Field\n",
    "from pydantic_ai import Agent"
   ]
  },
  {
   "cell_type": "code",
   "execution_count": 7,
   "id": "97988e42",
   "metadata": {},
   "outputs": [],
   "source": [
    "clarifier_instructions = \"\"\"\n",
    "Your task is to understand what user wants and what their intent is\n",
    "Later this will be passed to the researcher to go deeper in exploring it\n",
    "\n",
    "Use your own knowledge as well as the results from the search to clarify \n",
    "the intent of the user. \n",
    "ask the user for clarification once\n",
    "\n",
    "after that, process the response and prepare the handoff to \n",
    "the research agent\n",
    "\"\"\"\n",
    "\n",
    "clarifier = Agent(\n",
    "    name='clarifier_v2',\n",
    "    instructions=clarifier_instructions,\n",
    "    tools=[tools.search],\n",
    "    model='gpt-4o-mini'\n",
    ")\n"
   ]
  },
  {
   "cell_type": "code",
   "execution_count": 8,
   "id": "1d7bf532",
   "metadata": {},
   "outputs": [
    {
     "name": "stdout",
     "output_type": "stream",
     "text": [
      "TOOL CALL (clarifier_v2): search({\"query\":\"making money with AI\"})\n",
      "It seems that you're interested in exploring various ways to make money with artificial intelligence (AI). From my search results, here are some key insights:\n",
      "\n",
      "1. **Startup Funding and Investment**: Many AI startups engage with investors early on, often in pre-seed or seed rounds. Understanding how to make a compelling case for investment, such as detailing the need for funds for hiring or marketing, is essential (source: video excerpts discussing angel investors and VC funding).\n",
      "\n",
      "2. **Open Source and B2B Software**: There's a significant focus on B2B software and open-source solutions that leverage AI. Companies often utilize community-driven go-to-market strategies and open-source projects as a viable business model, especially in Europe (source: discussions around investment in AI-based startups).\n",
      "\n",
      "3. **Product Development**: Innovators are increasingly integrating AI into products in a way that doesn't require explicit user acknowledgment of its use. This can enhance functionality and attract users by providing valuable insights or automating tasks (source: discussions about invisible AI applications).\n",
      "\n",
      "4. **Business Models**: The software as a service (SaaS) model is popular in the AI industry. Companies often make money through affiliate marketing or by integrating AI technologies into platforms where they can charge for premium features or services (source: conversation about a digital clinic app using AI).\n",
      "\n",
      "5. **Market Demand**: There's a growing demand for AI applications across various industries, though companies need to be cautious not to over-hype their AI capabilities. Balancing the excitement of AI with practical applications that deliver real user benefits is essential (source: commentary on AI trends and user perceptions).\n",
      "\n",
      "To ensure I understand your request fully, could you please clarify if there are specific aspects of making money with AI that you are particularly interested in, such as investment strategies, product development, or market trends? \n",
      "\n",
      "Once I get your clarification, I can prepare more detailed information for the research agent.\n"
     ]
    }
   ],
   "source": [
    "question = \"do research on making money with AI\"\n",
    "\n",
    "results = await clarifier.run(\n",
    "    user_prompt=question,\n",
    "    event_stream_handler=NamedCallback(clarifier)\n",
    ")\n",
    "\n",
    "print(results.output)\n"
   ]
  },
  {
   "cell_type": "markdown",
   "id": "45de9523",
   "metadata": {},
   "source": [
    "After refining the instructions with ChatGPT\n",
    "\n",
    "```\n",
    "- refine the prompt and schema description\n",
    "- I want the output contain the initial and refined information so it can be handed over to the agent \n",
    "```"
   ]
  },
  {
   "cell_type": "code",
   "execution_count": 9,
   "id": "b3b564be",
   "metadata": {},
   "outputs": [],
   "source": [
    "\n",
    "clarifier_instructions = \"\"\"\n",
    "You are the CLARIFIER agent.\n",
    "\n",
    "ROLE\n",
    "Your job is to interpret and refine the user's research request so that it can be passed\n",
    "to the RESEARCH agent for structured exploration.\n",
    "\n",
    "OBJECTIVES\n",
    "1. Understand what the user truly wants to learn or achieve (their intent).\n",
    "2. Identify the core topic and any implicit goals (e.g., learn, compare, evaluate, predict, build).\n",
    "3. Ask the user one targeted clarification question — to confirm scope, focus, or purpose.\n",
    "4. Once the user responds, synthesize a refined version of their request that includes:\n",
    "   - The clarified intent (what the user ultimately wants)\n",
    "   - The initial request (in their own words)\n",
    "   - The refined research focus (a precise version suitable for the RESEARCH agent)\n",
    "   - 3–7 search queries that capture the clarified scope and intent\n",
    "   - A short instruction summary for the RESEARCH agent explaining what to explore\n",
    "\n",
    "DATA SOURCES\n",
    "- You may use your own general knowledge to infer user intent.\n",
    "- You may use the `search()` tool to quickly check ambiguous terms or context.\n",
    "\n",
    "INTENT HANDLING\n",
    "- Before searching, infer the underlying intent behind the user's request.\n",
    "  Examples:\n",
    "    - “getting into ML” → learning pathways, beginner resources, first projects\n",
    "    - “AI safety concerns” → risks, ethical challenges, mitigation strategies\n",
    "    - “startup funding trends” → investment patterns, valuations, stages\n",
    "- Generate searches that reflect this **intent**, not just literal words.\n",
    "\n",
    "CONSTRAINTS\n",
    "- Ask the user for clarification **once only**.\n",
    "- Do not fabricate information; if uncertain, clarify directly with the user.\n",
    "- The goal is to output a structured handoff ready for the RESEARCH agent's Stage 1 process.\n",
    "\"\"\"\n"
   ]
  },
  {
   "cell_type": "code",
   "execution_count": 10,
   "id": "d58e3bbf",
   "metadata": {},
   "outputs": [],
   "source": [
    "class ResearchInstructions(BaseModel):\n",
    "    \"\"\"\n",
    "    Output of the CLARIFIER agent.\n",
    "    Provides both the user's raw input and the refined, structured guidance\n",
    "    for the RESEARCH agent to begin its first stage.\n",
    "    \"\"\"\n",
    "    initial_request: str = Field(\n",
    "        ...,\n",
    "        description=\"The user's original question or request, captured verbatim.\"\n",
    "    )\n",
    "    refined_request: str = Field(\n",
    "        ...,\n",
    "        description=\"A clarified, rephrased, and contextually grounded version of the initial request.\"\n",
    "    )\n",
    "    user_intent: str = Field(\n",
    "        ...,\n",
    "        description=(\n",
    "            \"A short summary (1–2 sentences) of what the user truly wants to accomplish \"\n",
    "            \"or learn, inferred from both the initial request and clarification.\"\n",
    "        )\n",
    "    )\n",
    "    queries: List[str] = Field(\n",
    "        ...,\n",
    "        description=(\n",
    "            \"A list of 3–7 specific search queries derived from the refined request, \"\n",
    "            \"covering complementary angles or subtopics the RESEARCH agent should explore.\"\n",
    "        )\n",
    "    )\n",
    "    instructions: str = Field(\n",
    "        ...,\n",
    "        description=(\n",
    "            \"Concise operational guidance for the RESEARCH agent, explaining how to use \"\n",
    "            \"the queries and what to prioritize during Stage 1 research.\"\n",
    "        )\n",
    "    )\n"
   ]
  },
  {
   "cell_type": "markdown",
   "id": "bda1ab6c",
   "metadata": {},
   "source": [
    "Test the clarifier with a sample interaction:"
   ]
  },
  {
   "cell_type": "code",
   "execution_count": 11,
   "id": "d292932d",
   "metadata": {},
   "outputs": [
    {
     "name": "stdout",
     "output_type": "stream",
     "text": [
      "It sounds like you're interested in exploring opportunities to generate income using artificial intelligence. There are many avenues you can consider, such as starting a business, investing in AI-related stocks, developing AI applications, offering AI consulting services, or even engaging in affiliate marketing for AI products. \n",
      "\n",
      "Can you clarify what specific area or method you're most interested in? For example, are you looking for entrepreneurial ideas, investment opportunities, or ways to enhance your current job with AI?\n"
     ]
    }
   ],
   "source": [
    "callback = NamedCallback(clarifier)\n",
    "\n",
    "results = await clarifier.run(\n",
    "    user_prompt='I want make money with ai',\n",
    "    event_stream_handler=callback\n",
    ")\n",
    "\n",
    "print(results.output)"
   ]
  },
  {
   "cell_type": "code",
   "execution_count": 13,
   "id": "3c820bef",
   "metadata": {},
   "outputs": [],
   "source": [
    "results = await clarifier.run(\n",
    "    user_prompt='I want to work as a freelancer',\n",
    "    message_history=results.new_messages(),\n",
    "    event_stream_handler=callback,\n",
    "    output_type=ResearchInstructions\n",
    ")\n",
    "\n",
    "research_task = results.output"
   ]
  },
  {
   "cell_type": "code",
   "execution_count": 18,
   "id": "2ba79c18",
   "metadata": {},
   "outputs": [
    {
     "name": "stdout",
     "output_type": "stream",
     "text": [
      "Initial request: I want make money with ai\n",
      "Refined request: I want to work as a freelancer in the field of artificial intelligence.\n",
      "User intent: The user wants to explore freelance opportunities in artificial intelligence to generate income.\n",
      "Queries: ['freelance AI jobs', 'top platforms for AI freelancers', 'AI freelance project ideas', 'how to get started as an AI freelancer', 'skills needed for freelance AI work', 'freelance AI pricing strategies']\n",
      "Instructions: Research various opportunities for freelancers in AI, including job platforms, common project types, and essential skills. Provide insights on how to start in this field.\n"
     ]
    }
   ],
   "source": [
    "print(\"Initial request:\", research_task.initial_request)\n",
    "print(\"Refined request:\", research_task.refined_request)\n",
    "print(\"User intent:\", research_task.user_intent)\n",
    "print(\"Queries:\", research_task.queries)\n",
    "print(\"Instructions:\", research_task.instructions)"
   ]
  },
  {
   "cell_type": "markdown",
   "id": "af773afc",
   "metadata": {},
   "source": [
    "## Research Agent"
   ]
  },
  {
   "cell_type": "markdown",
   "id": "fec40f8c",
   "metadata": {},
   "source": [
    "Structured output:"
   ]
  },
  {
   "cell_type": "code",
   "execution_count": 19,
   "id": "77b18639",
   "metadata": {},
   "outputs": [],
   "source": [
    "class Reference(BaseModel):\n",
    "    document_id: int\n",
    "    quote: str\n",
    "    timestamp: str\n",
    "\n",
    "class ResearchKeyword(BaseModel):\n",
    "    keyword: str\n",
    "    relevant_references: List[Reference]\n",
    "\n",
    "class VerifiableInsight(BaseModel):\n",
    "    insight: str\n",
    "    references: List[Reference]\n",
    "\n",
    "class ResearchStageReport(BaseModel):\n",
    "    stage: int\n",
    "    explored_keywords: List[ResearchKeyword]\n",
    "    verifiable_insights: List[VerifiableInsight]\n",
    "    stage_summary: str\n",
    "    recommended_next_steps: str\n",
    "    recommended_next_keywords: List[str]"
   ]
  },
  {
   "cell_type": "markdown",
   "id": "3b57a503",
   "metadata": {},
   "source": [
    "Instructions:"
   ]
  },
  {
   "cell_type": "code",
   "execution_count": 20,
   "id": "fdef93ee",
   "metadata": {},
   "outputs": [],
   "source": [
    "researcher_instructions = \"\"\"\n",
    "You are the RESEARCH agent.\n",
    "\n",
    "ROLE\n",
    "You perform structured research on a proprietary podcast/video database for a specific stage\n",
    "of exploration (Stage 1, 2, or 3).\n",
    "\n",
    "DATA SOURCE\n",
    "- You may ONLY use the `search()` function, which returns transcript snippets with:\n",
    "  { video_id, _id }\n",
    "- Every reference must cite a real snippet with a valid `youtube_id`, `timestamp` and `_id`.\n",
    "- Do not invent data, names, or timestamps.\n",
    "\n",
    "STAGES\n",
    "\n",
    "Stage 1 — Initial Search\n",
    "- Use the user's question or clarified keywords from context.\n",
    "- Identify 3–5 primary keywords, run one or more searches.\n",
    "- Summarize the main findings, highlighting initial insights and directions.\n",
    "\n",
    "Stage 2 — Expansion\n",
    "- Build upon Stage 1 outputs (from context).\n",
    "- Generate 5–7 related or complementary queries.\n",
    "- Summarize recurring ideas and patterns across new results.\n",
    "\n",
    "Stage 3 — Deep Dive\n",
    "- Build upon Stage 1 and Stage 2.\n",
    "- Generate 5–7 deeper or contrasting queries.\n",
    "- Explore nuances, counterpoints, or mechanisms.\n",
    "- Provide a more analytical synthesis.\n",
    "\n",
    "CONSTRAINTS\n",
    "- Use context from previous stages to guide deeper exploration.\n",
    "- You must perform the necessary amount of queries for each stage:\n",
    "    - 3-5 for stage 1\n",
    "    - 5-7 for stage 2\n",
    "    - 5-7 for stage 3\n",
    "\"\"\"\n"
   ]
  },
  {
   "cell_type": "markdown",
   "id": "442137f8",
   "metadata": {},
   "source": [
    "Create the agent:"
   ]
  },
  {
   "cell_type": "code",
   "execution_count": 21,
   "id": "29d93211",
   "metadata": {},
   "outputs": [],
   "source": [
    "researcher = Agent(\n",
    "    name='researcher_v2',\n",
    "    instructions=researcher_instructions,\n",
    "    tools=[tools.search],\n",
    "    model='gpt-4o-mini',\n",
    "    output_type=ResearchStageReport\n",
    ")\n"
   ]
  },
  {
   "cell_type": "markdown",
   "id": "c0d39276",
   "metadata": {},
   "source": [
    "Helper function to execute research stages:"
   ]
  },
  {
   "cell_type": "code",
   "execution_count": 22,
   "id": "cd1a8f08",
   "metadata": {},
   "outputs": [],
   "source": [
    "async def do_research(\n",
    "    stage: int,\n",
    "    stage_instructions: str,\n",
    "    previous_stages: List[ResearchStageReport]\n",
    ") -> ResearchStageReport:\n",
    "    previous_stages_json = '\\n'.join([r.model_dump_json() for r in previous_stages])\n",
    "    \n",
    "    user_prompt = f\"\"\"\n",
    "    Current stage: {stage}\n",
    "\n",
    "    Stage instrustructions:\n",
    "    {stage_instructions}\n",
    "\n",
    "    Previous stages:\n",
    "    {previous_stages_json}\n",
    "    \"\"\"\n",
    "\n",
    "    callback = NamedCallback(researcher)\n",
    "    \n",
    "    results = await researcher.run(\n",
    "        user_prompt=user_prompt,\n",
    "        event_stream_handler=callback,\n",
    "    )\n",
    "\n",
    "    return results.output\n"
   ]
  },
  {
   "cell_type": "code",
   "execution_count": 23,
   "id": "51d97e89",
   "metadata": {},
   "outputs": [
    {
     "name": "stdout",
     "output_type": "stream",
     "text": [
      "TOOL CALL (researcher_v2): search({\"query\": \"freelance AI jobs\"})\n",
      "TOOL CALL (researcher_v2): search({\"query\": \"top platforms for AI freelancers\"})\n",
      "TOOL CALL (researcher_v2): search({\"query\": \"AI freelance project ideas\"})\n",
      "TOOL CALL (researcher_v2): search({\"query\": \"how to get started as an AI freelancer\"})\n",
      "TOOL CALL (researcher_v2): search({\"query\": \"skills needed for freelance AI work\"})\n",
      "TOOL CALL (researcher_v2): search({\"query\": \"freelance AI pricing strategies\"})\n"
     ]
    }
   ],
   "source": [
    "stage_1_instructions = f\"\"\"\n",
    "do initial research using this instructions:\n",
    "\n",
    "{research_task.model_dump_json()}\n",
    "\"\"\"\n",
    "\n",
    "stage_1 = await do_research(\n",
    "    stage=1,\n",
    "    stage_instructions=stage_1_instructions,\n",
    "    previous_stages=[]\n",
    ")\n"
   ]
  },
  {
   "cell_type": "markdown",
   "id": "04087fbe",
   "metadata": {},
   "source": [
    "This is what we get:"
   ]
  },
  {
   "cell_type": "code",
   "execution_count": 24,
   "id": "453c6406",
   "metadata": {},
   "outputs": [
    {
     "name": "stdout",
     "output_type": "stream",
     "text": [
      "freelance AI jobs\n",
      "document_id=491 quote=\"so again if somebody wants to I think you asked before it just won't start just go for it and it would be viable for sure you get some good skills\" timestamp='49:00'\n",
      "document_id=3256 quote='again online freelancing platforms such as upwork' timestamp='45:20'\n",
      "document_id=3245 quote='there are these online freelancing platforms like upwork and if somebody needs some work so they kind of create a listing' timestamp='26:00'\n",
      "\n",
      "top platforms for AI freelancers\n",
      "document_id=28 quote='some favorite websites to find freelance jobs are Upwork, Toptal' timestamp='44:00'\n",
      "document_id=29 quote='there are also public sector things your work you have to wear multiple hats' timestamp='46:57'\n",
      "document_id=3256 quote='but usually like online freelancing platform such as Upwork' timestamp='20:20'\n",
      "\n",
      "how to get started as an AI freelancer\n",
      "document_id=4533 quote='to be an AI expert you at least need to know how to code...now you need to be able to talk or to spell' timestamp='6:07'\n",
      "document_id=49 quote='what you can do if you want to...”,' timestamp='19:58'\n",
      "document_id=3245 quote='you can see people for this project... and get a good feeling for that' timestamp='28:30'\n",
      "\n",
      "skills needed for freelance AI work\n",
      "document_id=4967 quote='you have to decide whether you want to learn something new' timestamp='51:42'\n",
      "document_id=28 quote=\"you'll need some soft skills\" timestamp='49:00'\n",
      "document_id=28 quote='you can learn them as you go' timestamp='48:38'\n",
      "\n",
      "freelance AI pricing strategies\n",
      "document_id=29 quote='fix your profile every day try to see where you can improve' timestamp='51:15'\n",
      "document_id=4533 quote='Base your pricing on value, not cost' timestamp='46:09'\n",
      "document_id=3245 quote='you can see okay people for this project Gave thousand... to find a good price.' timestamp='27:04'\n",
      "\n"
     ]
    }
   ],
   "source": [
    "for kw in stage_1.explored_keywords:\n",
    "    print(kw.keyword)\n",
    "    for ref in kw.relevant_references:\n",
    "        print(ref)\n",
    "    print()\n"
   ]
  },
  {
   "cell_type": "markdown",
   "id": "6bffdc60",
   "metadata": {},
   "source": [
    "After some refining with ChatGPT:\n",
    "\n",
    "```\n",
    "add field description for pydantic objects to: \n",
    "- make sure the keywords in the object match the actual tool use \n",
    "- add field in references to force it describe how reference is relevant to the keyword\n",
    "\n",
    "Also, the selected quotes and insights must be useful for the user intention. How do I change that? \n",
    "\n",
    "```"
   ]
  },
  {
   "cell_type": "markdown",
   "id": "09e8b118",
   "metadata": {},
   "source": [
    "Improved Research Agent:"
   ]
  },
  {
   "cell_type": "code",
   "execution_count": 25,
   "id": "8506c223",
   "metadata": {},
   "outputs": [],
   "source": [
    "from pydantic import BaseModel, Field\n",
    "from typing import List\n",
    "\n",
    "class Reference(BaseModel):\n",
    "    \"\"\"\n",
    "    A single, verifiable citation to a transcript snippet or video segment.\n",
    "    Must correspond to a real snippet returned by the `search()` tool.\n",
    "    \"\"\"\n",
    "    document_id: int = Field(..., description=\"Internal ID of the transcript snippet.\")\n",
    "    quote: str = Field(..., description=\"Exact snippet that supports the keyword or insight.\")\n",
    "    timestamp: str = Field(..., description=\"Timestamp in the source video where the quote occurs, 'mm:ss' or 'h:mm:ss'\")\n",
    "    relevance_to_keyword: str = Field(..., description=\"Explanation of *how* this quote supports or illustrates the specific keyword or concept being explored.\")\n",
    "    relevance_to_user_intent:  str = Field(..., description=\"Explanation of *how* this quote help the user with their intent.\")\n",
    "\n",
    "class ResearchKeyword(BaseModel):\n",
    "    \"\"\"\n",
    "    Represents a keyword explicitly searched during this research stage.\n",
    "    Each keyword must match an actual query used in the search tool calls.\n",
    "    \"\"\"\n",
    "    keyword: str = Field(..., description=\"The exact keyword or phrase used in the search() tool call.\")\n",
    "    relevant_references: List[Reference] = Field(\n",
    "        ..., \n",
    "        description=\"List of transcript snippets directly relevant to this keyword. Each must include a 'relevance_to_keyword' explanation.\"\n",
    "    )\n",
    "\n",
    "\n",
    "class VerifiableInsight(BaseModel):\n",
    "    \"\"\"\n",
    "    A synthesized insight that can be traced back to specific evidence.\n",
    "    Each insight must be supported by at least one real reference.\n",
    "    \"\"\"\n",
    "    insight: str = Field(..., description=\"An insight derived from the research, phrased in an evidence-based, verifiable way.\")\n",
    "    references: List[Reference] = Field(..., description=\"Citations that directly support this insight. Must contain valid timestamps and IDs.\")\n",
    "\n",
    "\n",
    "class ResearchStageReport(BaseModel):\n",
    "    \"\"\"\n",
    "    Structured output for each research stage (1–3).\n",
    "    Ensures traceability between searches, keywords, and findings.\n",
    "    \"\"\"\n",
    "    stage: int = Field(..., description=\"The research stage number (1 = Initial Search, 2 = Expansion, 3 = Deep Dive).\")\n",
    "    explored_keywords: List[ResearchKeyword] = Field(\n",
    "        ..., \n",
    "        description=\"List of the *exact* keywords used in this stage's search() calls, along with references showing their relevance.\"\n",
    "    )\n",
    "    verifiable_insights: List[VerifiableInsight] = Field(\n",
    "        ..., \n",
    "        description=\"List of data-backed insights derived from the references gathered at this stage.\"\n",
    "    )\n",
    "    stage_summary: str = Field(..., description=\"Analytical summary of what was learned at this stage, connecting evidence to emerging themes.\")\n",
    "    recommended_next_steps: str = Field(..., description=\"Guidance for what to do in the next stage — e.g., new angles, counterpoints, or subtopics.\")\n",
    "    recommended_next_keywords: List[str] = Field(\n",
    "        ..., \n",
    "        description=\"Suggested next queries based on gaps or promising directions discovered in this stage.\"\n",
    "    )\n"
   ]
  },
  {
   "cell_type": "code",
   "execution_count": 26,
   "id": "c3239434",
   "metadata": {},
   "outputs": [],
   "source": [
    "researcher_instructions = \"\"\"\n",
    "You are the RESEARCH agent.\n",
    "\n",
    "ROLE\n",
    "You perform structured research on a proprietary podcast/video database for a specific stage\n",
    "of exploration (Stage 1, 2, or 3).\n",
    "\n",
    "DATA SOURCE\n",
    "- You may ONLY use the `search()` function\n",
    "- Every reference must cite a real snippet with a valid `youtube_id`, `timestamp` and `_id`.\n",
    "- Do not invent data, names, or timestamps.\n",
    "\n",
    "STAGES\n",
    "\n",
    "Stage 1 — Initial Search\n",
    "- Use the user’s question or clarified keywords from context.\n",
    "- Identify 3–5 primary keywords, run one or more searches.\n",
    "- Summarize the main findings, highlighting initial insights and directions.\n",
    "\n",
    "Stage 2 — Expansion\n",
    "- Build upon Stage 1 outputs (from context).\n",
    "- Generate 5–7 related or complementary queries.\n",
    "- Summarize recurring ideas and patterns across new results.\n",
    "\n",
    "Stage 3 — Deep Dive\n",
    "- Build upon Stage 1 and Stage 2.\n",
    "- Generate 5–7 deeper or contrasting queries.\n",
    "- Explore nuances, counterpoints, or mechanisms.\n",
    "- Provide a more analytical synthesis.\n",
    "\n",
    "CONSTRAINTS\n",
    "- Use context from previous stages to guide deeper exploration.\n",
    "- You must perform the necessary amount of queries for each stage:\n",
    "    - 3-5 for stage 1\n",
    "    - 5-7 for stage 2\n",
    "    - 5-7 for stage 3\n",
    "\"\"\"\n",
    "\n",
    "researcher = Agent(\n",
    "    name='researcher_v2',\n",
    "    instructions=researcher_instructions,\n",
    "    tools=[tools.search],\n",
    "    model='gpt-4o-mini',\n",
    "    output_type=ResearchStageReport\n",
    ")\n"
   ]
  },
  {
   "cell_type": "code",
   "execution_count": 27,
   "id": "f36c5560",
   "metadata": {},
   "outputs": [
    {
     "name": "stdout",
     "output_type": "stream",
     "text": [
      "TOOL CALL (researcher_v2): search({\"query\": \"freelance AI jobs\"})\n",
      "TOOL CALL (researcher_v2): search({\"query\": \"top platforms for AI freelancers\"})\n",
      "TOOL CALL (researcher_v2): search({\"query\": \"AI freelance project ideas\"})\n",
      "TOOL CALL (researcher_v2): search({\"query\": \"how to get started as an AI freelancer\"})\n",
      "TOOL CALL (researcher_v2): search({\"query\": \"skills needed for freelance AI work\"})\n",
      "TOOL CALL (researcher_v2): search({\"query\": \"freelance AI pricing strategies\"})\n",
      "freelance AI jobs\n",
      "document_id=28 quote='I think it can be a good idea while you are... searching and for you to get a job so doing consistent and persistent way of uh...' timestamp='48:50' relevance_to_keyword='This quote emphasizes the importance of persistence in securing freelance jobs in AI and highlights a common struggle among freelancers.' relevance_to_user_intent=\"This supports the user's intent of exploring freelance opportunities, as it offers insight into what steps to take.\"\n",
      "document_id=29 quote='How do you go about looking for freelance jobs... do you have any favorite websites?' timestamp='43:45' relevance_to_keyword='Discusses the tactics for finding freelance jobs, specifically asking for website recommendations, which is pertinent to AI opportunities.' relevance_to_user_intent=\"This aligns with the user's search for freelance AI jobs and specific platforms.\"\n",
      "\n",
      "top platforms for AI freelancers\n",
      "document_id=3256 quote='Again usually like online freelancing platforms such as Upwork...' timestamp='44:24' relevance_to_keyword='Identifies prominent platforms, such as Upwork, that are essential for freelancers to find work.' relevance_to_user_intent=\"This directly answers the user's request for platforms to explore.\"\n",
      "\n",
      "AI freelance project ideas\n",
      "document_id=1960 quote=\"I don't know but I think there are many AI projects out there...\" timestamp='18:00' relevance_to_keyword='This snippet discusses the volume of projects available in the AI sector, offering insight into potential freelance work.' relevance_to_user_intent='This provides the user potential pathways and project types relevant to AI.'\n",
      "\n",
      "how to get started as an AI freelancer\n",
      "document_id=1958 quote='I posted my CV... and within a week I had my first client.' timestamp='17:50' relevance_to_keyword='Highlights a straightforward method to start freelancing by promoting oneself through CV distribution.' relevance_to_user_intent='This offers practical advice on how to take the initial step into freelancing.'\n",
      "\n",
      "skills needed for freelance AI work\n",
      "document_id=28 quote='So maybe if you can improve your profile every day by little...' timestamp='50:24' relevance_to_keyword='Suggests improving profiles and learning new skills as crucial components for freelancers.' relevance_to_user_intent='Emphasizes the skills and continuous learning required for success in AI freelancing.'\n",
      "\n",
      "freelance AI pricing strategies\n",
      "document_id=3244 quote='That could be one way so how you find your rate for this type of Channel usually by checking out other...' timestamp='28:24' relevance_to_keyword='Discusses pricing strategies for freelancers, emphasizing the importance of market research.' relevance_to_user_intent=\"Addresses the user's query about pricing strategies in AI freelancing.\"\n",
      "\n",
      "insight='Online platforms such as Upwork are essential for AI freelancers to find jobs and connect with clients.' references=[Reference(document_id=3256, quote='Again usually like online freelancing platforms such as Upwork...', timestamp='44:24', relevance_to_keyword='Identifies prominent platforms essential for freelancers to find work.', relevance_to_user_intent=\"Aligns directly with the user's interest in freelance platforms.\")]\n",
      "insight='Persistence and continual improvement of one’s profile are critical for freelancers struggling to secure work in AI.' references=[Reference(document_id=28, quote='I think it can be a good idea while you are... searching and for you to get a job so doing consistent and persistent way of uh...', timestamp='48:50', relevance_to_keyword='Emphasizes the importance of persistence and profile improvement in securing freelance jobs.', relevance_to_user_intent=\"Offers valuable advice related to the user's intent on exploring freelance opportunities.\")]\n",
      "insight='Freelancers in AI should develop a strong portfolio and continuously update their skills to attract clients.' references=[Reference(document_id=28, quote='So maybe if you can improve your profile every day by little...', timestamp='50:24', relevance_to_keyword='Suggests improving profiles and learning new skills as crucial components for freelancers.', relevance_to_user_intent=\"Emphasizes continuous learning and portfolio building, relevant to the user's objectives.\")]\n",
      "insight='Starting freelancing can be straightforward by actively promoting oneself with a well-prepared CV and engaging in AI projects.' references=[Reference(document_id=1960, quote=\"I don't know but I think there are many AI projects out there...\", timestamp='18:00', relevance_to_keyword='Discusses the volume of projects available in the AI sector, offering insight into potential freelance work.', relevance_to_user_intent='This provides potential pathways for the user to pursue.')]\n",
      "insight=\"Understanding the value of one's work and competitive pricing strategies are fundamental for freelancers in the AI sector to ensure sustainability.\" references=[Reference(document_id=3244, quote='That could be one way so how you find your rate for this type of Channel usually by checking out other...', timestamp='28:24', relevance_to_keyword='Discusses how to establish competitive rates by researching similar profiles.', relevance_to_user_intent='Addresses a key concern related to pricing strategies.')]\n"
     ]
    }
   ],
   "source": [
    "stage_1 = await do_research(\n",
    "    stage=1,\n",
    "    stage_instructions=stage_1_instructions,\n",
    "    previous_stages=[]\n",
    ")\n",
    "\n",
    "for kw in stage_1.explored_keywords:\n",
    "    print(kw.keyword)\n",
    "    for ref in kw.relevant_references:\n",
    "        print(ref)\n",
    "    print()\n",
    "\n",
    "for insight in stage_1.verifiable_insights:\n",
    "    print(insight)\n"
   ]
  },
  {
   "cell_type": "markdown",
   "id": "614cf463",
   "metadata": {},
   "source": [
    "Continue with Stage 2 and 3"
   ]
  },
  {
   "cell_type": "code",
   "execution_count": 28,
   "id": "fcbd375c",
   "metadata": {},
   "outputs": [
    {
     "name": "stdout",
     "output_type": "stream",
     "text": [
      "TOOL CALL (researcher_v2): search({\"query\": \"best AI project types for freelancers\"})\n",
      "TOOL CALL (researcher_v2): search({\"query\": \"most effective marketing strategies for AI freelancers\"})\n",
      "TOOL CALL (researcher_v2): search({\"query\": \"success stories of AI freelancers\"})\n",
      "TOOL CALL (researcher_v2): search({\"query\": \"freelance AI community building\"})\n",
      "TOOL CALL (researcher_v2): search({\"query\": \"AI freelancing niches\"})\n",
      "TOOL CALL (researcher_v2): search({\"query\": \"tools for AI freelancers\"})\n",
      "TOOL CALL (researcher_v2): search({\"query\": \"freelance AI contract tips\"})\n",
      "TOOL CALL (researcher_v2): search({\"query\": \"niche markets for AI freelancers\"})\n",
      "TOOL CALL (researcher_v2): search({\"query\": \"partnership strategies for AI freelancers\"})\n",
      "TOOL CALL (researcher_v2): search({\"query\": \"impact of freelance platforms on earnings\"})\n",
      "TOOL CALL (researcher_v2): search({\"query\": \"best practices for successful freelancing\"})\n",
      "TOOL CALL (researcher_v2): search({\"query\": \"legal considerations in freelance contracts\"})\n",
      "TOOL CALL (researcher_v2): search({\"query\": \"AI freelancing success stories\"})\n",
      "TOOL CALL (researcher_v2): search({\"query\": \"advanced skills needed for AI projects\"})\n"
     ]
    }
   ],
   "source": [
    "stage_2 = await do_research(\n",
    "    stage=2,\n",
    "    stage_instructions=\"continue research\",\n",
    "    previous_stages=[stage_1]\n",
    ")\n",
    "\n",
    "stage_3 = await do_research(\n",
    "    stage=3,\n",
    "    stage_instructions=\"continue research, go deeper and broader, explore tangently relaveted topics\",\n",
    "    previous_stages=[stage_1, stage_2]\n",
    ")\n"
   ]
  },
  {
   "cell_type": "markdown",
   "id": "29f1df23",
   "metadata": {},
   "source": [
    "## Synthesizer and Verifier Agent"
   ]
  },
  {
   "cell_type": "markdown",
   "id": "6e59ffae",
   "metadata": {},
   "source": [
    "Instructions:"
   ]
  },
  {
   "cell_type": "code",
   "execution_count": 29,
   "id": "88b4e260",
   "metadata": {},
   "outputs": [],
   "source": [
    "synthesizer_instructions = \"\"\"\n",
    "You synthesize research findings from all three stages (StageReports 1–3)\n",
    "into a cohesive, factual final report.\n",
    "\n",
    "TASKS\n",
    "1. Read and interpret all reports\n",
    "2. Verify each claim you put in the article\n",
    "3. Make sure the output matches the intention of the user\n",
    "4. Create the article\n",
    "\n",
    "ARTICLE RULES\n",
    "- The article should have instruction, 5-6 sections and conclusion \n",
    "- Each section should group 3–4 related claims.\n",
    "- Each claim: 3–4 sentences and reference\n",
    "- Do not add new facts beyond what's supported in reports\n",
    "- You must verify each source\n",
    "\"\"\"\n",
    "\n",
    "synthesizer = Agent(\n",
    "    name='synthesizer',\n",
    "    instructions=synthesizer_instructions,\n",
    "    tools=[tools.get_document_by_id],\n",
    "    model='gpt-4o-mini',\n",
    ")   \n"
   ]
  },
  {
   "cell_type": "markdown",
   "id": "80a89b2c",
   "metadata": {},
   "source": [
    "Test the basic version:"
   ]
  },
  {
   "cell_type": "code",
   "execution_count": 30,
   "id": "ed92be07",
   "metadata": {},
   "outputs": [
    {
     "name": "stdout",
     "output_type": "stream",
     "text": [
      "TOOL CALL (synthesizer): get_document_by_id({\"_id\": 28})\n",
      "TOOL CALL (synthesizer): get_document_by_id({\"_id\": 29})\n",
      "TOOL CALL (synthesizer): get_document_by_id({\"_id\": 1960})\n",
      "TOOL CALL (synthesizer): get_document_by_id({\"_id\": 1958})\n",
      "TOOL CALL (synthesizer): get_document_by_id({\"_id\": 3244})\n",
      "TOOL CALL (synthesizer): get_document_by_id({\"_id\": 3256})\n",
      "TOOL CALL (synthesizer): get_document_by_id({\"_id\": 1091})\n",
      "TOOL CALL (synthesizer): get_document_by_id({\"_id\": 3405})\n",
      "TOOL CALL (synthesizer): get_document_by_id({\"_id\": 3259})\n",
      "TOOL CALL (synthesizer): get_document_by_id({\"_id\": 7078})\n",
      "TOOL CALL (synthesizer): get_document_by_id({\"_id\": 3422})\n"
     ]
    }
   ],
   "source": [
    "all_reports = [stage_1, stage_2, stage_3]\n",
    "reports = '\\n'.join([r.model_dump_json() for r in all_reports])\n",
    "\n",
    "user_prompt = f\"\"\"\n",
    "initial request:\n",
    "{research_task.model_dump_json()}\n",
    "\n",
    "reports:\n",
    "{reports}\n",
    "\"\"\"\n",
    "\n",
    "callback = NamedCallback(synthesizer)\n",
    "\n",
    "results = await synthesizer.run(\n",
    "    user_prompt=user_prompt,\n",
    "    event_stream_handler=callback\n",
    ")\n"
   ]
  },
  {
   "cell_type": "code",
   "execution_count": 31,
   "id": "05be8795",
   "metadata": {},
   "outputs": [
    {
     "name": "stdout",
     "output_type": "stream",
     "text": [
      "# Freelancing in Artificial Intelligence: A Comprehensive Guide\n",
      "\n",
      "Freelancing in the field of Artificial Intelligence (AI) has become a lucrative career choice for many professionals looking to leverage their skills. This article provides a structured approach for potential AI freelancers, detailing the essential steps to navigate this dynamic landscape. \n",
      "\n",
      "## 1. Understanding Freelance AI Opportunities\n",
      "\n",
      "Freelancing opportunities in AI range from machine learning and data analysis to natural language processing and computer vision projects. Freelancers can find work through **online platforms** like Upwork, Freelancer, and others that connect them with clients in need of specialized expertise. According to a source, platforms such as Upwork allow freelancers to apply directly to project listings posted by clients, making it easier to find opportunities tailored to their skills (Video 1, Timestamp: 25:42) and (Stage 1 Report). Persistence and continuous improvement of one's freelancer profile are crucial for success in acquiring jobs (Stage 1 Report).\n",
      "\n",
      "Freelance AI projects can vary widely, with some involving direct client engagements and others being part of collaborative efforts within a freelance community. Freelancers often provide services to larger clients while charging fees for collaborative opportunities (Stage 2 Report). Effective networking within these communities can offer better job prospects and knowledge sharing (Stage 3 Report).\n",
      "\n",
      "## 2. Top Platforms and Resources for AI Freelancers\n",
      "\n",
      "Some recommended freelance platforms include Upwork and Toptal, which specialize in connecting clients with skilled freelancers. These platforms allow freelancers to create profiles, apply for jobs, and set competitive pricing based on their expertise (Stage 1 Report). \n",
      "\n",
      "Moreover, organizations that cater specifically to freelancers can be a valuable resource in identifying project opportunities. For instance, one source highlights that organizations can help freelancers find projects that match their skills (Stage 2 Report) and (Stage 3 Report).\n",
      "\n",
      "## 3. Skills Essential for AI Freelancing\n",
      "\n",
      "To succeed as a freelancer in AI, it's imperative to have a well-rounded set of skills. Essential abilities include proficiency in programming languages (like Python), understanding machine learning algorithms, data manipulation, and effective communication skills. One source mentions that freelancers must focus on continuously updating their profiles and learning new skills to catch the attention of potential clients (Stage 1 Report). \n",
      "\n",
      "As the AI landscape evolves, freelancers may need to specialize in subfields (like data engineering or machine learning application) to stand out in a crowded market. Specialization enables freelancers to prove their expertise and may lead to higher rates due to reduced competition (Stage 2 Report).\n",
      "\n",
      "## 4. Navigating Pricing Strategies and Client Relationships\n",
      "\n",
      "Setting the right price for AI freelance work is crucial. A well-informed pricing strategy that considers one's skill level, the complexity of projects, and market demand is vital (Stage 1 Report). As stated, competitive pricing often involves researching fellow freelancers’ rates and adjusting accordingly based on experience and ratings received on platforms like Upwork (Stage 1 Report).\n",
      "\n",
      "Freelancers should also be mindful of maintaining strong relationships with clients. Effective communication and delivery of high-quality work can establish a solid reputation, making it easier to attract future projects (Stage 2 Report).\n",
      "\n",
      "## 5. How to Get Started in AI Freelancing\n",
      "\n",
      "Getting started as a freelancer can be straightforward. Posting a well-prepared CV and being proactive in promoting skills is an effective method to attract potential clients (Stage 1 Report). New freelancers may wish to start small by taking on smaller projects or offering their services through freelance platforms to build their experience and reputation.\n",
      "\n",
      "Continuous improvement is important; freelancers are encouraged to participate in workshops and courses to enhance their skill sets and connect with others in the industry. Networking within freelancer communities can provide essential insights into navigating the AI landscape (Stage 3 Report).\n",
      "\n",
      "## Conclusion\n",
      "\n",
      "Freelancing in AI offers vast opportunities for professionals looking to monetize their skills. By focusing on specialization, leveraging online platforms effectively, and maintaining strong client relationships, aspiring freelancers can carve a successful niche in the growing AI landscape. As the demand for AI expertise broadens, taking proactive steps toward continuous improvement and networking will be essential for long-term success in this field.\n"
     ]
    }
   ],
   "source": [
    "print(results.output)"
   ]
  },
  {
   "cell_type": "markdown",
   "id": "57b5ba58",
   "metadata": {},
   "source": [
    "Improved agent:"
   ]
  },
  {
   "cell_type": "code",
   "execution_count": 32,
   "id": "861a8c7c",
   "metadata": {},
   "outputs": [],
   "source": [
    "synthesizer_instructions = \"\"\"\n",
    "You are the SYNTHESIZER agent.\n",
    "\n",
    "ROLE\n",
    "You create a cohesive, factual article by synthesizing verified information from all\n",
    "three research stages (StageReports 1–3).\n",
    "\n",
    "DATA SOURCES\n",
    "- You will receive one or more `ResearchStageReport` objects, each containing\n",
    "  verifiable references with document_ids, timestamps, and quotes.\n",
    "- You have access to the tool `get_document_by_id` to retrieve full source text\n",
    "  for any reference.\n",
    "- You must use this tool to verify every claim that appears in your article.\n",
    "\n",
    "TASKS\n",
    "1. Carefully read all StageReports and extract recurring insights and verified facts.\n",
    "2. Use `get_document_by_id` to check each cited reference and confirm that\n",
    "   the quote or insight is correctly represented.\n",
    "3. Only include claims that are explicitly supported by at least one verified source.\n",
    "4. Synthesize related findings into 5–6 cohesive sections with a logical flow.\n",
    "5. Ensure that the article aligns with the original user intent (as passed from the clarifier).\n",
    "\n",
    "ARTICLE STRUCTURE\n",
    "- Introduction: Summarize what the article will explore and why it matters.\n",
    "- 5-6 body sections, each:\n",
    "  - Centered on one major theme or subtopic.\n",
    "  - Contains 3–4 related claims (each 3–4 sentences long).\n",
    "  - Each claim includes an in-text reference\n",
    "- Conclusion: Summarize the most important insights and actionable takeaways.\n",
    "\n",
    "VERIFICATION RULES\n",
    "- For every claim, retrieve at least one cited source using `get_document_by_id`\n",
    "  and confirm that the text supports the claim.\n",
    "- If a reference cannot be verified or is inconsistent, omit it.\n",
    "- Do not invent or infer facts beyond what’s supported by verified material.\n",
    "\n",
    "STYLE\n",
    "- Maintain factual, neutral, and coherent tone.\n",
    "- Avoid speculation, exaggeration, or unsupported synthesis.\n",
    "- Write in clear prose suitable for an informed but general audience.\n",
    "\n",
    "OUTPUT\n",
    "- A single, well-structured factual article ready for presentation.\n",
    "- All references cited\n",
    "\"\"\".strip()\n",
    "\n",
    "synthesizer = Agent(\n",
    "    name='synthesizer_v2',\n",
    "    instructions=synthesizer_instructions,\n",
    "    tools=[tools.get_document_by_id],\n",
    "    model='gpt-4o-mini',\n",
    ")   \n"
   ]
  },
  {
   "cell_type": "code",
   "execution_count": null,
   "id": "7055afad",
   "metadata": {},
   "outputs": [
    {
     "name": "stdout",
     "output_type": "stream",
     "text": [
      "TOOL CALL (synthesizer_v2): get_document_by_id({\"_id\": 28})\n",
      "TOOL CALL (synthesizer_v2): get_document_by_id({\"_id\": 29})\n",
      "TOOL CALL (synthesizer_v2): get_document_by_id({\"_id\": 3256})\n",
      "TOOL CALL (synthesizer_v2): get_document_by_id({\"_id\": 1960})\n",
      "TOOL CALL (synthesizer_v2): get_document_by_id({\"_id\": 1958})\n",
      "TOOL CALL (synthesizer_v2): get_document_by_id({\"_id\": 3244})\n",
      "TOOL CALL (synthesizer_v2): get_document_by_id({\"_id\": 1091})\n",
      "TOOL CALL (synthesizer_v2): get_document_by_id({\"_id\": 3405})\n",
      "TOOL CALL (synthesizer_v2): get_document_by_id({\"_id\": 3259})\n",
      "TOOL CALL (synthesizer_v2): get_document_by_id({\"_id\": 7078})\n",
      "TOOL CALL (synthesizer_v2): get_document_by_id({\"_id\": 3422})\n"
     ]
    }
   ],
   "source": [
    "all_reports = [stage_1, stage_2, stage_3]\n",
    "reports = '\\n'.join([r.model_dump_json() for r in all_reports])\n",
    "\n",
    "user_prompt = f\"\"\"\n",
    "initial request:\n",
    "{research_task.model_dump_json()}\n",
    "\n",
    "reports:\n",
    "{reports}\n",
    "\"\"\"\n",
    "\n",
    "callback = NamedCallback(synthesizer)\n",
    "\n",
    "results = await synthesizer.run(\n",
    "    user_prompt=user_prompt,\n",
    "    event_stream_handler=callback.print_function_calls\n",
    ")\n",
    "\n",
    "# Checks\n"
   ]
  },
  {
   "cell_type": "markdown",
   "id": "39ab60fc",
   "metadata": {},
   "source": [
    "Results:"
   ]
  },
  {
   "cell_type": "code",
   "execution_count": 34,
   "id": "2095d232",
   "metadata": {},
   "outputs": [
    {
     "name": "stdout",
     "output_type": "stream",
     "text": [
      "# Exploring Freelance Opportunities in Artificial Intelligence\n",
      "\n",
      "In today's digital economy, freelancing in artificial intelligence (AI) presents an exciting avenue for individuals eager to leverage their skills for profit. This article will delve into key areas of interest for aspiring AI freelancers, including how to get started, the necessary skills, top platforms for finding work, lucrative project ideas, and effective pricing strategies. Understanding these components will empower freelancers to navigate the AI landscape and maximize their earning potential.\n",
      "\n",
      "## Getting Started in AI Freelancing\n",
      "\n",
      "Embarking on a freelancing career in AI can be incredibly rewarding but comes with its own challenges. A particularly effective strategy for entering the freelance market is actively promoting oneself through a well-prepared CV. For instance, one individual shared their experience of posting their CV online, leading to their first client just one week later (Document ID: 1960). This method highlights the importance of visibility and proactivity when beginning a freelance journey.\n",
      "\n",
      "Moreover, being consistent and persistent in the job search is crucial. Freelancers should continuously improve their profiles and skills to make themselves more attractive to potential clients (Document ID: 28). Gathering experience through small projects can also be beneficial, providing freelancers with references and feedback that enhance their profiles over time.\n",
      "\n",
      "## Essential Skills for AI Freelancers\n",
      "\n",
      "The landscape of AI freelancing requires a mix of technical and soft skills. Key technical skills include proficiency in programming languages such as Python or R, machine learning frameworks, and data analysis techniques. Continuous learning and skill enhancement are vital components to stay relevant in this rapidly evolving field (Document ID: 28).\n",
      "\n",
      "Additionally, soft skills play a significant role. Communication, project management, and networking are essential for freelancers who need to engage effectively with clients and collaborate with peers (Document ID: 28). Building a strong portfolio showcasing diverse projects is also advantageous, as it gives potential clients a clear picture of a freelancer's capabilities.\n",
      "\n",
      "## Top Platforms for Finding Freelance Work\n",
      "\n",
      "When it comes to finding freelance jobs in AI, several online platforms are particularly noteworthy. Upwork is one such platform where freelancers can create profiles, showcase their skills, and apply for job listings (Document ID: 3256). Other sites, like Freelancer and Toptal, can also serve as valuable resources for freelancers to connect with clients.\n",
      "\n",
      "Engaging with these platforms involves understanding the marketplace dynamics, including how to navigate project postings and client expectations. It is also beneficial to check client reviews and ratings to assess project quality and payment reliability (Document ID: 29).\n",
      "\n",
      "## Lucrative Project Ideas in AI\n",
      "\n",
      "Freelancers in the AI space can undertake a range of project types. Popular categories include machine learning model development, data analysis, and AI-driven software applications. Projects may involve working with APIs, automating business processes, or conducting data-driven research (Document ID: 1960).\n",
      "\n",
      "Moreover, some projects leverage AI technology in subtle ways, integrated into broader data analysis tasks without overtly branding them as AI projects. This presents a unique opportunity for freelancers to explore areas where AI enhances traditional processes (Document ID: 3259).\n",
      "\n",
      "## Competitive Pricing Strategies\n",
      "\n",
      "Establishing competitive pricing is critical for achieving sustainability in freelancing. It is essential for freelancers to research and understand market rates for specific services. For instance, those new to platforms like Upwork should be mindful about starting their pricing lower to build a reputation while demonstrating their skills (Document ID: 3244).\n",
      "\n",
      "Freelancers are advised to also observe what others are charging for similar services and adjust their rates accordingly, ensuring they reflect both their experience and the complexity of the projects undertaken (Document ID: 3244). Implementing flexible pricing strategies can facilitate better negotiation outcomes with clients.\n",
      "\n",
      "## Specialization and Niche Markets\n",
      "\n",
      "Specialization can significantly enhance a freelancer's market opportunities. Focusing on niche areas within AI allows freelancers to stand out in a crowded market. Freelancers are encouraged to refine their expertise to specific aspects, such as natural language processing or computer vision, as this can lead to better compensation and reduced competition (Document ID: 7078).\n",
      "\n",
      "Additionally, leveraging organizations that help freelancers connect with clients can further support project acquisition in specific niches (Document ID: 3405). These targeted approaches enable freelancers to navigate the complexities of the AI landscape effectively.\n",
      "\n",
      "## Conclusion\n",
      "\n",
      "Freelancing in artificial intelligence offers abundant opportunities for skilled professionals willing to put in the effort. By following a structured approach—building a competitive profile, acquiring relevant skills, choosing the right platforms, and establishing effective pricing strategies—freelancers can carve out successful careers in this dynamic field. As AI continues to evolve, those who adapt and specialize will likely find increasing opportunities for income and professional growth.\n"
     ]
    }
   ],
   "source": [
    "print(results.output)"
   ]
  }
 ],
 "metadata": {
  "kernelspec": {
   "display_name": "ai-bootcamp",
   "language": "python",
   "name": "python3"
  },
  "language_info": {
   "codemirror_mode": {
    "name": "ipython",
    "version": 3
   },
   "file_extension": ".py",
   "mimetype": "text/x-python",
   "name": "python",
   "nbconvert_exporter": "python",
   "pygments_lexer": "ipython3",
   "version": "3.13.1"
  }
 },
 "nbformat": 4,
 "nbformat_minor": 5
}
