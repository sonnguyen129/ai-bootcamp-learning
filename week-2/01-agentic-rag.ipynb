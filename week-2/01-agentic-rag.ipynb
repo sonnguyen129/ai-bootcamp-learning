{
 "cells": [
  {
   "cell_type": "markdown",
   "id": "c7c207c1",
   "metadata": {},
   "source": [
    "# Agentic RAG: Agents with OpenAI API and Function Calls\n",
    "\n",
    "## Preparation"
   ]
  },
  {
   "cell_type": "code",
   "execution_count": 1,
   "id": "b7f6cd8f",
   "metadata": {},
   "outputs": [],
   "source": [
    "from openai import OpenAI\n",
    "\n",
    "openai_client = OpenAI()"
   ]
  },
  {
   "cell_type": "code",
   "execution_count": 2,
   "id": "1eb13187",
   "metadata": {},
   "outputs": [],
   "source": [
    "import requests \n",
    "\n",
    "docs_url = 'https://github.com/alexeygrigorev/llm-rag-workshop/raw/main/notebooks/documents.json'\n",
    "docs_response = requests.get(docs_url)\n",
    "documents_raw = docs_response.json()\n",
    "\n",
    "documents = []\n",
    "\n",
    "for course in documents_raw:\n",
    "    course_name = course['course']\n",
    "\n",
    "    for doc in course['documents']:\n",
    "        doc['course'] = course_name\n",
    "        documents.append(doc)"
   ]
  },
  {
   "cell_type": "code",
   "execution_count": 3,
   "id": "4b0e55ab",
   "metadata": {},
   "outputs": [
    {
     "data": {
      "text/plain": [
       "<minsearch.append.AppendableIndex at 0x142729d30>"
      ]
     },
     "execution_count": 3,
     "metadata": {},
     "output_type": "execute_result"
    }
   ],
   "source": [
    "from minsearch import AppendableIndex\n",
    "\n",
    "index = AppendableIndex(\n",
    "    text_fields=[\"question\", \"text\", \"section\"],\n",
    "    keyword_fields=[\"course\"]\n",
    ")\n",
    "\n",
    "index.fit(documents)\n"
   ]
  },
  {
   "cell_type": "markdown",
   "id": "a3340c83",
   "metadata": {},
   "source": [
    "## Agentic RAG"
   ]
  },
  {
   "cell_type": "code",
   "execution_count": 13,
   "id": "51036f1f",
   "metadata": {},
   "outputs": [],
   "source": [
    "# This will be a tool\n",
    "def search(query):\n",
    "    boost = { 'question': 3.0, 'section': 0.5 }\n",
    "\n",
    "    results = index.search(\n",
    "        query=query,\n",
    "        filter_dict={ 'course': 'data-engineering-zoomcamp' },\n",
    "        boost_dict=boost,\n",
    "        num_results=5\n",
    "    )\n",
    "\n",
    "    return results"
   ]
  },
  {
   "cell_type": "markdown",
   "id": "83e73002",
   "metadata": {},
   "source": [
    "A traditional rag is like this:\n",
    "\n",
    "```python\n",
    "def rag(query):\n",
    "    search_results = search(query)\n",
    "    prompt = build_prompt(query, search_results)\n",
    "    answer = llm(prompt)\n",
    "    return answer\n",
    "```"
   ]
  },
  {
   "cell_type": "markdown",
   "id": "396d4353",
   "metadata": {},
   "source": [
    "### Function calling\n",
    "\n",
    "First, we define the function that the agent can call:"
   ]
  },
  {
   "cell_type": "code",
   "execution_count": 5,
   "id": "16f0db17",
   "metadata": {},
   "outputs": [],
   "source": [
    "search_tool = {\n",
    "    \"type\": \"function\",\n",
    "    \"name\": \"search\",\n",
    "    \"description\": \"Search the FAQ database\",\n",
    "    \"parameters\": {\n",
    "        \"type\": \"object\",\n",
    "        \"properties\": {\n",
    "            \"query\": {\n",
    "                \"type\": \"string\",\n",
    "                \"description\": \"Search query text to look up in the course FAQ.\"\n",
    "            }\n",
    "        },\n",
    "        \"required\": [\"query\"],\n",
    "        \"additionalProperties\": False\n",
    "    }\n",
    "}"
   ]
  },
  {
   "cell_type": "code",
   "execution_count": null,
   "id": "a060d410",
   "metadata": {},
   "outputs": [],
   "source": [
    "instructions = \"\"\"\n",
    "You're a course teaching assistant. \n",
    "You're given a question from a course student and your task is to answer it.\n",
    "\"\"\".strip()\n",
    "\n",
    "# In our case is one tool but it can be multiple tools\n",
    "tools = [search_tool]\n",
    "\n",
    "question = 'I just discovered the course. Can I still join it?'\n",
    "\n",
    "chat_messages = [\n",
    "    {\"role\": \"developer\", \"content\": instructions},\n",
    "    {\"role\": \"user\", \"content\": question}\n",
    "]\n",
    "\n",
    "response = openai_client.responses.create(\n",
    "    model='gpt-4o-mini',\n",
    "    input=chat_messages,\n",
    "    tools=tools\n",
    ")"
   ]
  },
  {
   "cell_type": "markdown",
   "id": "852234bd",
   "metadata": {},
   "source": [
    "### Processing Function Calls\n",
    "\n",
    "Now we can see the output is a ResponseFunctionToolCall:"
   ]
  },
  {
   "cell_type": "code",
   "execution_count": 10,
   "id": "e4e011ec",
   "metadata": {},
   "outputs": [],
   "source": [
    "call = response.output[0]"
   ]
  },
  {
   "cell_type": "code",
   "execution_count": 11,
   "id": "b064f421",
   "metadata": {},
   "outputs": [
    {
     "data": {
      "text/plain": [
       "ResponseFunctionToolCall(arguments='{\"query\":\"join course late\"}', call_id='call_zF0JNjTuRClQs1Nsg014uwSl', name='search', type='function_call', id='fc_0bf4dea73580b9c90068f07cf18378819ca9fc7be6322a1f18', status='completed')"
      ]
     },
     "execution_count": 11,
     "metadata": {},
     "output_type": "execute_result"
    }
   ],
   "source": [
    "call"
   ]
  },
  {
   "cell_type": "code",
   "execution_count": 16,
   "id": "ee42ae12",
   "metadata": {},
   "outputs": [],
   "source": [
    "chat_messages.append(call)"
   ]
  },
  {
   "cell_type": "markdown",
   "id": "f1d533e1",
   "metadata": {},
   "source": [
    "Inside we have:\n",
    "- The name of the function\n",
    "- The type, wich is function_call\n",
    "- The arguments we have to pass to the function\n",
    "\n",
    "We need to execute this function."
   ]
  },
  {
   "cell_type": "code",
   "execution_count": 17,
   "id": "d589b773",
   "metadata": {},
   "outputs": [],
   "source": [
    "search_results = search(query=\"join course late\")"
   ]
  },
  {
   "cell_type": "code",
   "execution_count": 18,
   "id": "8ff024d2",
   "metadata": {},
   "outputs": [
    {
     "data": {
      "text/plain": [
       "[{'text': 'No, late submissions are not allowed. But if the form is still not closed and it’s after the due date, you can still submit the homework. confirm your submission by the date-timestamp on the Course page.y\\nOlder news:[source1] [source2]',\n",
       "  'section': 'General course-related questions',\n",
       "  'question': 'Homework - Are late submissions of homework allowed?',\n",
       "  'course': 'data-engineering-zoomcamp'},\n",
       " {'text': \"Yes, even if you don't register, you're still eligible to submit the homeworks.\\nBe aware, however, that there will be deadlines for turning in the final projects. So don't leave everything for the last minute.\",\n",
       "  'section': 'General course-related questions',\n",
       "  'question': 'Course - Can I still join the course after the start date?',\n",
       "  'course': 'data-engineering-zoomcamp'},\n",
       " {'text': \"The purpose of this document is to capture frequently asked technical questions\\nThe exact day and hour of the course will be 15th Jan 2024 at 17h00. The course will start with the first  “Office Hours'' live.1\\nSubscribe to course public Google Calendar (it works from Desktop only).\\nRegister before the course starts using this link.\\nJoin the course Telegram channel with announcements.\\nDon’t forget to register in DataTalks.Club's Slack and join the channel.\",\n",
       "  'section': 'General course-related questions',\n",
       "  'question': 'Course - When will the course start?',\n",
       "  'course': 'data-engineering-zoomcamp'},\n",
       " {'text': 'After you create a GitHub account, you should clone the course repo to your local machine using the process outlined in this video: Git for Everybody: How to Clone a Repository from GitHub\\nHaving this local repository on your computer will make it easy for you to access the instructors’ code and make pull requests (if you want to add your own notes or make changes to the course content).\\nYou will probably also create your own repositories that host your notes, versions of your file, to do this. Here is a great tutorial that shows you how to do this: https://www.atlassian.com/git/tutorials/setting-up-a-repository\\nRemember to ignore large database, .csv, and .gz files, and other files that should not be saved to a repository. Use .gitignore for this: https://www.atlassian.com/git/tutorials/saving-changes/gitignore NEVER store passwords or keys in a git repo (even if that repo is set to private).\\nThis is also a great resource: https://dangitgit.com/',\n",
       "  'section': 'General course-related questions',\n",
       "  'question': 'How do I use Git / GitHub for this course?',\n",
       "  'course': 'data-engineering-zoomcamp'},\n",
       " {'text': \"No, you can only get a certificate if you finish the course with a “live” cohort. We don't award certificates for the self-paced mode. The reason is you need to peer-review capstone(s) after submitting a project. You can only peer-review projects at the time the course is running.\",\n",
       "  'section': 'General course-related questions',\n",
       "  'question': 'Certificate - Can I follow the course in a self-paced mode and get a certificate?',\n",
       "  'course': 'data-engineering-zoomcamp'}]"
      ]
     },
     "execution_count": 18,
     "metadata": {},
     "output_type": "execute_result"
    }
   ],
   "source": [
    "search_results"
   ]
  },
  {
   "cell_type": "code",
   "execution_count": 19,
   "id": "56de24a7",
   "metadata": {},
   "outputs": [],
   "source": [
    "import json\n",
    "\n",
    "search_results_json = json.dumps(search_results)"
   ]
  },
  {
   "cell_type": "code",
   "execution_count": 20,
   "id": "57fd8f95",
   "metadata": {},
   "outputs": [],
   "source": [
    "function_call_output = {\n",
    "    \"type\": \"function_call_output\",\n",
    "    \"call_id\": call.call_id,\n",
    "    \"output\": search_results_json\n",
    "}"
   ]
  },
  {
   "cell_type": "code",
   "execution_count": 21,
   "id": "b326802a",
   "metadata": {},
   "outputs": [],
   "source": [
    "chat_messages.append(function_call_output)"
   ]
  },
  {
   "cell_type": "markdown",
   "id": "c4b9822e",
   "metadata": {},
   "source": [
    "Our Context:"
   ]
  },
  {
   "cell_type": "code",
   "execution_count": 22,
   "id": "766609bb",
   "metadata": {},
   "outputs": [
    {
     "data": {
      "text/plain": [
       "[{'role': 'developer',\n",
       "  'content': \"You're a course teaching assistant. \\nYou're given a question from a course student and your task is to answer it.\"},\n",
       " {'role': 'user',\n",
       "  'content': 'I just discovered the course. Can I still join it?'},\n",
       " ResponseFunctionToolCall(arguments='{\"query\":\"join course late\"}', call_id='call_zF0JNjTuRClQs1Nsg014uwSl', name='search', type='function_call', id='fc_0bf4dea73580b9c90068f07cf18378819ca9fc7be6322a1f18', status='completed'),\n",
       " {'type': 'function_call_output',\n",
       "  'call_id': 'call_zF0JNjTuRClQs1Nsg014uwSl',\n",
       "  'output': '[{\"text\": \"No, late submissions are not allowed. But if the form is still not closed and it\\\\u2019s after the due date, you can still submit the homework. confirm your submission by the date-timestamp on the Course page.y\\\\nOlder news:[source1] [source2]\", \"section\": \"General course-related questions\", \"question\": \"Homework - Are late submissions of homework allowed?\", \"course\": \"data-engineering-zoomcamp\"}, {\"text\": \"Yes, even if you don\\'t register, you\\'re still eligible to submit the homeworks.\\\\nBe aware, however, that there will be deadlines for turning in the final projects. So don\\'t leave everything for the last minute.\", \"section\": \"General course-related questions\", \"question\": \"Course - Can I still join the course after the start date?\", \"course\": \"data-engineering-zoomcamp\"}, {\"text\": \"The purpose of this document is to capture frequently asked technical questions\\\\nThe exact day and hour of the course will be 15th Jan 2024 at 17h00. The course will start with the first  \\\\u201cOffice Hours\\'\\' live.1\\\\nSubscribe to course public Google Calendar (it works from Desktop only).\\\\nRegister before the course starts using this link.\\\\nJoin the course Telegram channel with announcements.\\\\nDon\\\\u2019t forget to register in DataTalks.Club\\'s Slack and join the channel.\", \"section\": \"General course-related questions\", \"question\": \"Course - When will the course start?\", \"course\": \"data-engineering-zoomcamp\"}, {\"text\": \"After you create a GitHub account, you should clone the course repo to your local machine using the process outlined in this video: Git for Everybody: How to Clone a Repository from GitHub\\\\nHaving this local repository on your computer will make it easy for you to access the instructors\\\\u2019 code and make pull requests (if you want to add your own notes or make changes to the course content).\\\\nYou will probably also create your own repositories that host your notes, versions of your file, to do this. Here is a great tutorial that shows you how to do this: https://www.atlassian.com/git/tutorials/setting-up-a-repository\\\\nRemember to ignore large database, .csv, and .gz files, and other files that should not be saved to a repository. Use .gitignore for this: https://www.atlassian.com/git/tutorials/saving-changes/gitignore NEVER store passwords or keys in a git repo (even if that repo is set to private).\\\\nThis is also a great resource: https://dangitgit.com/\", \"section\": \"General course-related questions\", \"question\": \"How do I use Git / GitHub for this course?\", \"course\": \"data-engineering-zoomcamp\"}, {\"text\": \"No, you can only get a certificate if you finish the course with a \\\\u201clive\\\\u201d cohort. We don\\'t award certificates for the self-paced mode. The reason is you need to peer-review capstone(s) after submitting a project. You can only peer-review projects at the time the course is running.\", \"section\": \"General course-related questions\", \"question\": \"Certificate - Can I follow the course in a self-paced mode and get a certificate?\", \"course\": \"data-engineering-zoomcamp\"}]'}]"
      ]
     },
     "execution_count": 22,
     "metadata": {},
     "output_type": "execute_result"
    }
   ],
   "source": [
    "chat_messages"
   ]
  },
  {
   "cell_type": "code",
   "execution_count": 23,
   "id": "e583feac",
   "metadata": {},
   "outputs": [],
   "source": [
    "response = openai_client.responses.create(\n",
    "    model=\"gpt-4o-mini\",\n",
    "    input=chat_messages,\n",
    "    tools=tools\n",
    ")"
   ]
  },
  {
   "cell_type": "code",
   "execution_count": 24,
   "id": "668cd45e",
   "metadata": {},
   "outputs": [
    {
     "data": {
      "text/plain": [
       "\"Yes, you can still join the course even after the start date. It's important to note that while you can submit homework, there will be deadlines for turning in final projects. Just make sure not to leave everything until the last minute! If you have further questions, feel free to ask.\""
      ]
     },
     "execution_count": 24,
     "metadata": {},
     "output_type": "execute_result"
    }
   ],
   "source": [
    "response.output_text"
   ]
  },
  {
   "cell_type": "markdown",
   "id": "e1a473a4",
   "metadata": {},
   "source": [
    "### Adding Explanations\n",
    "\n",
    "Giving the LLM the instruction to explain why it wants to call a function"
   ]
  },
  {
   "cell_type": "code",
   "execution_count": 25,
   "id": "0cc0f3a0",
   "metadata": {},
   "outputs": [],
   "source": [
    "instructions = \"\"\"\n",
    "You're a course teaching assistant. \n",
    "You're given a question from a course student and your task is to answer it.\n",
    "\n",
    "If you want to look up the answer, explain why before making the call\n",
    "\"\"\".strip()"
   ]
  },
  {
   "cell_type": "code",
   "execution_count": 26,
   "id": "eabc3717",
   "metadata": {},
   "outputs": [],
   "source": [
    "tools = [search_tool]\n",
    "\n",
    "question = 'I just discovered the course. Can I still join it?'\n",
    "\n",
    "chat_messages = [\n",
    "    {\"role\": \"developer\", \"content\": instructions},\n",
    "    {\"role\": \"user\", \"content\": question}\n",
    "]\n",
    "\n",
    "response = openai_client.responses.create(\n",
    "    model='gpt-4o-mini',\n",
    "    input=chat_messages,\n",
    "    tools=tools\n",
    ")"
   ]
  },
  {
   "cell_type": "code",
   "execution_count": 27,
   "id": "ff951cc1",
   "metadata": {},
   "outputs": [
    {
     "data": {
      "text/plain": [
       "\"I'll look up the course FAQ to see if there are any details about late enrollment or joining the course after it has started. This will help provide you with accurate and up-to-date information. Let me check that for you.\""
      ]
     },
     "execution_count": 27,
     "metadata": {},
     "output_type": "execute_result"
    }
   ],
   "source": [
    "response.output[0].content[0].text"
   ]
  },
  {
   "cell_type": "code",
   "execution_count": 28,
   "id": "10e3b82b",
   "metadata": {},
   "outputs": [
    {
     "data": {
      "text/plain": [
       "[ResponseOutputMessage(id='msg_02d40262773a7a410068f080eadde481a099d03f133ad0bbf4', content=[ResponseOutputText(annotations=[], text=\"I'll look up the course FAQ to see if there are any details about late enrollment or joining the course after it has started. This will help provide you with accurate and up-to-date information. Let me check that for you.\", type='output_text', logprobs=[])], role='assistant', status='completed', type='message'),\n",
       " ResponseFunctionToolCall(arguments='{\"query\":\"join the course late enrollment\"}', call_id='call_zOKdbDgJiUVGdI0GZIC0t15e', name='search', type='function_call', id='fc_02d40262773a7a410068f080ebc1d881a0a9a8a7c1a5279b2c', status='completed')]"
      ]
     },
     "execution_count": 28,
     "metadata": {},
     "output_type": "execute_result"
    }
   ],
   "source": [
    "response.output"
   ]
  },
  {
   "cell_type": "markdown",
   "id": "ef86f1f1",
   "metadata": {},
   "source": [
    "### Agentic Loop"
   ]
  },
  {
   "cell_type": "code",
   "execution_count": 31,
   "id": "90047fc4",
   "metadata": {},
   "outputs": [],
   "source": [
    "def make_call(call):\n",
    "    args = json.loads(call.arguments)\n",
    "    f_name = call.name\n",
    "\n",
    "    if f_name == 'search':\n",
    "        result = search(**args)\n",
    "    else:\n",
    "        raise NameError(f'unknown function {f_name}')\n",
    "    \n",
    "    return {\n",
    "        \"type\": \"function_call_output\",\n",
    "        \"call_id\": call.call_id,\n",
    "        \"output\": json.dumps(result),\n",
    "    }"
   ]
  },
  {
   "cell_type": "code",
   "execution_count": null,
   "id": "309595d1",
   "metadata": {},
   "outputs": [
    {
     "name": "stdout",
     "output_type": "stream",
     "text": [
      "Assistant:\n",
      "I'll look up the course FAQ to see if there are any details about late enrollment or joining the course after it has started. This will help provide you with accurate and up-to-date information. Let me check that for you.\n",
      "\n",
      "Function call:\n",
      "   search {\"query\":\"join the course late enrollment\"}\n",
      "\n"
     ]
    }
   ],
   "source": [
    "has_function_calls = False\n",
    "\n",
    "chat_messages.extend(response.output)\n",
    "\n",
    "for item in response.output:\n",
    "    if item.type == 'message':\n",
    "        print('Assistant:')\n",
    "        print(item.content[0].text)\n",
    "        print()\n",
    "    \n",
    "    if item.type == 'function_call':\n",
    "        has_function_calls = True\n",
    "        print(\"Function call:\")\n",
    "        print(\"  \", item.name, item.arguments)\n",
    "        print()\n",
    "        function_call_output = make_call(item)\n",
    "        chat_messages.append(function_call_output)"
   ]
  },
  {
   "cell_type": "code",
   "execution_count": 37,
   "id": "b1a17d57",
   "metadata": {},
   "outputs": [],
   "source": [
    "response = openai_client.responses.create(\n",
    "    model=\"gpt-4o-mini\",\n",
    "    input=chat_messages,\n",
    "    tools=tools\n",
    ")"
   ]
  },
  {
   "cell_type": "code",
   "execution_count": 41,
   "id": "202589b7",
   "metadata": {},
   "outputs": [
    {
     "name": "stdout",
     "output_type": "stream",
     "text": [
      "Assistant:\n",
      "Yes, you can still join the course even if you just discovered it after it started. While late submissions for assignments are generally not accepted, you are still eligible to submit the homework as long as the course registration is open. Just be aware that there will be deadlines for final projects, so it’s advisable not to procrastinate.\n",
      "\n",
      "If you’re interested, make sure to register as soon as you can!\n",
      "\n"
     ]
    }
   ],
   "source": [
    "for item in response.output:\n",
    "    if item.type == 'message':\n",
    "        print('Assistant:')\n",
    "        print(item.content[0].text)\n",
    "        print()\n",
    "    \n",
    "    if item.type == 'function_call':\n",
    "        print(\"Function call:\")\n",
    "        print(\"  \", item.name, item.arguments)\n",
    "        print()\n",
    "        function_call_output = make_call(item)\n",
    "        chat_messages.append(function_call_output)"
   ]
  },
  {
   "cell_type": "markdown",
   "id": "4465ba60",
   "metadata": {},
   "source": [
    "#### Implementation"
   ]
  },
  {
   "cell_type": "code",
   "execution_count": null,
   "id": "a4fd522a",
   "metadata": {},
   "outputs": [
    {
     "name": "stdout",
     "output_type": "stream",
     "text": [
      "Assistant:\n",
      "To provide the best answer regarding whether a student can still join the course, I'll look up the relevant details in the FAQ database. This will help clarify any deadlines, requirements, or conditions for joining the course at this point in the term. I'll check that information now.\n",
      "\n",
      "Function call:\n",
      "ResponseFunctionToolCall(arguments='{\"query\":\"join course late enrollment\"}', call_id='call_uf7Defqeog1UE804SxEtHxni', name='search', type='function_call', id='fc_0750bb6c2d7f95360068f084a48c0481908087b297fbe29ea7', status='completed')\n",
      "    Output:\n",
      "    [{\"text\": \"No, late submissions are not allowed. But if the form is still not closed and it\\u2019s after the due date, you can still submit the homework. confirm your submission by the date-timestamp on the Course page.y\\nOlder news:[source1] [source2]\", \"section\": \"General course-related questions\", \"question\": \"Homework - Are late submissions of homework allowed?\", \"course\": \"data-engineering-zoomcamp\"}, {\"text\": \"Yes, even if you don't register, you're still eligible to submit the homeworks.\\nBe aware, however, that there will be deadlines for turning in the final projects. So don't leave everything for the last minute.\", \"section\": \"General course-related questions\", \"question\": \"Course - Can I still join the course after the start date?\", \"course\": \"data-engineering-zoomcamp\"}, {\"text\": \"The purpose of this document is to capture frequently asked technical questions\\nThe exact day and hour of the course will be 15th Jan 2024 at 17h00. The course will start with the first  \\u201cOffice Hours'' live.1\\nSubscribe to course public Google Calendar (it works from Desktop only).\\nRegister before the course starts using this link.\\nJoin the course Telegram channel with announcements.\\nDon\\u2019t forget to register in DataTalks.Club's Slack and join the channel.\", \"section\": \"General course-related questions\", \"question\": \"Course - When will the course start?\", \"course\": \"data-engineering-zoomcamp\"}, {\"text\": \"After you create a GitHub account, you should clone the course repo to your local machine using the process outlined in this video: Git for Everybody: How to Clone a Repository from GitHub\\nHaving this local repository on your computer will make it easy for you to access the instructors\\u2019 code and make pull requests (if you want to add your own notes or make changes to the course content).\\nYou will probably also create your own repositories that host your notes, versions of your file, to do this. Here is a great tutorial that shows you how to do this: https://www.atlassian.com/git/tutorials/setting-up-a-repository\\nRemember to ignore large database, .csv, and .gz files, and other files that should not be saved to a repository. Use .gitignore for this: https://www.atlassian.com/git/tutorials/saving-changes/gitignore NEVER store passwords or keys in a git repo (even if that repo is set to private).\\nThis is also a great resource: https://dangitgit.com/\", \"section\": \"General course-related questions\", \"question\": \"How do I use Git / GitHub for this course?\", \"course\": \"data-engineering-zoomcamp\"}, {\"text\": \"No, you can only get a certificate if you finish the course with a \\u201clive\\u201d cohort. We don't award certificates for the self-paced mode. The reason is you need to peer-review capstone(s) after submitting a project. You can only peer-review projects at the time the course is running.\", \"section\": \"General course-related questions\", \"question\": \"Certificate - Can I follow the course in a self-paced mode and get a certificate?\", \"course\": \"data-engineering-zoomcamp\"}]\n",
      "\n",
      "Assistant:\n",
      "Yes, you can still join the course even after the official start date. While there may be deadlines for final projects, you're eligible to submit your homework even without prior registration. However, it's best not to leave everything until the last minute.\n",
      "\n",
      "If you have any other questions or need assistance with the registration process, feel free to ask!\n",
      "\n"
     ]
    }
   ],
   "source": [
    "question = 'I just discovered the course. Can I still join it?'\n",
    "\n",
    "chat_messages = [\n",
    "    {\"role\": \"developer\", \"content\": instructions},\n",
    "    {\"role\": \"user\", \"content\": question}\n",
    "]\n",
    "\n",
    "# The \"agent\" loop\n",
    "while True:\n",
    "    response = openai_client.responses.create(\n",
    "        model='gpt-4o-mini',\n",
    "        input=chat_messages,\n",
    "        tools=tools\n",
    "    )\n",
    "\n",
    "    has_function_calls = False\n",
    "\n",
    "    # Add response to chat history for LLM's \"memory\"\n",
    "    chat_messages.extend(response.output)\n",
    "\n",
    "    for entry in response.output:\n",
    "        if entry.type == \"function_call\":\n",
    "            print('Function call:')\n",
    "            print(entry)\n",
    "            result = make_call(entry)\n",
    "            print('   ', 'Output:')\n",
    "            print('   ', result['output'])\n",
    "            chat_messages.append(result)\n",
    "            has_function_calls = True\n",
    "            print()\n",
    "\n",
    "        elif entry.type == \"message\":\n",
    "            print('Assistant:')\n",
    "            print(entry.content[0].text)\n",
    "            print()\n",
    "\n",
    "    if not has_function_calls:\n",
    "        break \n"
   ]
  }
 ],
 "metadata": {
  "kernelspec": {
   "display_name": "ai-bootcamp",
   "language": "python",
   "name": "python3"
  },
  "language_info": {
   "codemirror_mode": {
    "name": "ipython",
    "version": 3
   },
   "file_extension": ".py",
   "mimetype": "text/x-python",
   "name": "python",
   "nbconvert_exporter": "python",
   "pygments_lexer": "ipython3",
   "version": "3.13.1"
  }
 },
 "nbformat": 4,
 "nbformat_minor": 5
}
