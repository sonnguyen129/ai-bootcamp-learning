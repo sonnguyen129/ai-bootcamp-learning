{
 "cells": [
  {
   "cell_type": "markdown",
   "id": "df2e0de2",
   "metadata": {},
   "source": [
    "# Deep Research Agent with Pydantic AI"
   ]
  },
  {
   "cell_type": "markdown",
   "id": "7b71ff1f",
   "metadata": {},
   "source": [
    "Our agent will:\n",
    "\n",
    "- Start with the user's initial question\n",
    "- Explore the topic through multiple search queries\n",
    "- Generate follow-up questions based on initial results\n",
    "- Expand the search to cover related and complementary topics\n",
    "- Synthesize findings into a comprehensive research report"
   ]
  },
  {
   "cell_type": "markdown",
   "id": "fc754dcb",
   "metadata": {},
   "source": [
    "## Setting Up the Dataset\n",
    "\n",
    "We'll use the [DataTalks.Club podcast archive](https://www.youtube.com/playlist?list=PL3MmuxUbc_hK60wsCyvrEK2RjQsUi4Oa_) as our knowledge base."
   ]
  },
  {
   "cell_type": "code",
   "execution_count": 2,
   "id": "98bee6b3",
   "metadata": {},
   "outputs": [],
   "source": [
    "from pathlib import Path\n",
    "\n",
    "data_folder = Path('../data_cache/youtube_videos/')\n",
    "data_files = sorted(data_folder.glob('*.txt'))"
   ]
  },
  {
   "cell_type": "code",
   "execution_count": 4,
   "id": "7cd49366",
   "metadata": {},
   "outputs": [
    {
     "data": {
      "text/plain": [
       "94"
      ]
     },
     "execution_count": 4,
     "metadata": {},
     "output_type": "execute_result"
    }
   ],
   "source": [
    "len(data_files)"
   ]
  },
  {
   "cell_type": "markdown",
   "id": "446115e5",
   "metadata": {},
   "source": [
    "Read and chunk the transcripts:"
   ]
  },
  {
   "cell_type": "code",
   "execution_count": 5,
   "id": "21ef8c4a",
   "metadata": {},
   "outputs": [
    {
     "data": {
      "application/vnd.jupyter.widget-view+json": {
       "model_id": "69254451cb4947a9bcb7f567445dc2df",
       "version_major": 2,
       "version_minor": 0
      },
      "text/plain": [
       "  0%|          | 0/94 [00:00<?, ?it/s]"
      ]
     },
     "metadata": {},
     "output_type": "display_data"
    }
   ],
   "source": [
    "import docs\n",
    "from tqdm.auto import tqdm\n",
    "\n",
    "documents = []\n",
    "\n",
    "for f in tqdm(data_files):\n",
    "    filename = f.name\n",
    "    video_id, _ = filename.split('.')\n",
    "    content = f.read_text(encoding='utf-8')\n",
    "    chunks = docs.sliding_window(content, size=3000, step=1500)\n",
    "\n",
    "    for chunk in chunks:\n",
    "        chunk['video_id'] = video_id\n",
    "        documents.append(chunk)"
   ]
  },
  {
   "cell_type": "code",
   "execution_count": 6,
   "id": "0d2ec1eb",
   "metadata": {},
   "outputs": [
    {
     "data": {
      "text/plain": [
       "3756"
      ]
     },
     "execution_count": 6,
     "metadata": {},
     "output_type": "execute_result"
    }
   ],
   "source": [
    "len(documents)"
   ]
  },
  {
   "cell_type": "code",
   "execution_count": 7,
   "id": "b10fbad8",
   "metadata": {},
   "outputs": [
    {
     "data": {
      "text/plain": [
       "{'start': 42000,\n",
       " 'content': \"always recommend this because\\n44:05 sometimes we just cannot think about\\n44:07 something there's maybe a little thing\\n44:08 we missed\\n44:10 yeah so so I I think it's always an\\n44:14 incremental work really to you know make\\n44:17 things better and so on but I think this\\n44:19 you know this is the same as in life and\\n44:21 in business\\n44:23 yeah and um there is one quite Hot Topic\\n44:28 these days these llms right so everyone\\n44:30 is talking about the lamps large\\n44:32 language models we actually we were in\\n44:35 our podcast we were pretty late to the\\n44:37 party but recently we had two podcast\\n44:39 interviews that were about our lamps so\\n44:42 better late than never\\n44:44 and yeah I guess all the lamps are kind\\n44:46 of hot because of charge BT\\n44:49 um at least this is when I noticed them\\n44:53 so before when it was just gpt3 it was\\n44:56 like okay so what but when I saw chargpd\\n44:59 it like completely changed my perception\\n45:01 off yeah what these models could do and\\n45:05 you recently gave a talk I don't know\\n45:07 how recently but you did at some point\\n45:09 give a talk about causality and the note\\n45:12 B and you tested LMS with causal\\n45:15 questions\\n45:16 can you tell us more about this talk can\\n45:19 you summarize it for us\\n45:21 yeah sure so so since the the stock a\\n45:26 lot has changed in the research\\n45:27 community and also in the llm space\\n45:29 something has changed so\\n45:31 um so I will give you a summary of the\\n45:33 talk and then also a short summary of\\n45:35 where we are today\\n45:37 um in the talk we we discussed the idea\\n45:41 of\\n45:43 combining natural language processing\\n45:45 with with causality in particular large\\n45:48 language models with causality\\n45:51 and\\n45:54 there are a couple of ways that you can\\n45:56 think about this intersection of those\\n45:58 two areas\\n46:00 one is about\\n46:01 uh using large language models\\n46:06 as elements of a causal system\\n46:09 perhaps it's some kind of a feature\\n46:11 extractor in the role of a feature\\n46:14 extractors\\n46:18 yeah okay so so let's let's think about\\n46:21 let's think about a more concrete\\n46:23 example maybe we have a situation that\\n46:27 we have a\\n46:29 a program\\n46:31 that helps people that that aims to help\\n46:35 people\\n46:36 write more clearly\\n46:39 okay so so there's a maybe a two maybe a\\n46:42 one week or two week Workshop people are\\n46:45 uh sitting writing you know learning how\\n46:48 to write more clearly and so on and so\\n46:50 on without llms just a workshop like\\n46:53 just people yeah just people right so\\n46:55 they learn and then it's the outcome of\\n46:57 this Workshop they work out knowing how\\n46:59 to create a better copy create a better\\n47:02 article yes yes and now and now we might\\n47:06 be interested in evaluating if this\\n47:08 Workshop worked so if if they are\\n47:11 writing more clearly really and if you\\n47:13 want to do it at scale it's it's\\n47:15 challenging\\n47:16 to and to engage to hire many people\\n47:18 that will do the evaluation for us\\n47:21 beca\",\n",
       " 'video_id': '0I2FHH95Ofs'}"
      ]
     },
     "execution_count": 7,
     "metadata": {},
     "output_type": "execute_result"
    }
   ],
   "source": [
    "documents[100]"
   ]
  },
  {
   "cell_type": "markdown",
   "id": "e24be2e2",
   "metadata": {},
   "source": [
    "## Indexing the Documents"
   ]
  },
  {
   "cell_type": "code",
   "execution_count": 8,
   "id": "673d5d2f",
   "metadata": {},
   "outputs": [
    {
     "data": {
      "text/plain": [
       "<minsearch.minsearch.Index at 0x123bef230>"
      ]
     },
     "execution_count": 8,
     "metadata": {},
     "output_type": "execute_result"
    }
   ],
   "source": [
    "from minsearch import Index\n",
    "\n",
    "index = Index(\n",
    "    text_fields=[\"content\"],\n",
    "    keyword_fields=[\"video_id\"]\n",
    ")\n",
    "\n",
    "index.fit(documents)\n"
   ]
  },
  {
   "cell_type": "code",
   "execution_count": 9,
   "id": "bcded652",
   "metadata": {},
   "outputs": [
    {
     "data": {
      "text/plain": [
       "[{'start': 22500,\n",
       "  'content': \"at kind of\\n22:43 money you need for the next 12 to 18\\n22:45 months for example it depends so I want\\n22:48 to hire I don't know two three\\n22:50 developers I want to hire\\n22:52 whatever I need this amount amount of\\n22:54 money for that I want to make some\\n22:56 marketing is I don't know experiments I\\n22:58 need some money for that so at all I\\n22:59 need XYZ type of money\\n23:02 um and then I go out with this I need\\n23:05 this because all the investors is going\\n23:06 to ask you what do you need that money\\n23:08 for and if you don't have a good answer\\n23:09 to that that's not a good sign\\n23:12 um if you don't know what you what\\n23:13 you're raising for so and and then yeah\\n23:16 the the investors have their process and\\n23:18 the investors normally if you have a\\n23:20 venture fund and you invest typically in\\n23:23 one with the money from One Fund you\\n23:26 invest into 20 to 40\\n23:29 um startups depends always on this on\\n23:31 the around you're investing in but in\\n23:33 early stage I would say most of them\\n23:35 invest in like 20 to 30 to 40 uh\\n23:38 different uh companies\\n23:41 okay so yeah\\n23:44 you focus on\\n23:47 Angel rounds preced rounds and yes seat\\n23:50 rounds early stage when companies do not\\n23:53 have much in terms of money in terms of\\n23:56 investment yet and you focus on open\\n23:58 source right yes so um our main focus so\\n24:04 so our general focus is is everything\\n24:06 that is B2B software but our Niche is uh\\n24:10 developer stack developer tooling and a\\n24:12 lot of this is open source because open\\n24:14 source is a great go to market model for\\n24:17 those kind of companies but not\\n24:18 everything we do is open source but not\\n24:20 every everything we do is even developer\\n24:24 tooling but the most of it so\\n24:27 um yeah as you said we're doing pre-seed\\n24:29 seed seed runs mainly in Europe\\n24:32 so we would also do but mainly in Europe\\n24:35 um and so yeah we we really like as I\\n24:39 said in this Niche\\n24:41 um Founders and companies for the strong\\n24:43 focus on Community Driven go-to markets\\n24:46 as for example open source\\n24:49 um and this includes like we did stuff\\n24:53 in AI infrastructure in cyber security\\n24:55 and cloud in data streaming so\\n24:58 um but we also did uh to mention here\\n25:01 maybe not not interesting for everyone\\n25:02 watching this but we also did\\n25:04 investments in in other areas of B2B\\n25:07 software like inter Logistics data\\n25:09 privacy Robotics and and so on and so\\n25:12 forth so but the main focus I would say\\n25:14 80 of what we do nowadays is in this\\n25:17 niche\\n25:18 we already talked about angels so they\\n25:21 are individuals who have some money and\\n25:24 they invest maybe not so much money but\\n25:27 they have some money and they say okay\\n25:28 these startups promising here's\\n25:31 a small\\n25:32 investment\\n25:34 and there are also VC funds these are\\n25:37 larger organizations with more money so\\n25:39 they\\n25:40 I guess typically invest they give more\\n25:43 money to companies and there are also\\n25:\",\n",
       "  'video_id': '7Bg1JQLnCao'},\n",
       " {'start': 10500,\n",
       "  'content': \"8 from the beginning right if you're\\n11:00 thinking about bootstrapping something\\n11:03 um which can be definitely a great way\\n11:05 because also\\n11:06 um I I have to say not every startup not\\n11:09 every Tech business even is a venture\\n11:12 case\\n11:13 um but\\n11:15 um it definitely is something that you\\n11:17 that you can have a salary that you can\\n11:19 make a living from your startup from day\\n11:22 one\\n11:23 um yeah at least from day one when you\\n11:25 raised\\n11:27 um so yeah that's that's why I would say\\n11:29 they're needed so investors give\\n11:32 Founders money to run a company to build\\n11:35 the startup and the alternative you\\n11:37 mentioned is bootstrapping when the\\n11:40 founders do not\\n11:42 look for external investment in external\\n11:45 money they try to earn money themselves\\n11:47 and then from this money so they focus\\n11:49 on profitability and then from this\\n11:51 money the way\\n11:53 themselves the salary and then hire the\\n11:55 first employees but it's not always easy\\n11:57 and I guess especially in open source\\n11:59 right so open source is usually\\n12:01 if you do not directly from day one make\\n12:04 money out of Open Source yeah it's and\\n12:07 it's slower and it it's also defocuses\\n12:10 you from from growing and building\\n12:13 um because you always have to think\\n12:14 about oh how can I um I don't know\\n12:17 Finance the next month\\n12:19 um and so on but\\n12:21 um yeah that that are the two main main\\n12:23 ways I I mean there are some people who\\n12:25 already made some money who can who can\\n12:27 Finance their own Venture but then\\n12:29 they're their own investors I would say\\n12:31 so this also goes in the category of of\\n12:34 having an investor\\n12:36 which means let's say I work at the\\n12:39 usual full-time job I set aside some\\n12:41 money\\n12:42 and then with this money I can just run\\n12:44 a company then I don't need an investor\\n12:47 yeah you have a you have something for\\n12:49 the start but it really depends on what\\n12:52 kind of business you want to build it\\n12:53 really differs um if you have a\\n12:55 bootstrap business building uh like in\\n12:57 profitability from day one maybe a\\n13:00 little bit slower but\\n13:02 um you definitely know what to do their\\n13:06 Adventure is is also you really have to\\n13:09 know that it it is a little bit\\n13:10 different if you take money the first\\n13:12 time from an investor you definitely\\n13:14 need to have it a second and a third\\n13:16 time so it's\\n13:19 um you have to decide for which way you\\n13:20 want to go but especially in in the\\n13:23 um yeah in the ecosystem right now and\\n13:25 in data and open source I would say\\n13:27 there are so many\\n13:29 um yeah you really have to see\\n13:31 um where you find your spot in terms of\\n13:33 competition and positioning and it's\\n13:35 hard to compete\\n13:37 um without having having any money in\\n13:39 your pockets\\n13:41 just uh it's not one of the questions we\\n13:44 plan to ask you but maybe you have some\\n13:46 ideas why do companies actually\\n13:49 do busin\",\n",
       "  'video_id': '7Bg1JQLnCao'},\n",
       " {'start': 46500,\n",
       "  'content': \"t was a\\n44:46 like a changing point so we made clear\\n44:48 that we are able to earn money with what\\n44:51 we do and then it was a much easier um\\n44:55 discussion I mean so for your latest\\n44:57 round it was you were already profitable\\n45:00 so it was easier to convince investors\\n45:02 that they should give you money honestly\\n45:04 we had to because after all the crisis\\n45:07 we had in the world right um the\\n45:09 investors also changed so the investors\\n45:12 don't it was not enough for them to just\\n45:15 see good visions and good papers and\\n45:17 good slides they also want to see that\\n45:19 you are able to run a business that you\\n45:21 can earn money over the last months and\\n45:24 years that became very important for\\n45:25 them so I think in nowadays that's one\\n45:28 of the main things you have to do as\\n45:30 like company or founder um to really\\n45:33 prove okay we have the possibility to\\n45:35 make money not just a good idea and we\\n45:38 don't need 100 million to get the first\\n45:40 money we also like have good business\\n45:43 cases already\\n45:45 here but honestly that's a tough way\\n45:49 right because I mean you need to find\\n45:50 first customers then which are willing\\n45:52 to pay money even if you're probably not\\n45:54 ready with everything right but it's an\\n45:57 operational problem you can definitely\\n46:00 solve how do you earn money now is it by\\n46:04 affiliation with something or like\\n46:06 people need to pay recommendation so we\\n46:09 integrate our AI to different partners\\n46:12 right so we do the health checks on\\n46:14 different point of yeah sales so first\\n46:17 of all of course in our own application\\n46:18 skin where is the digital clinic but we\\n46:21 also have other applications um and\\n46:24 other Point of Sales where people are\\n46:25 using our technology so it's more like a\\n46:29 yeah I would say software as a service\\n46:30 model um and this is definitely where\\n46:33 you have better use cases in\\n46:36 right so if I detect some skin problems\\n46:39 and then the app recommends me like a\\n46:41 specific treatment specific cream or\\n46:45 like something and buy it throughout the\\n46:47 app then you get a cut right yeah also\\n46:50 yeah okay and right now you have enough\\n46:54 money to like\\n46:56 yeah sorry no I was just want to say but\\n46:59 of course in health it's more regulated\\n47:00 so you have to make a difference between\\n47:02 like lifestyle product like skin care\\n47:05 and skin Health but I mean that's for\\n47:08 for now pretty much too much the only\\n47:10 thing I just want to let the people know\\n47:12 is that um of course it depends on the\\n47:15 market the regulation and the software\\n47:17 you created right but make sure that you\\n47:20 can show that your technology has the\\n47:22 potential to earn\\n47:24 money this is what my dermatologist\\n47:28 recommended me like I will not show what\\n47:30 exactly it\\n47:31 is have to like a\\n47:34 spray I think they also get in a gut\\n47:36 like because they like when I go to the\\n47:38 office the the pro\",\n",
       "  'video_id': 'whpkDmVVGUE'},\n",
       " {'start': 3000,\n",
       "  'content': \"th and the the longer\\n3:24 one uh two years. So it really depends\\n3:27 and uh I see various clients, various\\n3:31 domain. I'm not specialized in business\\n3:34 uh in a special this business. So I work\\n3:37 in um banks uh uh special uh automotive\\n3:44 and also on different data science\\n3:47 context which can be like predict sales\\n3:50 or uh explanability models. So yeah it's\\n3:55 a a whole uh yeah I'm not specialized\\n3:59 and it's a choice actually. Mhm. So the\\n4:02 way it works is a customer approaches\\n4:04 IBM says hey I have this kind of project\\n4:08 uh give us some people to work on this\\n4:10 project and you uh along um with your\\n4:14 team you join the client and you work\\n4:16 with them on a particular project right\\n4:18 yes exactly usually I have I I'm working\\n4:21 on a team and um there is like two or\\n4:26 four data scientists I'm working with\\n4:29 and I'm more in the managing part now\\n4:31 but I can also do the models and help by\\n4:34 by coding usually in Python most of the\\n4:37 time.\\n4:39 What do you do as a managing partner?\\n4:41 What kind of responsibilities do you\\n4:43 have?\\n4:44 I'm not a partner but uh\\n4:46 as managing consultant right or\\n4:50 Yeah. Yes. As manager you like you\\n4:53 ensure that the models are created that\\n4:56 it fits the client's needs. uh you also\\n5:00 uh you are also uh the relation between\\n5:03 the clients and the team um like I can\\n5:08 present the results um what what we\\n5:11 achieved what is in the road map uh that\\n5:14 kind of of tasks\\n5:18 okay yeah interesting and uh I don't\\n5:20 know if you can discuss that but maybe\\n5:23 if you can um what are some interesting\\n5:27 projects that you worked on at IBM.\\n5:31 Yes. Um I I won't name the clients but\\n5:34 uh I worked for uh two years to detect\\n5:38 some laundry money and uh that was\\n5:42 laundry money.\\n5:43 Yeah.\\n5:44 Laundrying money laundering. Okay.\\n5:46 Yes. Oh yes. Sorry. I know it's\\n5:50 but uh yeah and it was very interesting\\n5:52 because I had to think as a person that\\n5:56 can do money laundering and um so I I\\n6:00 have the\\n6:02 like they say okay I have this data what\\n6:04 can I do and I was uh working on two\\n6:08 years past data so I had to build in\\n6:12 team not just me uh a model a system to\\n6:17 to detect\\n6:18 yeah strange behavior let's say\\n6:23 so how can uh you think as a money\\n6:26 launderer\\n6:28 uh but first there is some patterns that\\n6:32 are famous like I don't know you are uh\\n6:35 you do some sport with pets and you say\\n6:39 okay I think it's a tennis match for\\n6:41 example Nadal Federer and you say okay\\n6:44 Nadal is will win and you also bet that\\n6:48 Feder will win. So at in the end you\\n6:51 will have um spend some money on both.\\n6:54 So of course you will lose money but the\\n6:57 aim is not to uh for someone who want to\\n7:00 do money laundry. He doesn't want to\\n7:02 earn money but to lose the less\\n7:04 possible.\\n7:05 Mhm. Okay. That's a nice strategy.\\n7:08 Yeah. And what was interesting is that I\\n7:11 I started uh to frame the project and\",\n",
       "  'video_id': 'KsV_SVXlTo8'},\n",
       " {'start': 45000,\n",
       "  'content': \"3 scientists you can definitely send um\\n43:17 also on the website you will find our\\n43:19 like I would say info@\\n43:21 skin.co um you can just um send your CV\\n43:24 I'm happy to review it\\n43:27 and the way you spell skin is not the\\n43:29 usual way right yeah it's true it's SQ i\\n43:32 n right so you can also drop it to me on\\n43:36 LinkedIn if you cannot or make it work\\n43:39 um that's also fine every message is\\n43:41 reviewed\\n43:43 there and there's a question and it's\\n43:47 also related to my question like about\\n43:49 the size of your company how did you\\n43:51 convince the investors to F to F to fund\\n43:55 your project in digital health and what\\n43:58 were the main\\n43:59 challenges so the main challenge at\\n44:02 first was um from technology side so are\\n44:05 you really able to do that because my\\n44:07 coone and me both of us were\\n44:09 non-technical um so they were kind of\\n44:11 afraid but that was easy to handle so we\\n44:14 onboarded a great CTO we did the\\n44:17 technology everyone could test it so\\n44:19 here was the proof right I mean it was\\n44:21 not that easy but at the end of the day\\n44:23 these were the milestones and the second\\n44:25 thing is that you for us main challenge\\n44:29 was what I already mentioned like people\\n44:31 don't really believe that Healthcare\\n44:32 Solutions can be how to say sustainable\\n44:35 from business perspective um so that\\n44:38 they can earn money so for us we\\n44:40 understood we can use the AI also kind\\n44:43 of in B2B projects right and that was a\\n44:46 like a changing point so we made clear\\n44:48 that we are able to earn money with what\\n44:51 we do and then it was a much easier um\\n44:55 discussion I mean so for your latest\\n44:57 round it was you were already profitable\\n45:00 so it was easier to convince investors\\n45:02 that they should give you money honestly\\n45:04 we had to because after all the crisis\\n45:07 we had in the world right um the\\n45:09 investors also changed so the investors\\n45:12 don't it was not enough for them to just\\n45:15 see good visions and good papers and\\n45:17 good slides they also want to see that\\n45:19 you are able to run a business that you\\n45:21 can earn money over the last months and\\n45:24 years that became very important for\\n45:25 them so I think in nowadays that's one\\n45:28 of the main things you have to do as\\n45:30 like company or founder um to really\\n45:33 prove okay we have the possibility to\\n45:35 make money not just a good idea and we\\n45:38 don't need 100 million to get the first\\n45:40 money we also like have good business\\n45:43 cases already\\n45:45 here but honestly that's a tough way\\n45:49 right because I mean you need to find\\n45:50 first customers then which are willing\\n45:52 to pay money even if you're probably not\\n45:54 ready with everything right but it's an\\n45:57 operational problem you can definitely\\n46:00 solve how do you earn money now is it by\\n46:04 affiliation with something or like\\n46:06 people need to pay recommendation so we\\n46:09 integrate our AI to different par\",\n",
       "  'video_id': 'whpkDmVVGUE'},\n",
       " {'start': 4500,\n",
       "  'content': \" okay yeah interesting and uh I don't\\n5:20 know if you can discuss that but maybe\\n5:23 if you can um what are some interesting\\n5:27 projects that you worked on at IBM.\\n5:31 Yes. Um I I won't name the clients but\\n5:34 uh I worked for uh two years to detect\\n5:38 some laundry money and uh that was\\n5:42 laundry money.\\n5:43 Yeah.\\n5:44 Laundrying money laundering. Okay.\\n5:46 Yes. Oh yes. Sorry. I know it's\\n5:50 but uh yeah and it was very interesting\\n5:52 because I had to think as a person that\\n5:56 can do money laundering and um so I I\\n6:00 have the\\n6:02 like they say okay I have this data what\\n6:04 can I do and I was uh working on two\\n6:08 years past data so I had to build in\\n6:12 team not just me uh a model a system to\\n6:17 to detect\\n6:18 yeah strange behavior let's say\\n6:23 so how can uh you think as a money\\n6:26 launderer\\n6:28 uh but first there is some patterns that\\n6:32 are famous like I don't know you are uh\\n6:35 you do some sport with pets and you say\\n6:39 okay I think it's a tennis match for\\n6:41 example Nadal Federer and you say okay\\n6:44 Nadal is will win and you also bet that\\n6:48 Feder will win. So at in the end you\\n6:51 will have um spend some money on both.\\n6:54 So of course you will lose money but the\\n6:57 aim is not to uh for someone who want to\\n7:00 do money laundry. He doesn't want to\\n7:02 earn money but to lose the less\\n7:04 possible.\\n7:05 Mhm. Okay. That's a nice strategy.\\n7:08 Yeah. And what was interesting is that I\\n7:11 I started uh to frame the project and I\\n7:15 see it until the end uh the deployment\\n7:19 the deployment part. Yes.\\n7:23 Okay. Yeah, that's all quite interesting\\n7:25 and I want to ask more but that's not\\n7:28 the main topic today, right? So the main\\n7:30 topic today is what you started one year\\n7:31 ago as you said uh it's indie hacking.\\n7:35 So maybe can you tell us what indie\\n7:38 hacking actually is?\\n7:39 Uh hunting is uh when you are building\\n7:43 projects. I I'm not sure if if this is\\n7:46 the exact definition but uh it's to\\n7:49 build project and to monetize them. Um\\n7:54 so without any funding like when you\\n7:57 what was famous before because I think\\n8:00 this is a new trend. Um what was famous\\n8:04 before is you have a project you pitch\\n8:06 deck you do a pitch deck and you are\\n8:09 trying to find investors uh to invest\\n8:12 invest fund in your in your company but\\n8:16 I won't I don't do this I build uh with\\n8:21 another friend we are free actually but\\n8:24 two of us build it and the other one\\n8:27 help us with administrative\\n8:29 and legal and Um and yes we build this\\n8:34 at our on our free time. So\\n8:39 it's we don't have any pressure. We\\n8:41 don't uh we launch when we can like we\\n8:45 start we wanted to launch something this\\n8:48 week but it will be delayed but it's\\n8:51 okay. We don't have any pressure nobody\\n8:53 knows about it. So yeah that's uh my\\n8:56 definition. Mhm. So basically during uh\\n8:59 daytime you work at IBM as a manager,\\n9:02 data science manager, but after work\\n9:05 after I don't k\",\n",
       "  'video_id': 'KsV_SVXlTo8'},\n",
       " {'start': 10500,\n",
       "  'content': \"4 according to that but I did not and it's\\n10:56 like h okay but be careful. Yeah.\\n11:01 Sometimes that the body works in a funny\\n11:03 way. it's compensating and then probably\\n11:06 there was some injury that I had like I\\n11:07 don't know 20 years ago and they saw it\\n11:10 on the MRI that is supposed to cause\\n11:12 some pain but it wasn't cuz the body\\n11:16 just learned how to live with it. Yeah,\\n11:18 I I think that could be it. But I'm not\\n11:21 a medical professional so I have no\\n11:22 idea. Uh but you learned a few things\\n11:26 about MRI, right? Yes, about MRI but\\n11:29 also a lot about the medical market and\\n11:31 especially in Germany. Um I think the\\n11:34 main problem for startups is it's like a\\n11:37 cap market. It's basically kept\\n11:39 financially by um how much money people\\n11:43 pay into the system and that's the money\\n11:45 that is available. So if you make some\\n11:47 money, you take it away from someone\\n11:49 else in that market and it's not a\\n11:51 win-win situation because someone else\\n11:54 is have is going to have to lose in\\n11:56 order for you to make money which is not\\n11:59 kind of what you want in a startup. If\\n12:02 if it's like fun and successful,\\n12:05 doesn't it always work like that? So\\n12:07 there is only well in the ideal world\\n12:10 there's a finite uh finite amount of\\n12:12 money assuming that governments are not\\n12:15 printing money, right? So you're always\\n12:17 competing for for money. So if somebody\\n12:20 spends money on your product that they\\n12:22 cannot spend it on somebody else.\\n12:25 Yeah, to some extent I think that's\\n12:27 true. But you still at least it's my\\n12:29 belief you still like governments are\\n12:31 printing money. So that's one thing and\\n12:34 and the other thing is we learned that\\n12:35 from co times right? Yes. And the other\\n12:38 thing is that um like even though\\n12:41 there's there might be a finite amount\\n12:42 of money it can still move around. So if\\n12:45 you spend it on something they can spend\\n12:47 it on something else and it might come\\n12:49 back to you. And so there's some some\\n12:52 kind of win-win that's possible. And\\n12:54 sure, someone is is always going to lose\\n12:58 in some way, but the less obvious it is\\n13:02 or the less um\\n13:05 the less scary it is for your direct\\n13:07 competitors, for example, or for other\\n13:08 players in the market, the more willing\\n13:11 they are to help you um because they're\\n13:13 not seeing themselves being challenged\\n13:14 even though they might be in like\\n13:17 future.\\n13:20 What kind of stuff did you build uh at\\n13:22 the startup?\\n13:24 what kind of what things you build? So\\n13:26 you you said you learned a lot of things\\n13:28 about data engineering economics uh um\\n13:32 talking to customers and I was wondering\\n13:35 what did you actually need to do for the\\n13:38 startup when it comes to for example\\n13:40 data engineering you probably had to\\n13:42 have some sort of platform right\\n13:45 um yes but also to just start small um\\n13:48 so in a startup\",\n",
       "  'video_id': 'pkcpH5N-GP8'},\n",
       " {'start': 4500,\n",
       "  'content': \"y not give\\n5:07 into the hype to understand the\\n5:11 limitations and then be able to advise\\n5:16 uh management and the company which\\n5:18 technology they should take uh which\\n5:20 they shouldn't what's to expect from\\n5:22 this technology and what risks can be\\n5:24 connected to\\n5:27 that and why do you think there are many\\n5:30 a so-called AI experts these\\n5:32 days I assume because we have ch GPT and\\n5:36 it became so popular that everyone knows\\n5:39 now that AI is a\\n5:41 thing right I think it's from side it\\n5:45 got very accessible so before to be an\\n5:49 AI expert you at least need to know how\\n5:52 to code so there's at least some kind of\\n5:54 a mode now you need to be able to talk\\n5:58 or to to spell and then you can become a\\n6:02 prompt engineer and prompt engineer is\\n6:06 already for many people halfway the AI\\n6:08 expert don't necessarily have to spell\\n6:11 words correctly because AI will no no\\n6:14 I'm not saying gtic I I just like that\\n6:17 you somehow use a keyboard yeah and then\\n6:20 you prompt something then you create a\\n6:22 prompt library and voila you can call\\n6:26 yourself a fot leader and AI expert but\\n6:31 of course that's uh going to be not for\\n6:34 a long time like this there a lot of\\n6:36 people will um filter out the demand for\\n6:40 these drops but currently yes and the\\n6:44 other point is of course currently a lot\\n6:46 of people lots of Industry want to do\\n6:49 something with AI it's almost like a the\\n6:53 sign that you're an Innovative mod\\n6:55 company if you necessarily build an AI\\n6:59 product and it doesn't matter if AI is\\n7:01 actually applicable there but as I read\\n7:05 in one of the Articles if the only thing\\n7:07 that you have is a generative AI Hammer\\n7:10 everything looks like an generative AI\\n7:12 nail so everyone's trying to build\\n7:15 something to show to others to investors\\n7:18 to management that they have this and\\n7:20 therefore there is a demand for AI\\n7:22 experts and the more of them growing\\n7:25 like mushrooms nowadays MH around yeah I\\n7:29 just came back from a forest and because\\n7:33 the weather is uh it's very humid like\\n7:36 there's uh it's like it's not raining\\n7:39 all the time but like when you go to the\\n7:41 forest there are so many mushrooms so\\n7:44 I'm a very uh enthusiastic mushroom\\n7:48 picker I have around 10 kilograms of\\n7:51 Frozen\\n7:53 mushrooms in my fridge\\n7:56 so yeah yes this year was very good like\\n7:59 not for AI experts but also for\\n8:01 mushrooms yeah right exactly this is\\n8:03 what I wanted to say uh and yeah because\\n8:06 of this hype but uh maybe it's also a\\n8:08 good thing CU like some people who do\\n8:10 not necessarily have the programming\\n8:11 background now can\\n8:14 be how to say can make impact so we will\\n8:17 see of course in a couple of years if\\n8:19 this will still be in demand but while\\n8:21 there is demand um perhaps it's not such\\n8:24 a bad thing right I I think that's a\\n8:25 normal evolution of any area that gets\\n8:30 people who are successful will stay no\\n8:32 matte\",\n",
       "  'video_id': 'bT7-HRNCltk'},\n",
       " {'start': 9000,\n",
       "  'content': \"an to build\\n9:24 um own like like your own companies\\n9:26 definitely so we are\\n9:29 um yeah Philip and me the only really uh\\n9:31 full-time persons in the investment team\\n9:33 so\\n9:35 um it wouldn't wouldn't be so easy to to\\n9:37 build up I don't know one one company\\n9:39 per month with this team so um but\\n9:42 that's that's the story thank you\\n9:44 why are investors needed at all Kent\\n9:47 Founders just you know\\n9:51 just that companies without you yeah so\\n9:54 why are you need it yeah yeah so so\\n9:57 um venture capital in specific I think\\n10:00 investors are not needed for any type of\\n10:02 business I think\\n10:04 um you do not need to think that so\\n10:07 um but venture capital and Tech in\\n10:09 specific I would say so they they\\n10:12 provide the money for you to build up\\n10:15 the tech startups from the ground up so\\n10:18 when you start also as a first-time\\n10:21 founder you're not having that much\\n10:22 money you need to have some money to to\\n10:24 hire your first employees to get your\\n10:27 first setups to whatever you want to do\\n10:30 and\\n10:31 um\\n10:32 and to be able to do that and\\n10:35 um and not need to focus on\\n10:37 profitability right away you need some\\n10:40 kind of\\n10:41 um yeah investor investor to help you\\n10:44 um because they enable you to to focus\\n10:47 on growth and building instead of uh\\n10:49 only selling and making margin from the\\n10:52 other days and they are also\\n10:54 um they also make it possible for\\n10:56 Founders to pay themselves a salary uh\\n10:58 from the beginning right if you're\\n11:00 thinking about bootstrapping something\\n11:03 um which can be definitely a great way\\n11:05 because also\\n11:06 um I I have to say not every startup not\\n11:09 every Tech business even is a venture\\n11:12 case\\n11:13 um but\\n11:15 um it definitely is something that you\\n11:17 that you can have a salary that you can\\n11:19 make a living from your startup from day\\n11:22 one\\n11:23 um yeah at least from day one when you\\n11:25 raised\\n11:27 um so yeah that's that's why I would say\\n11:29 they're needed so investors give\\n11:32 Founders money to run a company to build\\n11:35 the startup and the alternative you\\n11:37 mentioned is bootstrapping when the\\n11:40 founders do not\\n11:42 look for external investment in external\\n11:45 money they try to earn money themselves\\n11:47 and then from this money so they focus\\n11:49 on profitability and then from this\\n11:51 money the way\\n11:53 themselves the salary and then hire the\\n11:55 first employees but it's not always easy\\n11:57 and I guess especially in open source\\n11:59 right so open source is usually\\n12:01 if you do not directly from day one make\\n12:04 money out of Open Source yeah it's and\\n12:07 it's slower and it it's also defocuses\\n12:10 you from from growing and building\\n12:13 um because you always have to think\\n12:14 about oh how can I um I don't know\\n12:17 Finance the next month\\n12:19 um and so on but\\n12:21 um yeah that that are the two main main\\n12:23 ways I I mean there are some people who\\n12:25 already \",\n",
       "  'video_id': '7Bg1JQLnCao'},\n",
       " {'start': 9000,\n",
       "  'content': \"a let's say a\\n9:19 boring repetitive work. And what we did,\\n9:23 we simulated the physics of these\\n9:25 imaging machines or imaging processes\\n9:29 and created basically synthetic data for\\n9:32 AI training purposes. Mhm. And that's\\n9:36 what we tried to monetize. Um, but the\\n9:38 like it didn't work out for several\\n9:40 reasons, but I think two of the main\\n9:43 issues were we started with a\\n9:45 technology, not a problem.\\n9:48 And later we we um realized it's not\\n9:51 really a problem um in that sense\\n9:53 because at least it was not seen as a\\n9:56 problem back then. This was before like\\n9:58 chat GPT and everything. So there was no\\n10:01 sense of generative like simulations or\\n10:03 AI or anything and a lot of these\\n10:06 medical companies they work um solely on\\n10:10 like based on like hospitals come to\\n10:13 them and tell them I want an MRI and it\\n10:16 needs these functionalities and then\\n10:18 they start building that. So there's no\\n10:20 or very little in-house\\n10:24 like research being done and thus we had\\n10:27 not really a chance to monetize uh much\\n10:30 there. Yeah. Interesting. I have very\\n10:32 funny experience with MRI. So I had some\\n10:36 problems with my back. So I went there.\\n10:38 So they did the MRI and they then the\\n10:40 doctors look at MRI and say how are you\\n10:42 not in constant agonizing pain all the\\n10:44 time?\\n10:45 It's like they found something on the\\n10:47 MRI and it's like super bad according to\\n10:50 them. So I had to have pain all the time\\n10:54 according to that but I did not and it's\\n10:56 like h okay but be careful. Yeah.\\n11:01 Sometimes that the body works in a funny\\n11:03 way. it's compensating and then probably\\n11:06 there was some injury that I had like I\\n11:07 don't know 20 years ago and they saw it\\n11:10 on the MRI that is supposed to cause\\n11:12 some pain but it wasn't cuz the body\\n11:16 just learned how to live with it. Yeah,\\n11:18 I I think that could be it. But I'm not\\n11:21 a medical professional so I have no\\n11:22 idea. Uh but you learned a few things\\n11:26 about MRI, right? Yes, about MRI but\\n11:29 also a lot about the medical market and\\n11:31 especially in Germany. Um I think the\\n11:34 main problem for startups is it's like a\\n11:37 cap market. It's basically kept\\n11:39 financially by um how much money people\\n11:43 pay into the system and that's the money\\n11:45 that is available. So if you make some\\n11:47 money, you take it away from someone\\n11:49 else in that market and it's not a\\n11:51 win-win situation because someone else\\n11:54 is have is going to have to lose in\\n11:56 order for you to make money which is not\\n11:59 kind of what you want in a startup. If\\n12:02 if it's like fun and successful,\\n12:05 doesn't it always work like that? So\\n12:07 there is only well in the ideal world\\n12:10 there's a finite uh finite amount of\\n12:12 money assuming that governments are not\\n12:15 printing money, right? So you're always\\n12:17 competing for for money. So if somebody\\n12:20 spends money on your product that t\",\n",
       "  'video_id': 'pkcpH5N-GP8'}]"
      ]
     },
     "execution_count": 9,
     "metadata": {},
     "output_type": "execute_result"
    }
   ],
   "source": [
    "index.search(\"How do i make money with AI?\")"
   ]
  },
  {
   "cell_type": "markdown",
   "id": "cef87b71",
   "metadata": {},
   "source": [
    "## Search Tool"
   ]
  },
  {
   "cell_type": "code",
   "execution_count": 10,
   "id": "621806cb",
   "metadata": {},
   "outputs": [],
   "source": [
    "from typing import Any, Dict, List, TypedDict\n",
    "\n",
    "class SearchResult(TypedDict):\n",
    "    \"\"\"Represents a single search result entry.\"\"\"\n",
    "    start: int\n",
    "    content: str\n",
    "    video_id: str\n",
    "\n",
    "\n",
    "def search(query: str) -> List[SearchResult]:\n",
    "    \"\"\"\n",
    "    Search the index for documents matching the given query.\n",
    "\n",
    "    Args:\n",
    "        query (str): The search query string.\n",
    "\n",
    "    Returns:\n",
    "        List[SearchResult]: A list of search results. Each result dictionary contains:\n",
    "            - start (int): The starting position or offset within the source file.\n",
    "            - content (str): A text excerpt or snippet containing the match.\n",
    "            - video_id (str): YouTube video ID for the snippet.\n",
    "    \"\"\"\n",
    "    return index.search(\n",
    "        query=query,\n",
    "        num_results=5,\n",
    "    )\n"
   ]
  },
  {
   "cell_type": "markdown",
   "id": "b98594d6",
   "metadata": {},
   "source": [
    "## First Research Agent"
   ]
  },
  {
   "cell_type": "code",
   "execution_count": 11,
   "id": "6bb56f06",
   "metadata": {},
   "outputs": [],
   "source": [
    "from pydantic_ai import Agent\n",
    "\n",
    "instructions = \"\"\"\n",
    "Your role is to explore the topic provided by the user as deep as possible. \n",
    "Use the search function for that, and then based on the search results, \n",
    "create more queries to explore relevant topics.\n",
    "\"\"\".strip()\n",
    "\n",
    "agent_tools = [search]\n",
    "\n",
    "agent = Agent(\n",
    "    name=\"search\",\n",
    "    instructions=instructions,\n",
    "    tools=agent_tools,\n",
    "    model='gpt-4o-mini'\n",
    ")"
   ]
  },
  {
   "cell_type": "markdown",
   "id": "4663e702",
   "metadata": {},
   "source": [
    "Test the basic agent:"
   ]
  },
  {
   "cell_type": "code",
   "execution_count": 12,
   "id": "2cafff90",
   "metadata": {},
   "outputs": [
    {
     "name": "stdout",
     "output_type": "stream",
     "text": [
      "Making money with AI can be approached from several angles, depending on your interests, skills, and resources. Here are some avenues to consider:\n",
      "\n",
      "### 1. **Startups and Entrepreneurship**\n",
      "   - **AI Product Development**: Build products that leverage AI technologies. This might be software applications that solve specific problems (like customer service automation through chatbots) or hardware integrations.\n",
      "   - **Fundraising and Investment**: Many startups look for venture capital. Demonstrating that your AI-based business has the potential to generate revenue and scale can help attract investors. Having AI tools or platforms that simplify user engagement can further entice investors.\n",
      "\n",
      "### 2. **Freelancing and Consulting**\n",
      "   - Many companies are looking for AI experts to help them implement AI solutions. You can offer consulting services to organizations needing guidance on AI technologies. This includes providing insights on which AI technologies to adopt or assisting them in AI model development.\n",
      "   - Freelancing in areas like data analysis, custom AI solutions, or implementing machine learning models can also be lucrative.\n",
      "\n",
      "### 3. **Software as a Service (SaaS)**\n",
      "   - Develop AI-driven SaaS products where customers can pay a subscription fee to use your technology. This model is prevalent in various sectors like healthcare, finance, and marketing where businesses need ongoing access to your AI solutions.\n",
      "\n",
      "### 4. **Training and Educational Content**\n",
      "   - If you have expertise in AI technologies, consider creating online courses or tutorials. The demand for AI knowledge is high, and platforms like Udemy or Coursera can be great venues for this.\n",
      "\n",
      "### 5. **Open Source Contributions**\n",
      "   - Contributing to or creating open-source projects related to AI can also lead to monetization opportunities through sponsorship, donations, or related consulting work.\n",
      "\n",
      "### 6. **Developing AI Tools and Libraries**\n",
      "   - Creating tools that assist in AI development (like libraries for data processing or model training) can be monetized through software licensing or support contracts.\n",
      "\n",
      "### 7. **Market Research and Data Analysis**\n",
      "   - Use AI for data mining and market analysis, providing insights to businesses looking to understand market trends or customer behavior.\n",
      "\n",
      "### 8. **Affiliate Marketing with AI**\n",
      "   - If you create AI applications that integrate with products through affiliate marketing (like recommending products), you can earn commissions on sales generated through your referral.\n",
      "\n",
      "### 9. **Cross-Industry Applications**\n",
      "   - AI applications can cross industries—from healthcare diagnostics to retail analytics. Exploring unique applications of AI within specific sectors can unlock niche markets.\n",
      "\n",
      "### 10. **Content Generation and Creative Uses**\n",
      "   - AI can also be used to create content (text, images, music, etc.), which can then be monetized through various platforms or direct sales.\n",
      "\n",
      "### 11. **AI-driven Personalized Marketing**\n",
      "   - Utilizing AI to provide personalized marketing solutions for businesses can lead to high conversion rates and, consequently, profitable outcomes.\n",
      "\n",
      "### Challenges and Considerations\n",
      "- **Market Understanding**: Identifying the right target market and understanding their pain points is crucial. AI should solve real problems that users are willing to pay for.\n",
      "- **Competition**: The field is becoming crowded; thus, having a unique value proposition and competitive pricing strategies is vital.\n",
      "- **Regulatory Concerns**: Particularly in sectors like healthcare, understanding the legal implications of using AI technologies is crucial.\n",
      "\n",
      "### Conclusion\n",
      "The AI landscape presents numerous opportunities for monetization. Whether through entrepreneurship, providing services, or creating educational content, there is a growing demand for AI expertise across various industries. The key is to leverage your skills and market knowledge effectively. \n",
      "\n",
      "If you're interested in specific business models or tools that utilize AI for revenue generation, I can provide further insights. Would you like to explore any specific area in detail?\n"
     ]
    }
   ],
   "source": [
    "results = await agent.run(user_prompt='how do I make money with AI?')\n",
    "print(results.output)"
   ]
  },
  {
   "cell_type": "markdown",
   "id": "0f1f21c0",
   "metadata": {},
   "source": [
    "Check wich search calls the agent made:"
   ]
  },
  {
   "cell_type": "code",
   "execution_count": 13,
   "id": "c3b82929",
   "metadata": {},
   "outputs": [
    {
     "name": "stdout",
     "output_type": "stream",
     "text": [
      "ToolCallPart(tool_name='search', args='{\"query\":\"how to make money with AI\"}', tool_call_id='call_EeiGhtIFNKJhGiE7zHfz0K5z')\n",
      "ToolCallPart(tool_name='search', args='{\"query\": \"business models using AI\"}', tool_call_id='call_5euRix5jHk5NkIOBa7zDVGZf')\n",
      "ToolCallPart(tool_name='search', args='{\"query\": \"AI in entrepreneurship\"}', tool_call_id='call_seOUHWaed17PlkywHBzDh8WK')\n",
      "ToolCallPart(tool_name='search', args='{\"query\": \"AI tools for making money\"}', tool_call_id='call_fMPpNeo62F1mh6BbzVbXASsB')\n",
      "ToolCallPart(tool_name='search', args='{\"query\": \"ways to monetize AI technology\"}', tool_call_id='call_oqUYkRaoSPSAfmmCyYdrkbNQ')\n"
     ]
    }
   ],
   "source": [
    "messages = results.all_messages()\n",
    "\n",
    "for message in messages:\n",
    "    for part in message.parts:\n",
    "        if part.part_kind == 'tool-call':\n",
    "            print(part)\n"
   ]
  },
  {
   "cell_type": "markdown",
   "id": "d960d487",
   "metadata": {},
   "source": [
    "## Improving Reasearch Depth"
   ]
  },
  {
   "cell_type": "markdown",
   "id": "6b14e404",
   "metadata": {},
   "source": [
    "Adding this to the instructions:\n",
    "\n",
    "`Don't stop until you perform at least 5 queries.`\n"
   ]
  },
  {
   "cell_type": "code",
   "execution_count": 14,
   "id": "b1bed46a",
   "metadata": {},
   "outputs": [],
   "source": [
    "instructions = \"\"\"\n",
    "Your role is to explore the topic provided by the user as deep as possible. \n",
    "Use the search function for that, and then based on the search results, \n",
    "create more queries to explore relevant topics.\n",
    "\n",
    "Don't stop until you perform at least 5 queries.\n",
    "\"\"\".strip()\n",
    "\n",
    "agent_tools = [search]\n",
    "\n",
    "agent = Agent(\n",
    "    name=\"search\",\n",
    "    instructions=instructions,\n",
    "    tools=agent_tools,\n",
    "    model='gpt-4o-mini'\n",
    ")"
   ]
  },
  {
   "cell_type": "markdown",
   "id": "dd851e72",
   "metadata": {},
   "source": [
    "To see what's happening while we're waiting for query execution, let's add an event handler:"
   ]
  },
  {
   "cell_type": "code",
   "execution_count": 15,
   "id": "bd7ad68a",
   "metadata": {},
   "outputs": [],
   "source": [
    "from pydantic_ai.messages import FunctionToolCallEvent\n",
    "\n",
    "async def print_function_calls(ctx, event):\n",
    "    # Detect nested streams\n",
    "    if hasattr(event, \"__aiter__\"):\n",
    "        async for sub in event:\n",
    "            await print_function_calls(ctx, sub)\n",
    "        return\n",
    "\n",
    "    if isinstance(event, FunctionToolCallEvent):\n",
    "        print(\"TOOL CALL:\", event.part.tool_name, event.part.args)"
   ]
  },
  {
   "cell_type": "markdown",
   "id": "fe1873aa",
   "metadata": {},
   "source": [
    "Test the imporoved agent:\n"
   ]
  },
  {
   "cell_type": "code",
   "execution_count": 16,
   "id": "30976a6f",
   "metadata": {},
   "outputs": [
    {
     "name": "stdout",
     "output_type": "stream",
     "text": [
      "TOOL CALL: search {\"query\":\"how to get started in machine learning\"}\n",
      "TOOL CALL: search {\"query\": \"best resources for learning machine learning\"}\n",
      "TOOL CALL: search {\"query\": \"common challenges in machine learning projects\"}\n",
      "TOOL CALL: search {\"query\": \"skills needed for machine learning careers\"}\n",
      "TOOL CALL: search {\"query\": \"successful machine learning projects tips\"}\n",
      "TOOL CALL: search {\"query\": \"online courses and certifications for machine learning\"}\n"
     ]
    }
   ],
   "source": [
    "question = 'how do I get into machine learning?'\n",
    "\n",
    "results = await agent.run(\n",
    "    user_prompt=question,\n",
    "    event_stream_handler=print_function_calls\n",
    ")"
   ]
  },
  {
   "cell_type": "code",
   "execution_count": 17,
   "id": "d67606e6",
   "metadata": {},
   "outputs": [
    {
     "name": "stdout",
     "output_type": "stream",
     "text": [
      "Getting into machine learning can seem daunting, but it involves several clear steps and resources. Here's a comprehensive guide based on current insights and perspectives from various professionals in the field:\n",
      "\n",
      "### 1. Understanding the Basics\n",
      "- **Start with a Foundation in Mathematics & Statistics**: A strong grasp of linear algebra, calculus, and statistics is essential, as these are the mathematical foundations of most machine learning algorithms.\n",
      "- **Programming Skills**: Familiarity with Python is often recommended since it has a rich ecosystem of libraries (e.g., NumPy, pandas, scikit-learn, TensorFlow, and PyTorch) for machine learning.\n",
      "\n",
      "### 2. Educational Resources\n",
      "- **Online Courses**: Websites like Coursera, edX, and Udacity offer valuable courses on machine learning by recognized institutions (e.g., Andrew Ng’s course on Coursera). \n",
      "- **Books**: Find a good introductory book on machine learning (like “Hands-On Machine Learning with Scikit-Learn, Keras, and TensorFlow” by Aurélien Géron) that covers both theory and practice.\n",
      "\n",
      "### 3. Practical Experience\n",
      "- **Hands-On Projects**: Build projects that interest you. Participate in competitions on platforms like Kaggle or DrivenData, which can provide real-world experience with datasets and problems.\n",
      "- **Proof of Concepts**: Learn to create proofs of concept that demonstrate the value of a machine learning solution. This will help you when seeking support for larger projects.\n",
      "\n",
      "### 4. Networking and Engagement\n",
      "- **Join Communities**: Engage with others by joining online forums and local meetups. Platforms like Reddit, Stack Overflow, or specialized Slack channels can be great for asking questions and sharing knowledge.\n",
      "- **Collaborate**: Work on team-based projects where you can develop soft skills like communication, which are just as important as technical skills in machine learning.\n",
      "\n",
      "### 5. Understanding Real-World Application Challenges\n",
      "- **Complexity of Implementation**: Understand that successfully deploying machine learning solutions involves complexities such as data generation, model training, and stakeholder buy-in. Complexity can be three times greater than typical software projects due to the need for extensive support across various business facets.\n",
      "- **Data and Domain Knowledge**: Having a thorough understanding of how data is generated and used in your specific domain will help enhance the effectiveness of models you build.\n",
      "\n",
      "### 6. Continuous Learning\n",
      "- **Stay Updated**: The field of machine learning is fast-evolving. Follow relevant newsletters, blogs, and research papers to keep up with new advancements and methodologies.\n",
      "- **Courses on Software Development**: If you're coming from a data science background, consider taking software engineering courses to better understand the software side of machine learning.\n",
      "\n",
      "### Additional Query Insights\n",
      "- **Exploring common challenges in machine learning**: Many projects fail not solely due to technical challenges but also because they don't align with business needs. Understanding domain relevance ensures the solutions you develop provide real value.\n",
      "- **Addressing skills needed for machine learning careers**: Soft skills, particularly in communication and teamwork, are highly valued alongside technical skills in data science and engineering. \n",
      "\n",
      "### Conclusion\n",
      "Starting a career in machine learning involves a mix of education, hands-on experience, networking, and staying adaptable to the ever-changing landscape of technology. Dive in with a learning mindset, and gradually build your skills through practice and community engagement.\n",
      "\n",
      "If you have specific questions or would like more detailed suggestions on any part of this process, feel free to ask!\n"
     ]
    }
   ],
   "source": [
    "print(results.output)"
   ]
  },
  {
   "cell_type": "markdown",
   "id": "023a6b53",
   "metadata": {},
   "source": [
    "## Cost Analysis"
   ]
  },
  {
   "cell_type": "code",
   "execution_count": 18,
   "id": "1ee7894f",
   "metadata": {},
   "outputs": [
    {
     "data": {
      "text/plain": [
       "RunUsage(input_tokens=28918, cache_read_tokens=4224, output_tokens=824, details={'accepted_prediction_tokens': 0, 'audio_tokens': 0, 'reasoning_tokens': 0, 'rejected_prediction_tokens': 0}, requests=3, tool_calls=6)"
      ]
     },
     "execution_count": 18,
     "metadata": {},
     "output_type": "execute_result"
    }
   ],
   "source": [
    "results.usage()"
   ]
  },
  {
   "cell_type": "code",
   "execution_count": 19,
   "id": "5321905d",
   "metadata": {},
   "outputs": [
    {
     "data": {
      "text/plain": [
       "CostInfo(input_cost=0.0043377, output_cost=0.0004944, total_cost=0.0048321)"
      ]
     },
     "execution_count": 19,
     "metadata": {},
     "output_type": "execute_result"
    }
   ],
   "source": [
    "from toyaikit.pricing import PricingConfig\n",
    "pricing = PricingConfig()\n",
    "\n",
    "usage = results.usage()\n",
    "\n",
    "pricing.calculate_cost(\n",
    "    model=agent.model.model_name,\n",
    "    input_tokens=usage.input_tokens,\n",
    "    output_tokens=usage.output_tokens\n",
    ")"
   ]
  },
  {
   "cell_type": "markdown",
   "id": "f06889dd",
   "metadata": {},
   "source": [
    "## Advanced Research Structure"
   ]
  },
  {
   "cell_type": "code",
   "execution_count": 20,
   "id": "69c67101",
   "metadata": {},
   "outputs": [],
   "source": [
    "instructions = \"\"\"\n",
    "You are a deep research agent exploring topics using a proprietary podcast/video database.\n",
    "\n",
    "GOAL\n",
    "\n",
    "Given a user question, perform a structured multi-stage exploration to deeply understand the topic and all relevant adjacent ideas.\n",
    "\n",
    "PROCESS\n",
    "\n",
    "Stage 1 — Initial Search\n",
    "\n",
    "- Take the user's question and perform 1–2 broad searches.\n",
    "- Summarize the main insights from the top results.\n",
    "- Note related subtopics or recurring ideas.\n",
    "\n",
    "Stage 2 — Expansion\n",
    "\n",
    "- Generate 5 targeted follow-up search queries based on the Stage 1 insights.\n",
    "    Example: If the user asks \"how to make money with AI\", follow-ups might be:\n",
    "    - \"AI startup business models\"\n",
    "    - \"freelancing with AI tools\"\n",
    "    - \"AI side hustles\"\n",
    "    - \"ethical considerations in AI monetization\"\n",
    "    - \"AI job opportunities\"\n",
    "- Perform each search and summarize key takeaways with references.\n",
    "\n",
    "Stage 3 — Deep Dive\n",
    "\n",
    "- Based on findings so far, generate 5 even deeper or contrasting queries.\n",
    "    These might cover debates, frameworks, case studies, or expert insights.\n",
    "- Perform these searches and extract detailed insights.\n",
    "\n",
    "\n",
    "OUTPUT FORMAT\n",
    "\n",
    "At the end, output a structured summary:\n",
    "\n",
    "**Main Question:** <original question>  \n",
    "**Overview:** A 1-paragraph synthesis of the key ideas.\n",
    "\n",
    "**Stage 1 Findings:**  \n",
    "- Bullet summaries + [reference links]\n",
    "\n",
    "**Stage 2 Expansions:**  \n",
    "- Subtopic summaries + [reference links]\n",
    "\n",
    "**Stage 3 Deep Dives:**  \n",
    "- In-depth findings or nuanced perspectives + [reference links]\n",
    "\n",
    "**References:**  \n",
    "List clickable YouTube links in this format:  \n",
    "[Title](https://www.youtube.com/watch?v=<video_id>&t=<timestamp>s)\n",
    "\n",
    "RULES\n",
    "\n",
    "- Always use `search()` to gather evidence before summarizing.\n",
    "- Derive each new query from the content of previous results.\n",
    "- Only use information returned by search() as references.\n",
    "- Always include at least 5 unique searches.\n",
    "- Prefer quality and diversity over repetition.\n",
    "\"\"\".strip()"
   ]
  },
  {
   "cell_type": "markdown",
   "id": "74cb86d7",
   "metadata": {},
   "source": [
    "## Structured Output with Pydantic Models"
   ]
  },
  {
   "cell_type": "markdown",
   "id": "71144e0d",
   "metadata": {},
   "source": [
    "Sometimes the agents quits before completing all stages. We can force it to finish all the stages with structured output: when it needs to generate a report for each stage, it'll execute all of the stages.\n",
    "\n",
    "We also can add extra instructions to the fields by using Field with descriptions. This will be read by the LLM."
   ]
  },
  {
   "cell_type": "code",
   "execution_count": 21,
   "id": "15f95e24",
   "metadata": {},
   "outputs": [],
   "source": [
    "from pydantic import BaseModel, Field\n",
    "from typing import List\n",
    "\n",
    "class Reference(BaseModel):\n",
    "    \"\"\"Citations that directly tie each claim to a verifiable source.\"\"\"\n",
    "    quote: str = Field(..., description=\"A short, verbatim quote (2–4 sentences) from the database snippet.\")\n",
    "    youtube_id: str = Field(..., description=\"Video ID\")\n",
    "    timestamp: str = Field(..., description=\"Timestamp to the exact position in the video where the quote is, 'h:mm:ss' or 'mm:ss' format.\")\n",
    "\n",
    "class Keyword(BaseModel):\n",
    "    \"\"\"Research results for a specific keyword\"\"\"\n",
    "    search_keyword: str = Field(..., description=\"Exact keyword used for search.\")\n",
    "    summary: str = Field(..., description=\"Short summary of the search result.\")\n",
    "    references: List[Reference] = Field(..., description=\"Specific references to help us track the findings of the research.\")\n",
    "    relevance_summary: str = Field(..., description=\"1 sentence for each reference explainig how it supports the keyword's summary — ensure factual consistency.\")\n",
    "    other_ideas: str = Field(..., description=\"Free-form description of related or complimentary ideas to explore in next stages.\")\n",
    "\n",
    "class StageReport(BaseModel):\n",
    "    \"\"\"Summarizes what was found during a single exploration stage.\"\"\"\n",
    "    stage: int = Field(..., description=\"Stage number (1 for initial search, 2 for expansion, 3 for deep dive).\")\n",
    "    keywords: List[Keyword] = Field(..., description=\"Search keywords \")\n",
    "    summary: str = Field(..., description=\"A concise synthesis of insights found in this stage, summarizing themes and discoveries from all queries executed in the stage.\")\n",
    "\n",
    "class Claim(BaseModel):\n",
    "    \"\"\"A factual statement supported by one specific reference.\"\"\"\n",
    "    description: str = Field(..., description=(\n",
    "        \"A short paragraph (3–4 sentences) that paraphrases the meaning of the quote in your own words. \"\n",
    "        \"It must stay faithful to the factual content of the quote — no speculation or extrapolation.\"\n",
    "    ))\n",
    "    relevance_check: str = Field(..., description=(\n",
    "        \"1–2 sentences explaining *why* this quote supports the claim — a brief justification to ensure factual grounding.\"\n",
    "    ))\n",
    "    reference: Reference = Field(..., description=(\n",
    "        \"A direct quote that explicitly supports or demonstrates the statement made in 'description'. \"\n",
    "        \"The claim should be a paraphrase or interpretation of this quote.\"\n",
    "    ))\n",
    "\n",
    "class ArticleSection(BaseModel):\n",
    "    \"\"\"One thematic part of the final article, containing multiple claims.\"\"\"\n",
    "    title: str = Field(..., description=\"A concise section title summarizing the theme.\")\n",
    "    claims: List[Claim] = Field(..., description=\"3–4 claims that explore different aspects of this section's theme.\")\n",
    "\n",
    "class ActionPoint(BaseModel):\n",
    "    \"\"\"Practical takeaways from the research.\"\"\"\n",
    "    point: str = Field(..., description=\"A concrete recommendation, insight, or action derived from the research.\")\n",
    "    relevance_check: str = Field(..., description=\"Explain how the referenced quote supports this action point — must show logical connection, not assumption.\")\n",
    "    reference: Reference = Field(..., description=\"Source supporting this action point.\")\n",
    "\n",
    "class Article(BaseModel):\n",
    "    \"\"\"The final synthesized output — a structured article summarizing all research stages.\"\"\"\n",
    "    title: str = Field(..., description=\"Compelling headline summarizing the topic and main insight (7-10 words).\")\n",
    "    introduction: str = Field(..., description=\"A short overview (3-4 paragraphs) explaining what the research explored and why it matters.\")\n",
    "    sections: List[ArticleSection] = Field(..., description=\"5-8 well-structured sections presenting grouped claims by topic.\")\n",
    "    action_points: List[ActionPoint] = Field(..., description=\"Optional 3-5 key insights or recommendations derived from the findings.\")\n",
    "    conclusion: str = Field(..., description=\"Final synthesis paragraph summarizing the broader takeaways and closing thoughts.\")\n",
    "\n",
    "class ResearchReport(BaseModel):\n",
    "    \"\"\"The complete record of exploration across all stages, culminating in the final article.\"\"\"\n",
    "    stages: List[StageReport] = Field(..., description=\"Exploration stage reports (Stage 1–3) detailing the search process.\")\n",
    "    article: Article = Field(..., description=\"The final article.\")\n"
   ]
  },
  {
   "cell_type": "markdown",
   "id": "7a18c1c2",
   "metadata": {},
   "source": [
    "Note the ordering of fields in each class.\n",
    "\n",
    "For example, in the Keyword class, we ask for summary and references before other ideas. This sequence helps the model \"think\" more systematically. It first produces one, and then it's easier for the model to generate other ideas.\n",
    "\n",
    "Another technique I used here is called \"grounding\". We do it with the relevance_check fields.\n",
    "\n",
    "The model is forced to explicitly state the relevance, so this makes sure that the references actually make sense.\n",
    "\n"
   ]
  },
  {
   "cell_type": "markdown",
   "id": "d8d9804c",
   "metadata": {},
   "source": [
    "## Final Agent"
   ]
  },
  {
   "cell_type": "code",
   "execution_count": 22,
   "id": "7caec469",
   "metadata": {},
   "outputs": [],
   "source": [
    "instructions = \"\"\"\n",
    "You are a deep research agent exploring topics using a proprietary podcast/video database.\n",
    "\n",
    "Given a user question, perform a structured, multi-stage exploration to understand\n",
    "the topic deeply and comprehensively through the database.\n",
    "\n",
    "## DATA SOURCE\n",
    "\n",
    "- You can only use the results from the `search()` function.\n",
    "- Each search result includes `video_id` and snippet text.\n",
    "- All references must link to YouTube URLs derived from the database and contain a quote\n",
    "- Do not create, infer, or guess podcast names, titles, or timestamps.\n",
    "\n",
    "## PROCESS\n",
    "\n",
    "Stage 1 — Initial Search\n",
    "\n",
    "1. Use the user's question as the first query with `search()`.\n",
    "2. Summarize the most relevant insights from the results.\n",
    "3. Identify key ideas, recurring themes, or related questions.\n",
    "\n",
    "Stage 2 — Expansion\n",
    "\n",
    "1. Generate 5-7 follow-up queries that explore related subtopics or complementary ideas.\n",
    "2. For each query, call `search()` again.\n",
    "3. Summarize the main insights from each result.\n",
    "\n",
    "Stage 3 — Deep Dive\n",
    "\n",
    "1. From the Stage 2 findings, generate 5-7 deeper or contrasting exploration queries.\n",
    "2. For each, call `search()` again and summarize findings.\n",
    "3. At the end of Stage 3, write an article that describes everything you discovered.\n",
    "\n",
    "## Exploration rules\n",
    "\n",
    "You are not allowed to stop until you perform at least 11 queries:\n",
    "\n",
    "- 1 initial query for stage 1\n",
    "- 5-7 follow up queries for stage 2\n",
    "- 5-7 deeper exploration queries for stage 3\n",
    "\n",
    "## References\n",
    "\n",
    "When generating a claim or action point:\n",
    "\n",
    "- Read the reference quote carefully.\n",
    "- Write the claim as a faithful paraphrase or inference strictly supported by the quote.\n",
    "- After each claim, provide a 1–2 sentence \"relevance_check\" explaining why the quote supports it.\n",
    "- Do not generalize or introduce new facts not mentioned in the quote.\n",
    "\n",
    "## Article\n",
    "\n",
    "- The resulting article should contain an introduction, 5-8 sections and a conclusion.\n",
    "- Each section should present 3-4 claims (backed by references) grouped by topics\n",
    "- Each claim should be a paragraph with 3-4 sentences.\n",
    "\"\"\"\n",
    "\n",
    "agent = Agent(\n",
    "    name=\"search\",\n",
    "    instructions=instructions,\n",
    "    tools=agent_tools,\n",
    "    model='gpt-4o-mini',\n",
    "    output_type=ResearchReport\n",
    ")\n"
   ]
  },
  {
   "cell_type": "markdown",
   "id": "83dc6ab9",
   "metadata": {},
   "source": [
    "## Displaying the Results"
   ]
  },
  {
   "cell_type": "markdown",
   "id": "d431fad1",
   "metadata": {},
   "source": [
    "Helper functions to format references and display results:"
   ]
  },
  {
   "cell_type": "code",
   "execution_count": 23,
   "id": "25d06df2",
   "metadata": {},
   "outputs": [],
   "source": [
    "def to_link(reference) -> str:\n",
    "    \"\"\"\n",
    "    Converts the timestamp to a YouTube URL with a proper time offset.\n",
    "    Supports both 'h:mm:ss' and 'mm:ss' formats.\n",
    "    \"\"\"\n",
    "    if not reference.timestamp:\n",
    "        return f\"https://www.youtube.com/watch?v={reference.youtube_id}\"\n",
    "\n",
    "    ts = reference.timestamp.strip()\n",
    "    if not ts:\n",
    "        return f\"https://www.youtube.com/watch?v={reference.youtube_id}\"\n",
    "\n",
    "    parts = ts.split(\":\")\n",
    "\n",
    "    try:\n",
    "        parts = [int(p) for p in parts]\n",
    "    except ValueError:\n",
    "        return f\"https://www.youtube.com/watch?v={reference.youtube_id}\"\n",
    "\n",
    "    if len(parts) == 3: # h:mm:ss\n",
    "        hours, minutes, seconds = parts\n",
    "    elif len(parts) == 2: # mm:ss\n",
    "        hours, minutes, seconds = 0, parts[0], parts[1]\n",
    "    elif len(parts) == 1:\n",
    "        hours, minutes, seconds = 0, 0, parts[0]\n",
    "\n",
    "    total_seconds = hours * 3600 + minutes * 60 + seconds\n",
    "    return f\"https://www.youtube.com/watch?v={reference.youtube_id}&t={total_seconds}s\"\n",
    "\n",
    "def diplay_reference(reference: Reference): \n",
    "    return f\"[{reference.quote}]({to_link(reference)})\" \n"
   ]
  },
  {
   "cell_type": "code",
   "execution_count": 24,
   "id": "15edecb5",
   "metadata": {},
   "outputs": [
    {
     "data": {
      "text/plain": [
       "'how do I get into machine learning?'"
      ]
     },
     "execution_count": 24,
     "metadata": {},
     "output_type": "execute_result"
    }
   ],
   "source": [
    "question"
   ]
  },
  {
   "cell_type": "markdown",
   "id": "a040c568",
   "metadata": {},
   "source": [
    "## Execute it..."
   ]
  },
  {
   "cell_type": "code",
   "execution_count": 25,
   "id": "a74951d2",
   "metadata": {},
   "outputs": [
    {
     "name": "stdout",
     "output_type": "stream",
     "text": [
      "TOOL CALL: search {\"query\":\"how to get into machine learning\"}\n",
      "TOOL CALL: search {\"query\": \"machine learning beginner resources\"}\n",
      "TOOL CALL: search {\"query\": \"skills needed for machine learning\"}\n",
      "TOOL CALL: search {\"query\": \"common pitfalls in machine learning projects\"}\n",
      "TOOL CALL: search {\"query\": \"importance of programming in machine learning\"}\n",
      "TOOL CALL: search {\"query\": \"machine learning training and education\"}\n",
      "TOOL CALL: search {\"query\": \"how to build machine learning projects\"}\n",
      "TOOL CALL: search {\"query\": \"career paths in machine learning\"}\n",
      "TOOL CALL: search {\"query\": \"best programming languages for machine learning\"}\n",
      "TOOL CALL: search {\"query\": \"essential tools for machine learning projects\"}\n",
      "TOOL CALL: search {\"query\": \"networking in machine learning community\"}\n",
      "TOOL CALL: search {\"query\": \"building machine learning portfolio\"}\n"
     ]
    }
   ],
   "source": [
    "results = await agent.run(\n",
    "    user_prompt=question,\n",
    "    event_stream_handler=print_function_calls\n",
    ")"
   ]
  },
  {
   "cell_type": "markdown",
   "id": "485ea6a6",
   "metadata": {},
   "source": [
    "Display results:"
   ]
  },
  {
   "cell_type": "code",
   "execution_count": 26,
   "id": "fa145a89",
   "metadata": {},
   "outputs": [
    {
     "name": "stdout",
     "output_type": "stream",
     "text": [
      "Stage: 1\n",
      "  keyword: how to get into machine learning\n",
      "  summary: Interpersonal communication and understanding stakeholder needs are crucial for successful machine learning projects. Executing such projects often requires complex support from various business aspects and is significantly more demanding than typical software engineering projects.\n",
      "  references: ['[a huge part of your role in machine learning is to be able to communicate back value to BU yourself...](https://www.youtube.com/watch?v=su2M058m3Lw&t=1179s)']\n",
      "Understanding the complexities of machine learning projects is essential for anyone looking to enter this field. Key skills such as communication, stakeholder engagement, and adaptability to various project needs are crucial.\n",
      "Stage: 2\n",
      "  keyword: machine learning beginner resources\n",
      "  summary: For those new to machine learning, gaining foundational knowledge is crucial. Online platforms offer courses tailored to beginners, which include coding in Python, data handling, and basic artificial intelligence concepts.\n",
      "  references: ['[there are so many ways of doing that right exactly...](https://www.youtube.com/watch?v=GifY8Zn-pnU&t=2301s)']\n",
      "  keyword: skills needed for machine learning\n",
      "  summary: Proficiency in programming languages, especially Python and R, alongside a solid foundation in statistics is often recommended for aspiring machine learning practitioners. Building models and understanding algorithms are also essential.\n",
      "  references: ['[to be able to address one part of the machine learning funnel and you have to hand off everything else...](https://www.youtube.com/watch?v=su2M058m3Lw&t=2771s)']\n",
      "  keyword: common pitfalls in machine learning projects\n",
      "  summary: Understanding the requirements and limitations of your machine learning model is essential. Many projects fail because developers build without confirming that a machine learning approach is necessary to solve the problem at hand.\n",
      "  references: [\"[don't be afraid to start without machine learning...](https://www.youtube.com/watch?v=su2M058m3Lw&t=1746s)\"]\n",
      "  keyword: importance of programming in machine learning\n",
      "  summary: Software engineering skills are critically important in machine learning, especially for deployment and maintaining models. Being able to implement and maintain robust machine learning systems is essential for long-term success.\n",
      "  references: [\"[in my experience almost everyone who's been successful in machine learning has been successful...](https://www.youtube.com/watch?v=su2M058m3Lw&t=2787s)\"]\n",
      "  keyword: networking in machine learning community\n",
      "  summary: Networking within the machine learning community is vital for knowledge sharing, finding job opportunities, and gaining mentorship. Engaging with professionals can also lead to valuable insights into industry trends.\n",
      "  references: ['[to approach for an informational interview just be specific...](https://www.youtube.com/watch?v=PchwbIs0tOg&t=2024s)']\n",
      "  keyword: building machine learning portfolio\n",
      "  summary: Creating a portfolio that showcases your projects is crucial for job applications. Including projects relevant to your target role and demonstrating a range of skills helps illustrate proficiency and commitment.\n",
      "  references: ['[none of the things that I did give me...](https://www.youtube.com/watch?v=ekG5zJioyFs&t=3180s)']\n",
      "Identifying and tackling related topics such as skills, resources, networking, and portfolio-building is essential as you explore entering the field of machine learning.\n",
      "Stage: 3\n",
      "  keyword: career paths in machine learning\n",
      "  summary: Career paths in machine learning can vary widely from research-focused roles to applied machine learning positions across industries. Understanding your interests helps clarify which path aligns best with your skill set.\n",
      "  references: ['[I realized that startups is more preferable area for me because...](https://www.youtube.com/watch?v=i-pIdekjUow&t=130s)']\n",
      "  keyword: best programming languages for machine learning\n",
      "  summary: While Python is regarded as the industry standard for machine learning due to its extensive libraries, R is also important for statistical analysis. Familiarity with both can enhance job prospects.\n",
      "  references: ['[Python and C++, although Python nowadays is probably 90% of that...](https://www.youtube.com/watch?v=PchwbIs0tOg&t=3416s)']\n",
      "  keyword: essential tools for machine learning projects\n",
      "  summary: Key tools for machine learning projects often include Jupyter Notebooks, TensorFlow, PyTorch, and cloud services. Familiarity with these tools enhances your capability to develop and deploy models.\n",
      "  references: ['[there are many projects that my projects helped me to showcase...](https://www.youtube.com/watch?v=GifY8Zn-pnU&t=2638s)']\n",
      "  keyword: networking in machine learning community\n",
      "  summary: Building relationships in the machine learning community can facilitate mentorship and knowledge sharing. It provides opportunities for growth and understanding of the industry's demands.\n",
      "  references: ['[building relationships in the right way is another important step...](https://www.youtube.com/watch?v=PchwbIs0tOg&t=3421s)']\n",
      "  keyword: building machine learning portfolio\n",
      "  summary: Portfolios should reflect relevant projects that demonstrate capabilities and understanding of machine learning concepts. Tailoring the portfolio to specific job roles can enhance chances of employment.\n",
      "  references: ['[one of these things will click something or the other will happen if...](https://www.youtube.com/watch?v=ekG5zJioyFs&t=3208s)']\n",
      "The deep dive into specific subtopics related to machine learning illustrates various paths, tools, and networking strategies essential for those looking to enter or advance in the field.\n",
      "# Your Guide to Entering the World of Machine Learning\n",
      "## Introduction\n",
      "Getting into machine learning is an exciting journey filled with opportunities to explore the vast world of data-driven decision-making. However, it can be challenging for beginners to navigate the complexities involved in developing and deploying machine learning projects. This guide highlights critical insights gathered from interviews and discussions with industry experts, revealing essential skills, networking strategies, and best practices to help you get started in machine learning. Let's explore the primary aspects of breaking into this dynamic field, ensuring that you prepare effectively in your pursuit of a career in machine learning.\n",
      "## Understanding Machine Learning Complexity\n",
      "Successful machine learning projects require a deep understanding of both the technical aspects and the organizational support needed to implement solutions effectively. It has been observed that \"the level of support that you need to execute a machine learning project that actually works and provides value is...on average three times what a typical software project does.\" This emphasizes the complex nature of machine learning endeavors and the necessity for adequate preparation and stakeholder backing to achieve success. ( [the level of support that you need to execute a machine learning project...may be 3x what a typical software project does](https://www.youtube.com/watch?v=su2M058m3Lw&t=1194s) )\n",
      "An essential first step is to communicate effectively with stakeholders about what a machine learning project entails. As stated, \"a huge part of your role in machine learning is to be able to communicate back value...\" Being able to convey the potential benefits and challenges of a project can secure the necessary resources and support. ( [a huge part of your role in machine learning is to be able to communicate back value to BU yourself...](https://www.youtube.com/watch?v=su2M058m3Lw&t=1179s) )\n",
      "Lastly, confirming the necessity of a machine learning approach is crucial before diving into complex solutions. It was advised to \"always try to start without machine learning,\" emphasizing the value of simpler methods to determine whether machine learning is indeed required to solve a problem effectively. This can prevent wasted time and resources. ( [don't be afraid to start without machine learning...](https://www.youtube.com/watch?v=su2M058m3Lw&t=1746s) )\n",
      "## The Foundation: Essential Skills and Resources\n",
      "Beginner resources are vital to build a solid foundation in machine learning. Expert consensus emphasizes that \"there are so many ways of doing that right exactly...\" which implies the diversity of learning paths available for newcomers. Online platforms and interactive courses can greatly aid budding practitioners in grasping fundamental concepts. ( [there are so many ways of doing that right exactly...](https://www.youtube.com/watch?v=GifY8Zn-pnU&t=2301s) )\n",
      "For aspirants, becoming proficient in programming languages like Python and R is essential, as these tools form the backbone of the machine learning landscape. According to industry professionals, \"most successful machine learning professionals are those who are intermediate to advanced in software development...\" This establishes programming expertise as a critical skill set. ( [most successful machine learning professionals are those who are intermediate to advanced in software development...](https://www.youtube.com/watch?v=su2M058m3Lw&t=2803s) )\n",
      "Building a portfolio of projects showcasing diverse skills is key for job applications. However, it is equally important to curate projects that demonstrate relevant competencies directly aligned with desired job roles. It was stated that \"one of these things will click something or the other will happen if you are putting in genuine effort,\" highlighting that active project engagement leads to success. ( [one of these things will click something or the other will happen if you are putting in genuine effort...](https://www.youtube.com/watch?v=ekG5zJioyFs&t=3208s) )\n",
      "## Avoiding Common Pitfalls\n",
      "Many machine learning projects tend to fail because they address problems that do not necessitate machine learning as a solution. Effective strategies emphasize that \"nine times out of ten, if you can't make a rule-based model work, the machine learning model is also not going to work.\" This reinforces the importance of validating the problem before choosing a complex solution. ( [nine times out of ten if you can't make a rule-based model work, the machine learning model is also not going to work](https://www.youtube.com/watch?v=su2M058m3Lw&t=1861s) )\n",
      "Networking emerges as a powerful strategy for gaining insights into the industry's demands and understanding specific job profiles. It has been stated that \"building relationships in the right way is another important step...\" Significantly, networking can enhance your understanding of the working environment of respective companies, thus aiding your job search. ( [building relationships in the right way is another important step...](https://www.youtube.com/watch?v=PchwbIs0tOg&t=3421s) )\n",
      "Lastly, mentorship can play a significant role in refining skills and acquiring relevant knowledge. Those who engage in mentorship often find success in their roles, as they contribute valuable insights and experiences from those who are well-acquainted with the field. As mentioned, \"it's basically like brainstorming of ideas with like-minded people...\" ( [it's basically like a brainstorming of ideas with like-minded people](https://www.youtube.com/watch?v=ekG5zJioyFs&t=3262s) )\n",
      "## Leveraging Networking Effectively\n",
      "Engaging in networking within the machine learning community is necessary, as it reveals opportunities for learning and growth. Networking should focus on making genuine connections rather than merely seeking job placements. The field has continuously proven that \"informational interviews give insight into the realities of job roles and preferred skills\" that can provide clarity on prospective career paths. ( [informational interviews give insight into the realities of job roles and preferred skills](https://www.youtube.com/watch?v=PchwbIs0tOg&t=2281s) )\n",
      "Personal connections can significantly enhance your chances of success, as they can introduce you to opportunities that may not be publicly available. It's instrumental to have regular and deliberate outreach, as \"the chance of knowing about jobs increases with your network, especially if there's an established goodwill between you and your contacts.\" ( [the chance of knowing about jobs increases with your network...](https://www.youtube.com/watch?v=PchwbIs0tOg&t=2596s) )\n",
      "The act of networking should avoid transactional relationships; instead, it should focus on building empathetic connections. Consider approaching potential contacts with the intention of genuine learning rather than simply asking for jobs or favors, as this can create a richer network in the long run. ( [the weak connections can actually help you...](https://www.youtube.com/watch?v=PchwbIs0tOg&t=2633s) )\n",
      "## Crafting an Impressive Portfolio\n",
      "For job applications, the portfolio needs to showcase projects demonstrating proficiency and applicability in machine learning. Personalized projects developed from real-world data increase your appeal to potential employers. One speaker stated, \"doing things that are unique and creative will help you stand out,\" which enhances your chances of landing interviews. ( [doing things that are unique and creative will help you stand out](https://www.youtube.com/watch?v=ekG5zJioyFs&t=3168s) )\n",
      "Both extensive personal projects and projects tailored to specific job roles can enhance your visibility in the job market. Building tools or conducting analyses relevant to the roles you aspire to can make a lasting impression on hiring personnel. It was stated that \"sharing your curiosity for this stuff during interviews ultimately showcases your genuine interest and dedication,\" which is highly valued. ( [sharing your curiosity for this stuff during interviews...](https://www.youtube.com/watch?v=ekG5zJioyFs&t=3116s) )\n",
      "## Conclusion and Next Steps\n",
      "Entering the field of machine learning requires aligning your skills, interests, and networking capabilities with industry needs. Networking with industry professionals can provide insight into available opportunities and clarify roles. ( [it's important to build relationships with the right people...](https://www.youtube.com/watch?v=PchwbIs0tOg&t=2840s) )\n",
      "Establishing a strong foundational knowledge in machine learning practices and methodologies will position you for future success. Cultivating specific skills in both programming and project management can enhance your efficacy in machine learning roles. ( [to be successful in this field, you need to be proficient in both programming and communication skills](https://www.youtube.com/watch?v=su2M058m3Lw&t=2767s) )\n",
      "## Action Points\n",
      "* Start with free online courses in machine learning to build foundational knowledge. [there are so many ways of doing that right exactly...](https://www.youtube.com/watch?v=GifY8Zn-pnU&t=2301s)\n",
      "* Develop a portfolio that reflects both individual projects and targeted applications relevant to desired job roles. [doing things that are unique and creative will help you stand out](https://www.youtube.com/watch?v=ekG5zJioyFs&t=3168s)\n",
      "* Engage with professionals through networking forums and initiatives like informational interviews. [informational interviews give insight into the realities of job roles and preferred skills](https://www.youtube.com/watch?v=PchwbIs0tOg&t=2281s)\n",
      "## Conclusion\n",
      "Entering the machine learning industry can feel overwhelming due to the complexity of the field and the breadth of knowledge required. However, following a structured approach to building essential skills, leveraging networking opportunities, and constructing a targeted portfolio can significantly increase your chances of success. With continuous learning and active engagement, you'll position yourself favorably within this dynamic and rapidly evolving domain.\n"
     ]
    }
   ],
   "source": [
    "report = results.output\n",
    "\n",
    "# Display stage-by-stage findings\n",
    "for stage in report.stages:\n",
    "    print('Stage:', stage.stage)\n",
    "    for kw in stage.keywords:\n",
    "        print('  keyword:', kw.search_keyword)\n",
    "        print('  summary:', kw.summary)\n",
    "        print('  references:', [diplay_reference(r) for r in kw.references])\n",
    "    print(stage.summary)\n",
    "\n",
    "# Display the final article\n",
    "article = report.article\n",
    "print('#', article.title)\n",
    "print('## Introduction')\n",
    "print(article.introduction)\n",
    "\n",
    "for section in article.sections:\n",
    "    print('##', section.title)\n",
    "    for claim in section.claims:\n",
    "        print(claim.description, '(', diplay_reference(claim.reference), ')')\n",
    "\n",
    "print('## Action Points')\n",
    "for action_point in article.action_points:\n",
    "    print('*', action_point.point, diplay_reference(action_point.reference))\n",
    "\n",
    "print('## Conclusion')\n",
    "print(article.conclusion)\n"
   ]
  },
  {
   "cell_type": "markdown",
   "id": "c880beed",
   "metadata": {},
   "source": [
    "Check the cost:"
   ]
  },
  {
   "cell_type": "code",
   "execution_count": 27,
   "id": "d04d9d47",
   "metadata": {},
   "outputs": [
    {
     "data": {
      "text/plain": [
       "CostInfo(input_cost=0.0127539, output_cost=0.002706, total_cost=0.0154599)"
      ]
     },
     "execution_count": 27,
     "metadata": {},
     "output_type": "execute_result"
    }
   ],
   "source": [
    "usage = results.usage()\n",
    "\n",
    "pricing.calculate_cost(\n",
    "    model=agent.model.model_name,\n",
    "    input_tokens=usage.input_tokens,\n",
    "    output_tokens=usage.output_tokens\n",
    ")"
   ]
  },
  {
   "cell_type": "markdown",
   "id": "816e1471",
   "metadata": {},
   "source": [
    "## Improvements\n",
    "\n",
    "We can improve it by splitting one single agent that's doing everyting into separate research and synthesis agents. One agent will focus purely on exploration and keyword discovery, then pass results to a synthesis agent for fact checking and article writing."
   ]
  }
 ],
 "metadata": {
  "kernelspec": {
   "display_name": "ai-bootcamp",
   "language": "python",
   "name": "python3"
  },
  "language_info": {
   "codemirror_mode": {
    "name": "ipython",
    "version": 3
   },
   "file_extension": ".py",
   "mimetype": "text/x-python",
   "name": "python",
   "nbconvert_exporter": "python",
   "pygments_lexer": "ipython3",
   "version": "3.13.1"
  }
 },
 "nbformat": 4,
 "nbformat_minor": 5
}
