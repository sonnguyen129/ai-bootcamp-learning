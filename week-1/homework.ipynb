{
 "cells": [
  {
   "cell_type": "markdown",
   "id": "a2c464c5",
   "metadata": {},
   "source": [
    "# Homework\n",
    "\n",
    "### Question 4\n",
    "\n",
    "Download the data (only for podcasts). How many records are there?"
   ]
  },
  {
   "cell_type": "code",
   "execution_count": 1,
   "id": "8a2826a2",
   "metadata": {},
   "outputs": [],
   "source": [
    "import homework as docs\n",
    "\n",
    "github_data = docs.read_github_data('DataTalksClub', 'datatalksclub.github.io')\n",
    "parsed_data = docs.parse_data(github_data)\n"
   ]
  },
  {
   "cell_type": "code",
   "execution_count": 2,
   "id": "b551c588",
   "metadata": {},
   "outputs": [
    {
     "data": {
      "text/plain": [
       "184"
      ]
     },
     "execution_count": 2,
     "metadata": {},
     "output_type": "execute_result"
    }
   ],
   "source": [
    "len(github_data)"
   ]
  },
  {
   "cell_type": "markdown",
   "id": "2c0ca8a4",
   "metadata": {},
   "source": [
    "A/ `184 records`"
   ]
  },
  {
   "cell_type": "markdown",
   "id": "99b63e47",
   "metadata": {},
   "source": [
    "### Question 5"
   ]
  },
  {
   "cell_type": "code",
   "execution_count": 218,
   "id": "d3f22d18",
   "metadata": {},
   "outputs": [],
   "source": [
    "from homework import RawRepositoryFile\n",
    "from typing import List, Dict, Any\n",
    "import frontmatter\n",
    "\n",
    "def parse_data(data_raw: List[RawRepositoryFile]) -> List[Dict[str, Any]]:\n",
    "    data_parsed = []\n",
    "    for f in data_raw:\n",
    "        post = frontmatter.loads(f.content)\n",
    "        data = post.to_dict()\n",
    "        data['filename'] = f.filename\n",
    "        data['content'] = data.get('content', '') + ''.join([t.get('line', '') for t in data.get('transcript', [])])\n",
    "        data_parsed.append(data)\n",
    "\n",
    "    return data_parsed"
   ]
  },
  {
   "cell_type": "code",
   "execution_count": 219,
   "id": "505a4071",
   "metadata": {},
   "outputs": [],
   "source": [
    "parsed_data_2 = parse_data(github_data)"
   ]
  },
  {
   "cell_type": "code",
   "execution_count": 221,
   "id": "2bd7da0e",
   "metadata": {},
   "outputs": [],
   "source": [
    "# [{'content': p } for p in paragraphs]\n",
    "chunks2 = docs.chunk_documents(parsed_data_2, 30, 15)"
   ]
  },
  {
   "cell_type": "code",
   "execution_count": 222,
   "id": "9b67e904",
   "metadata": {},
   "outputs": [
    {
     "data": {
      "text/plain": [
       "518519"
      ]
     },
     "execution_count": 222,
     "metadata": {},
     "output_type": "execute_result"
    }
   ],
   "source": [
    "len(chunks2)"
   ]
  },
  {
   "cell_type": "markdown",
   "id": "28058818",
   "metadata": {},
   "source": [
    "A/ `518519 chunks` "
   ]
  },
  {
   "cell_type": "markdown",
   "id": "6a7d965b",
   "metadata": {},
   "source": [
    "### Question 6"
   ]
  },
  {
   "cell_type": "code",
   "execution_count": 272,
   "id": "73eac4db",
   "metadata": {},
   "outputs": [
    {
     "data": {
      "text/plain": [
       "<minsearch.minsearch.Index at 0x125190710>"
      ]
     },
     "execution_count": 272,
     "metadata": {},
     "output_type": "execute_result"
    }
   ],
   "source": [
    "index2 = Index(\n",
    "    text_fields=[\"content\"],\n",
    ")\n",
    "\n",
    "index2.fit(chunks2)"
   ]
  },
  {
   "cell_type": "code",
   "execution_count": 273,
   "id": "e4178f12",
   "metadata": {},
   "outputs": [],
   "source": [
    "search2 = index2.search(\"how do I make money with AI?\", num_results=15)"
   ]
  },
  {
   "cell_type": "code",
   "execution_count": 274,
   "id": "12eb7b04",
   "metadata": {},
   "outputs": [
    {
     "data": {
      "text/plain": [
       "['The Essentials of Public Speaking for Career in Data Science',\n",
       " 'Responsible and Explainable AI',\n",
       " 'Freelancing in Machine Learning',\n",
       " 'From Open-Source Maintainer to Founder',\n",
       " 'Lessons Learned from Freelancing and Working in a Start-up',\n",
       " 'Investing in Open-Source Data Tools',\n",
       " 'Responsible and Explainable AI',\n",
       " 'New Roles and Key Skills to Monetize Machine Learning',\n",
       " 'Freelancing in Machine Learning',\n",
       " 'Data Science Career Development',\n",
       " 'From Open-Source Maintainer to Founder',\n",
       " 'Becoming a Solopreneur in Data',\n",
       " 'Accelerating the Adoption of AI through Diversity',\n",
       " 'New Roles and Key Skills to Monetize Machine Learning',\n",
       " 'From Open-Source Maintainer to Founder']"
      ]
     },
     "execution_count": 274,
     "metadata": {},
     "output_type": "execute_result"
    }
   ],
   "source": [
    "[p['title'] for p in search2]"
   ]
  },
  {
   "cell_type": "markdown",
   "id": "7bee0269",
   "metadata": {},
   "source": [
    "A/ `The Essentials of Public Speaking for Career in Data Science`"
   ]
  }
 ],
 "metadata": {
  "kernelspec": {
   "display_name": "ai-bootcamp",
   "language": "python",
   "name": "python3"
  },
  "language_info": {
   "codemirror_mode": {
    "name": "ipython",
    "version": 3
   },
   "file_extension": ".py",
   "mimetype": "text/x-python",
   "name": "python",
   "nbconvert_exporter": "python",
   "pygments_lexer": "ipython3",
   "version": "3.13.1"
  }
 },
 "nbformat": 4,
 "nbformat_minor": 5
}
