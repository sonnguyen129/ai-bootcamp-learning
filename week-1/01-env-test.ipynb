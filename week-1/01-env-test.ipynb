{
 "cells": [
  {
   "cell_type": "code",
   "execution_count": 1,
   "id": "b2413074",
   "metadata": {},
   "outputs": [],
   "source": [
    "from openai import OpenAI"
   ]
  },
  {
   "cell_type": "code",
   "execution_count": 2,
   "id": "7c883853",
   "metadata": {},
   "outputs": [],
   "source": [
    "client = OpenAI()"
   ]
  },
  {
   "cell_type": "code",
   "execution_count": null,
   "id": "c05dcf23",
   "metadata": {},
   "outputs": [
    {
     "name": "stdout",
     "output_type": "stream",
     "text": [
      "**The Dreaming Unicorn**\n",
      "\n",
      "Once upon a time, in a shimmering forest where the trees sparkled like diamonds, there lived a gentle unicorn named Lila. Lila had a coat as white as fresh snow and a mane that sparkled with all the colors of the rainbow. Every night, as the sun dipped below the horizon and the stars began to twinkle, Lila would wander to her favorite glade, where the moonlight danced on the grass.\n",
      "\n",
      "One evening, as Lila settled beneath a great oak tree, she noticed a little girl named Mia. Mia was lost and frightened, her eyes wide with tears. Lila, with her kind heart, trotted over to the girl.\n",
      "\n",
      "“Don’t be afraid,” Lila said softly. “I’m Lila, the dreaming unicorn. Would you like to come on an adventure with me?”\n",
      "\n",
      "Mia’s eyes lit up with wonder. “Oh, yes!” she exclaimed, wiping her tears. “Where will we go?”\n",
      "\n",
      "With a gentle nudge from her shimmering horn, Lila whisked Mia onto her back, and together they soared into the starry sky. They flew over sparkling rivers and lush fields, where fireflies lit up the night like tiny lanterns.\n",
      "\n",
      "As they flew, Lila shared tales of her woodland friends—the wise owl, the playful deer, and the mischievous rabbits. Mia listened, her heart swelling with joy. \n",
      "\n",
      "Eventually, they landed in a magical meadow filled with glowing flowers. “These flowers grant wishes,” Lila whispered. “Close your eyes and think of your heart’s desire.”\n",
      "\n",
      "Mia closed her eyes tightly, wishing for courage and kindness. As she opened them, the flowers pulsed with light, and a soft breeze wrapped around them like a warm embrace.\n",
      "\n",
      "Feeling braver than ever, Mia turned to Lila. “Thank you for this magical adventure!”\n",
      "\n",
      "As the night wore on, Lila took Mia back to the edge of the forest. “Remember, the magic of kindness and courage is always within you. Whenever you feel scared, just close your eyes and think of our adventure.”\n",
      "\n",
      "With a gentle nuzzle, Lila watched as Mia waved goodbye and made her way home.\n",
      "\n",
      "That night, as Mia snuggled into bed, she smiled, knowing she was never alone. She would always carry Lila’s magic in her heart.\n",
      "\n",
      "And under the watchful eyes of the twinkling stars, the dreaming unicorn soared into the night, ready for her next adventure.\n",
      "\n",
      "**The End.**\n"
     ]
    }
   ],
   "source": [
    "response = client.responses.create(\n",
    "    model=\"gpt-4o-mini\",\n",
    "    input=\"Write a short bedtime story about a unicorn.\"\n",
    ")\n",
    "\n",
    "print(response.output_text)"
   ]
  }
 ],
 "metadata": {
  "kernelspec": {
   "display_name": "ai-bootcamp",
   "language": "python",
   "name": "python3"
  },
  "language_info": {
   "codemirror_mode": {
    "name": "ipython",
    "version": 3
   },
   "file_extension": ".py",
   "mimetype": "text/x-python",
   "name": "python",
   "nbconvert_exporter": "python",
   "pygments_lexer": "ipython3",
   "version": "3.13.1"
  }
 },
 "nbformat": 4,
 "nbformat_minor": 5
}
